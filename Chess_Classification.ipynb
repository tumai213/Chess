{
  "cells": [
    {
      "cell_type": "code",
      "execution_count": 1,
      "metadata": {
        "colab": {
          "base_uri": "https://localhost:8080/"
        },
        "id": "COlgkvgZI_2E",
        "outputId": "12141783-eb65-42d3-e04b-5af193c9d6fc"
      },
      "outputs": [
        {
          "output_type": "stream",
          "name": "stdout",
          "text": [
            "Mounted at /content/drive\n"
          ]
        }
      ],
      "source": [
        "from google.colab import drive\n",
        "drive.mount('/content/drive')"
      ],
      "id": "COlgkvgZI_2E"
    },
    {
      "cell_type": "markdown",
      "metadata": {
        "id": "-LwwRqrxwMD5"
      },
      "source": [
        "### Xử lí dữ liệu ban đầu (upload chess data vào drive và dùng, không cần chạy)"
      ],
      "id": "-LwwRqrxwMD5"
    },
    {
      "cell_type": "code",
      "execution_count": null,
      "metadata": {
        "id": "55001fb5"
      },
      "outputs": [],
      "source": [
        "!pip install opencv-python"
      ],
      "id": "55001fb5"
    },
    {
      "cell_type": "code",
      "execution_count": null,
      "metadata": {
        "id": "c6dd6dd0"
      },
      "outputs": [],
      "source": [
        "!pip install pillow"
      ],
      "id": "c6dd6dd0"
    },
    {
      "cell_type": "code",
      "execution_count": null,
      "metadata": {
        "id": "0b6d4c25"
      },
      "outputs": [],
      "source": [
        "# Pillow là thư viện thao tác với hình ảnh"
      ],
      "id": "0b6d4c25"
    },
    {
      "cell_type": "code",
      "execution_count": null,
      "metadata": {
        "id": "2b4d70a3"
      },
      "outputs": [],
      "source": [
        "# os là thư viện tương tác với hệ điều hình"
      ],
      "id": "2b4d70a3"
    },
    {
      "cell_type": "code",
      "execution_count": null,
      "metadata": {
        "id": "c1d2d544"
      },
      "outputs": [],
      "source": [
        "import os"
      ],
      "id": "c1d2d544"
    },
    {
      "cell_type": "code",
      "execution_count": null,
      "metadata": {
        "id": "c1b1c847"
      },
      "outputs": [],
      "source": [
        "from PIL import Image, ImageDraw, ImageFont"
      ],
      "id": "c1b1c847"
    },
    {
      "cell_type": "code",
      "execution_count": null,
      "metadata": {
        "id": "94c529a2"
      },
      "outputs": [],
      "source": [
        "dataList = os.listdir(\"C:/Users/ADMIN/Downloads/chess_data\")"
      ],
      "id": "94c529a2"
    },
    {
      "cell_type": "code",
      "execution_count": null,
      "metadata": {
        "id": "74e77d76",
        "outputId": "56f9de6a-fdf9-4a8e-d5ea-cce7a51f7707"
      },
      "outputs": [
        {
          "name": "stdout",
          "output_type": "stream",
          "text": [
            "['bishop_resized', 'Chess', 'chest_best_model.h5', 'King', 'king-resize', 'knight-resize', 'pawn_resized', 'Queen-Resized', 'Rook-resize', 'Test', 'train', 'validation']\n"
          ]
        }
      ],
      "source": [
        "print(dataList)"
      ],
      "id": "74e77d76"
    },
    {
      "cell_type": "code",
      "execution_count": null,
      "metadata": {
        "id": "5f45cf96"
      },
      "outputs": [],
      "source": [
        "direction= \"C:/Users/ADMIN/Downloads/chess_data\""
      ],
      "id": "5f45cf96"
    },
    {
      "cell_type": "code",
      "execution_count": null,
      "metadata": {
        "id": "81a62147"
      },
      "outputs": [],
      "source": [
        "# new train data folder"
      ],
      "id": "81a62147"
    },
    {
      "cell_type": "code",
      "execution_count": null,
      "metadata": {
        "id": "26900a99"
      },
      "outputs": [],
      "source": [
        "trainData= os.path.join(direction,\"train\")\n",
        "os.mkdir(trainData)"
      ],
      "id": "26900a99"
    },
    {
      "cell_type": "code",
      "execution_count": null,
      "metadata": {
        "id": "7a20a1de"
      },
      "outputs": [],
      "source": [
        "trainBishopData= os.path.join(trainData,\"Bishop\")\n",
        "os.mkdir(trainBishopData)\n",
        "\n",
        "trainPawnData= os.path.join(trainData,\"Pawn\")\n",
        "os.mkdir(trainPawnData)\n",
        "\n",
        "trainKnightData= os.path.join(trainData,\"Knight\")\n",
        "os.mkdir(trainKnightData)\n",
        "\n",
        "trainRookData= os.path.join(trainData,\"Rook\")\n",
        "os.mkdir(trainRookData)\n",
        "\n",
        "trainQueenData= os.path.join(trainData,\"Queen\")\n",
        "os.mkdir(trainQueenData)\n",
        "\n",
        "trainKingData= os.path.join(trainData,\"King\")\n",
        "os.mkdir(trainKingData)"
      ],
      "id": "7a20a1de"
    },
    {
      "cell_type": "code",
      "execution_count": null,
      "metadata": {
        "id": "4b45d30c"
      },
      "outputs": [],
      "source": [
        "# new validation data folder"
      ],
      "id": "4b45d30c"
    },
    {
      "cell_type": "code",
      "execution_count": null,
      "metadata": {
        "id": "77b7e164"
      },
      "outputs": [],
      "source": [
        "validData= os.path.join(direction,\"validation\")\n",
        "os.mkdir(validData)"
      ],
      "id": "77b7e164"
    },
    {
      "cell_type": "code",
      "execution_count": null,
      "metadata": {
        "id": "bdc30e88"
      },
      "outputs": [],
      "source": [
        "validBishopData= os.path.join(validData,\"Bishop\")\n",
        "os.mkdir(validBishopData)\n",
        "\n",
        "validBishopData= os.path.join(validData,\"Pawn\")\n",
        "os.mkdir(validBishopData)\n",
        "\n",
        "validBishopData= os.path.join(validData,\"Knight\")\n",
        "os.mkdir(validBishopData)\n",
        "\n",
        "validBishopData= os.path.join(validData,\"Rook\")\n",
        "os.mkdir(validBishopData)\n",
        "\n",
        "validBishopData= os.path.join(validData,\"Queen\")\n",
        "os.mkdir(validBishopData)\n",
        "\n",
        "validKingData= os.path.join(validData,\"King\")\n",
        "os.mkdir(validKingData)"
      ],
      "id": "bdc30e88"
    },
    {
      "cell_type": "markdown",
      "metadata": {
        "id": "lVN0ZJgJIOuH"
      },
      "source": [
        "### CHIA DỮ LIỆU CHO TRAINING VÀ VALIDATION"
      ],
      "id": "lVN0ZJgJIOuH"
    },
    {
      "cell_type": "code",
      "execution_count": null,
      "metadata": {
        "id": "d4a79dcb"
      },
      "outputs": [],
      "source": [
        "train_ratio = 0.8\n",
        "val_ratio = test_ratio = 0.1"
      ],
      "id": "d4a79dcb"
    },
    {
      "cell_type": "code",
      "execution_count": null,
      "metadata": {
        "id": "e466b1d4"
      },
      "outputs": [],
      "source": [
        "# Bishop direction\n",
        "Bishop_source= \"/content/drive/MyDrive/chess_data/resized/bishop_resized/\"\n",
        "Bishop_train= \"/content/drive/MyDrive/chess_data/train/Bishop/\"\n",
        "Bishop_valid= \"/content/drive/MyDrive/chess_data/validation/Bishop/\"\n",
        "Bishop_test= \"/content/drive/MyDrive/chess_data/test/Bishop/\"\n",
        "\n",
        "# Knight direction\n",
        "Knight_source= \"/content/drive/MyDrive/chess_data/resized/knight_resized/\"\n",
        "Knight_train= \"/content/drive/MyDrive/chess_data/train/Knight/\"\n",
        "Knight_valid= \"/content/drive/MyDrive/chess_data/validation/Knight/\"\n",
        "Knight_test= \"/content/drive/MyDrive/chess_data/test/Knight/\"\n",
        "\n",
        "# Pawn direction\n",
        "Pawn_source= \"/content/drive/MyDrive/chess_data/resized/pawn_resized/\"\n",
        "Pawn_train= \"/content/drive/MyDrive/chess_data/train/Pawn/\"\n",
        "Pawn_valid= \"/content/drive/MyDrive/chess_data/validation/Pawn/\"\n",
        "Pawn_test= \"/content/drive/MyDrive/chess_data/test/Pawn/\"\n",
        "\n",
        "# Rook direction\n",
        "Rook_source= \"/content/drive/MyDrive/chess_data/resized/rook_resized/\"\n",
        "Rook_train= \"/content/drive/MyDrive/chess_data/train/Rook/\"\n",
        "Rook_valid= \"/content/drive/MyDrive/chess_data/validation/Rook/\"\n",
        "Rook_test= \"/content/drive/MyDrive/chess_data/test/Rook/\"\n",
        "\n",
        "# Queen direction\n",
        "Queen_source= \"/content/drive/MyDrive/chess_data/resized/queen_resized/\"\n",
        "Queen_train= \"/content/drive/MyDrive/chess_data/train/Queen/\"\n",
        "Queen_valid= \"/content/drive/MyDrive/chess_data/validation/Queen/\"\n",
        "Queen_test= \"/content/drive/MyDrive/chess_data/test/Queen/\"\n",
        "\n",
        "# King direction\n",
        "King_source= \"/content/drive/MyDrive/chess_data/resized/king_resized/\"\n",
        "King_train= \"/content/drive/MyDrive/chess_data/train/King/\"\n",
        "King_valid= \"/content/drive/MyDrive/chess_data/validation/King/\"\n",
        "King_test= \"/content/drive/MyDrive/chess_data/test/King/\"\n",
        "\n",
        "Source = [Bishop_source, Knight_source, Pawn_source, Rook_source, Queen_source, King_source]"
      ],
      "id": "e466b1d4"
    },
    {
      "cell_type": "markdown",
      "metadata": {
        "id": "UmNZikyBgkTr"
      },
      "source": [
        "**Make directory**"
      ],
      "id": "UmNZikyBgkTr"
    },
    {
      "cell_type": "code",
      "execution_count": null,
      "metadata": {
        "id": "AMp3hzTIf9Oz"
      },
      "outputs": [],
      "source": [
        "def create_directories(dir_list):\n",
        "  for dir_name in dir_list:\n",
        "    if not os.path.exists(dir_name):\n",
        "      os.makedirs(dir_name)\n",
        "    else:\n",
        "      print(f\"Directory already exists: {dir_name}\")\n",
        "dir_list = [Bishop_train, Bishop_valid,Knight_train,Knight_valid, Pawn_train, Pawn_valid, Rook_train, Rook_valid,Queen_train, Queen_valid,King_train, King_valid]\n",
        "create_directories(dir_list)"
      ],
      "id": "AMp3hzTIf9Oz"
    },
    {
      "cell_type": "code",
      "execution_count": null,
      "metadata": {
        "id": "Md_Px_Z_hP9w"
      },
      "outputs": [],
      "source": [
        "create_directories([Bishop_test, King_test, Knight_test, Pawn_test, Queen_test, Rook_test])"
      ],
      "id": "Md_Px_Z_hP9w"
    },
    {
      "cell_type": "code",
      "execution_count": null,
      "metadata": {
        "id": "f90ec25a"
      },
      "outputs": [],
      "source": [
        "import random\n",
        "import shutil\n",
        "def split_data(source, training, validation, testing):\n",
        "    # Loop through each class folder\n",
        "    images = os.listdir(source)\n",
        "    random.shuffle(images)\n",
        "      # Split images based on ratios\n",
        "    train_size = int(len(images) * train_ratio)\n",
        "    val_size = int(len(images) * val_ratio)\n",
        "    train_images, val_images, test_images = images[:train_size], images[train_size:train_size+val_size], images[train_size+val_size:]\n",
        "\n",
        "    # copy the train image\n",
        "    for filename in train_images:\n",
        "        this = source + filename\n",
        "        destination = training + filename\n",
        "        shutil.copyfile(this, destination)\n",
        "    # copy the valid image\n",
        "    for filename in val_images:\n",
        "        this = source + filename\n",
        "        destination = validation + filename\n",
        "        shutil.copyfile(this, destination)\n",
        "    # copy the test image\n",
        "    for filename in test_images:\n",
        "        this = source + filename\n",
        "        destination = testing + filename\n",
        "        shutil.copyfile(this, destination)"
      ],
      "id": "f90ec25a"
    },
    {
      "cell_type": "code",
      "execution_count": null,
      "metadata": {
        "id": "6f1e23e2"
      },
      "outputs": [],
      "source": [
        "split_data(Bishop_source, Bishop_train, Bishop_valid,Bishop_test)\n",
        "split_data(Knight_source, Knight_train, Knight_valid,Knight_test)\n",
        "split_data(Pawn_source, Pawn_train, Pawn_valid,Pawn_test)\n",
        "split_data(Rook_source, Rook_train, Rook_valid,Rook_test)\n",
        "split_data(Queen_source, Queen_train, Queen_valid,Queen_test)\n",
        "split_data(King_source, King_train, King_valid,King_test)"
      ],
      "id": "6f1e23e2"
    },
    {
      "cell_type": "code",
      "execution_count": null,
      "metadata": {
        "colab": {
          "base_uri": "https://localhost:8080/"
        },
        "id": "vOZqXs8Jivjp",
        "outputId": "cbc4d7df-a286-42be-fd85-21abae560da9"
      },
      "outputs": [
        {
          "data": {
            "text/plain": [
              "113"
            ]
          },
          "execution_count": 50,
          "metadata": {},
          "output_type": "execute_result"
        }
      ],
      "source": [
        "total_images = sum(len(files) for _, _, files in os.walk('/content/drive/MyDrive/chess_data/validation'))\n",
        "total_images"
      ],
      "id": "vOZqXs8Jivjp"
    },
    {
      "cell_type": "markdown",
      "metadata": {
        "id": "q_w7IAlOJta4"
      },
      "source": [
        "**Sau khi chia dữ liệu ở máy thì upload folder lên google drive để truy cập thông qua collab**"
      ],
      "id": "q_w7IAlOJta4"
    },
    {
      "cell_type": "code",
      "execution_count": null,
      "metadata": {
        "id": "9oFnwOLjwoAc"
      },
      "outputs": [],
      "source": [
        "# Bishop direction\n",
        "Bishop_source= \"/content/drive/MyDrive/chess_data/resized/bishop_resized/\"\n",
        "Bishop_train= \"/content/drive/MyDrive/chess_data/train/Bishop/\"\n",
        "Bishop_valid= \"/content/drive/MyDrive/chess_data/validation/Bishop/\"\n",
        "Bishop_test= \"/content/drive/MyDrive/chess_data/test/Bishop/\"\n",
        "\n",
        "# Knight direction\n",
        "Knight_source= \"/content/drive/MyDrive/chess_data/resized/knight_resized/\"\n",
        "Knight_train= \"/content/drive/MyDrive/chess_data/train/Knight/\"\n",
        "Knight_valid= \"/content/drive/MyDrive/chess_data/validation/Knight/\"\n",
        "Knight_test= \"/content/drive/MyDrive/chess_data/test/Knight/\"\n",
        "\n",
        "# Pawn direction\n",
        "Pawn_source= \"/content/drive/MyDrive/chess_data/resized/pawn_resized/\"\n",
        "Pawn_train= \"/content/drive/MyDrive/chess_data/train/Pawn/\"\n",
        "Pawn_valid= \"/content/drive/MyDrive/chess_data/validation/Pawn/\"\n",
        "Pawn_test= \"/content/drive/MyDrive/chess_data/test/Pawn/\"\n",
        "\n",
        "# Rook direction\n",
        "Rook_source= \"/content/drive/MyDrive/chess_data/resized/rook_resized/\"\n",
        "Rook_train= \"/content/drive/MyDrive/chess_data/train/Rook/\"\n",
        "Rook_valid= \"/content/drive/MyDrive/chess_data/validation/Rook/\"\n",
        "Rook_test= \"/content/drive/MyDrive/chess_data/test/Rook/\"\n",
        "\n",
        "# Queen direction\n",
        "Queen_source= \"/content/drive/MyDrive/chess_data/resized/queen_resized/\"\n",
        "Queen_train= \"/content/drive/MyDrive/chess_data/train/Queen/\"\n",
        "Queen_valid= \"/content/drive/MyDrive/chess_data/validation/Queen/\"\n",
        "Queen_test= \"/content/drive/MyDrive/chess_data/test/Queen/\"\n",
        "\n",
        "# King direction\n",
        "King_source= \"/content/drive/MyDrive/chess_data/resized/king_resized/\"\n",
        "King_train= \"/content/drive/MyDrive/chess_data/train/King/\"\n",
        "King_valid= \"/content/drive/MyDrive/chess_data/validation/King/\"\n",
        "King_test= \"/content/drive/MyDrive/chess_data/test/King/\"\n",
        "\n",
        "Source = [Bishop_source, Knight_source, Pawn_source, Rook_source, Queen_source, King_source]"
      ],
      "id": "9oFnwOLjwoAc"
    },
    {
      "cell_type": "markdown",
      "metadata": {
        "id": "uQveB0DDacrV"
      },
      "source": [],
      "id": "uQveB0DDacrV"
    },
    {
      "cell_type": "code",
      "execution_count": null,
      "metadata": {
        "id": "TFi9bFS3KHXA"
      },
      "outputs": [],
      "source": [
        "import os\n",
        "from os import listdir\n",
        "from os.path import isfile, join\n",
        "import pandas as pd\n",
        "import matplotlib.pyplot as plt"
      ],
      "id": "TFi9bFS3KHXA"
    },
    {
      "cell_type": "code",
      "execution_count": null,
      "metadata": {
        "colab": {
          "base_uri": "https://localhost:8080/",
          "height": 583
        },
        "id": "-uZDbKxdKjRp",
        "outputId": "54bba482-5eb9-4cc3-f94b-a3783d387982"
      },
      "outputs": [
        {
          "data": {
            "image/png": "[encoded data removed]",
            "text/plain": [
              "<Figure size 800x600 with 1 Axes>"
            ]
          },
          "metadata": {},
          "output_type": "display_data"
        },
        {
          "name": "stdout",
          "output_type": "stream",
          "text": [
            "{'Bishop': 183, 'Knight': 203, 'Pawn': 168, 'Rook': 194, 'Queen': 208, 'King': 201}\n"
          ]
        }
      ],
      "source": [
        "def dataShow(Source, image_counts={}, name=\"\"):\n",
        "  for folder in Source:\n",
        "    chess = ((str(folder).split(\"/\")[-2]).split(\"_\")[0]).title()\n",
        "    files = listdir(folder)\n",
        "    for filename in files:\n",
        "        if filename.lower().endswith(('.jpg', '.jpeg', '.png')):\n",
        "          if chess in image_counts:\n",
        "            image_counts[chess] += 1\n",
        "          else:\n",
        "            image_counts[chess] = 1\n",
        "  df = pd.DataFrame.from_dict(image_counts, orient='index', columns=['Count'])\n",
        "  df = df.sort_values('Count', ascending=False)\n",
        "\n",
        "  plt.figure(figsize=(8, 6))\n",
        "  plt.bar(df.index, df['Count'])\n",
        "  plt.xlabel('Tên ảnh')\n",
        "  plt.ylabel('Số lượng')\n",
        "  plt.title(f'Số lượng ảnh của tập {name}')\n",
        "  # Add text object with bbox for positioning\n",
        "  plt.text(4, 200, f\"Tổng số lượng: {sum(image_counts.values())}\", ha='center', va='center', bbox=dict(boxstyle='round', facecolor='white', alpha=0.9))\n",
        "  plt.show()\n",
        "image_counts={}\n",
        "dataShow(Source, image_counts, 'Gốc')\n",
        "print(image_counts)"
      ],
      "id": "-uZDbKxdKjRp"
    },
    {
      "cell_type": "code",
      "execution_count": null,
      "metadata": {
        "colab": {
          "base_uri": "https://localhost:8080/"
        },
        "id": "NHppIqbWxjQe",
        "outputId": "e7b06670-1420-440e-a5c5-663d43a9c1c3"
      },
      "outputs": [
        {
          "name": "stdout",
          "output_type": "stream",
          "text": [
            "1157\n"
          ]
        }
      ],
      "source": [
        "print(sum(image_counts.values()))"
      ],
      "id": "NHppIqbWxjQe"
    },
    {
      "cell_type": "markdown",
      "metadata": {
        "id": "qKT4KQNtxk4v"
      },
      "source": [
        "### Tăng sinh dữ liệu (Dùng kỹ thuật Albumentation)"
      ],
      "id": "qKT4KQNtxk4v"
    },
    {
      "cell_type": "code",
      "execution_count": null,
      "metadata": {
        "id": "a7521477"
      },
      "outputs": [],
      "source": [
        "!pip install albumentations --quiet\n",
        "!pip install colorama --quiet\n",
        "!pip install opencv-python --quiet"
      ],
      "id": "a7521477"
    },
    {
      "cell_type": "code",
      "execution_count": null,
      "metadata": {
        "colab": {
          "base_uri": "https://localhost:8080/"
        },
        "id": "7whZtb3Brkql",
        "outputId": "4869ca0c-2589-4ea0-f5b2-6d06d66f6c8f"
      },
      "outputs": [
        {
          "name": "stderr",
          "output_type": "stream",
          "text": [
            "/usr/local/lib/python3.10/dist-packages/albumentations/augmentations/blur/transforms.py:184: UserWarning: blur_limit and sigma_limit minimum value can not be both equal to 0. blur_limit minimum value changed to 3.\n",
            "  warnings.warn(\n"
          ]
        }
      ],
      "source": [
        "import albumentations as A\n",
        "import cv2\n",
        "from colorama import Fore, Back, Style\n",
        "import os\n",
        "# Declare an augmentation pipeline\n",
        "transforms_1 = A.Compose([\n",
        "            A.Rotate(limit=40),\n",
        "            A.RandomBrightnessContrast(brightness_limit=0.1, contrast_limit=0.1, p=0.5),\n",
        "            A.HueSaturationValue(hue_shift_limit=20, sat_shift_limit=30, val_shift_limit=20, p=0.5),\n",
        "            A.HorizontalFlip()\n",
        "        ])\n",
        "transforms_2 = A.Compose([\n",
        "        A.HorizontalFlip(p=0.5),  # Random horizontal flip\n",
        "        A.VerticalFlip(p=0.5),     # Random vertical flip\n",
        "        A.RandomRotate90(p=0.5),   # Random rotation by 90, 180, or 270 degrees\n",
        "        A.ShiftScaleRotate(shift_limit=0.05, scale_limit=0.1, rotate_limit=10, p=0.5),\n",
        "                            # Random shift, scale, and rotation within specified limits\n",
        "        A.ElasticTransform(alpha=0.1, sigma=0.1, alpha_affine=0.1, p=0.5),\n",
        "                            # Elastic deformation with moderate distortion\n",
        "        A.RandomBrightnessContrast(brightness_limit=0.05, contrast_limit=0.1, p=0.5),\n",
        "                            # Random adjustments to brightness and contrast\n",
        "        A.RandomGamma(gamma_limit=0.2, p=0.5),   # Random gamma correction\n",
        "        A.GaussianBlur(blur_limit=7, p=0.5),        # Random Gaussian blur\n",
        "        A.CLAHE(p=0.5)            # Contrast limited adaptive histogram equalization\n",
        "    ])\n",
        "\n"
      ],
      "id": "7whZtb3Brkql"
    },
    {
      "cell_type": "code",
      "execution_count": null,
      "metadata": {
        "colab": {
          "base_uri": "https://localhost:8080/",
          "height": 451
        },
        "id": "sUbIs-EoaiTq",
        "outputId": "46e40e6d-b67a-4d69-d944-0f3953f9afb3"
      },
      "outputs": [
        {
          "data": {
            "image/png": "[encoded data removed]",
            "text/plain": [
              "<Figure size 640x480 with 1 Axes>"
            ]
          },
          "metadata": {},
          "output_type": "display_data"
        },
        {
          "data": {
            "text/plain": [
              "True"
            ]
          },
          "execution_count": 61,
          "metadata": {},
          "output_type": "execute_result"
        }
      ],
      "source": [
        "import matplotlib.pyplot as plt\n",
        "import numpy as np\n",
        "image_dir= '/content/drive/MyDrive/ahu'\n",
        "image= plt.imread(os.path.join(image_dir, '00000138_resized.jpg'))\n",
        "#cv2.cvtColor(image, cv2.COLOR_BGR2RGB)\n",
        "transformed= transforms_2(image=image)\n",
        "# Phải có hàng dưới để lấy dữ liệu đã transform\n",
        "transformed_image = transformed[\"image\"]\n",
        "plt.imshow(transformed_image)\n",
        "plt.show()\n",
        "base_name, _ = os.path.splitext('00000138_resized.jpg')\n",
        "output_path = os.path.join('/content/drive/MyDrive/test', f\"{base_name}_augmented.jpg\")\n",
        "transformed_image = transformed_image.astype(np.uint8)\n",
        "transformed_image=cv2.cvtColor(transformed_image, cv2.COLOR_RGB2BGR)\n",
        "#transformed_image = np.clip(transformed_image, 0, 255)\n",
        "cv2.imwrite(output_path, transformed_image)"
      ],
      "id": "sUbIs-EoaiTq"
    },
    {
      "cell_type": "markdown",
      "metadata": {
        "id": "LcXQqkHysTMI"
      },
      "source": [
        "**Hàm tăng sinh dữ liệu**"
      ],
      "id": "LcXQqkHysTMI"
    },
    {
      "cell_type": "code",
      "execution_count": null,
      "metadata": {
        "id": "QhiKOggXA5FW"
      },
      "outputs": [],
      "source": [
        "import matplotlib.pyplot as plt\n",
        "import numpy as np\n",
        "\n",
        "def augmentation(input_dir, output_dir, augmentation):\n",
        "  if not os.path.exists(output_dir):\n",
        "    os.makedirs(output_dir)\n",
        "  for filename in os.listdir(image_dir):\n",
        "    if filename.lower().endswith(('.jpg', '.jpeg', '.png')):\n",
        "      # Read the image\n",
        "      image = cv2.imread(os.path.join(image_dir, filename))\n",
        "\n",
        "      # Augment the image\n",
        "      augmented_image = augmentation(image=image)\n",
        "      transformed_image = augmented_image[\"image\"]\n",
        "      # Get filename without extension\n",
        "      base_name, _ = os.path.splitext(filename)\n",
        "\n",
        "      # Create output path with same filename and extension\n",
        "      output_path = os.path.join(output_dir, f\"{base_name}_augmented.jpg\")\n",
        "      if os.path.exists(output_path):\n",
        "        base_name, _ = os.path.splitext(output_path)\n",
        "        output_path = os.path.join(output_dir, f\"{base_name}(1).jpg\")\n",
        "\n",
        "      transformed_image = transformed_image.astype(np.uint8)\n",
        "      transformed_image=cv2.cvtColor(transformed_image, cv2.COLOR_RGB2BGR)\n",
        "      # Save the augmented image\n",
        "      cv2.imwrite(output_path, transformed_image)\n"
      ],
      "id": "QhiKOggXA5FW"
    },
    {
      "cell_type": "markdown",
      "metadata": {
        "id": "YvgSZyR48AX7"
      },
      "source": [
        "####**Thực hiện tăng sinh cho các folder (không chạy lại)**"
      ],
      "id": "YvgSZyR48AX7"
    },
    {
      "cell_type": "code",
      "execution_count": null,
      "metadata": {
        "id": "aJRq-SQHEDW8"
      },
      "outputs": [],
      "source": [
        "%%capture\n",
        "image_dir = \"/content/drive/MyDrive/chess_data/train/Bishop\"\n",
        "output_dir = \"/content/drive/MyDrive/chess_data/train/Bishop_aug\"\n",
        "augmentation(image_dir, output_dir, transforms_1)\n",
        "augmentation(image_dir, output_dir, transforms_2)"
      ],
      "id": "aJRq-SQHEDW8"
    },
    {
      "cell_type": "code",
      "execution_count": null,
      "metadata": {
        "id": "IagasEhyvVuC"
      },
      "outputs": [],
      "source": [
        "%%capture\n",
        "image_dir = \"/content/drive/MyDrive/chess_data/train/King\"\n",
        "output_dir = \"/content/drive/MyDrive/chess_data/train/King_aug\"\n",
        "augmentation(image_dir, output_dir, transforms_1)\n",
        "augmentation(image_dir, output_dir, transforms_2)"
      ],
      "id": "IagasEhyvVuC"
    },
    {
      "cell_type": "code",
      "execution_count": null,
      "metadata": {
        "id": "628PvidXvltV"
      },
      "outputs": [],
      "source": [
        "# Không show kết quả\n",
        "%%capture\n",
        "image_dir = \"/content/drive/MyDrive/chess_data/train/Knight\"\n",
        "output_dir = \"/content/drive/MyDrive/chess_data/train/Knight_aug\"\n",
        "augmentation(image_dir, output_dir, transforms_1)\n",
        "augmentation(image_dir, output_dir, transforms_2)"
      ],
      "id": "628PvidXvltV"
    },
    {
      "cell_type": "code",
      "execution_count": null,
      "metadata": {
        "id": "MNJf1fNdv2MS"
      },
      "outputs": [],
      "source": [
        "%%capture\n",
        "image_dir = \"/content/drive/MyDrive/chess_data/train/Pawn\"\n",
        "output_dir = \"/content/drive/MyDrive/chess_data/train/Pawn_aug\"\n",
        "augmentation(image_dir, output_dir, transforms_1)\n",
        "augmentation(image_dir, output_dir, transforms_2)"
      ],
      "id": "MNJf1fNdv2MS"
    },
    {
      "cell_type": "code",
      "execution_count": null,
      "metadata": {
        "id": "R-IJkfIfv54h"
      },
      "outputs": [],
      "source": [
        "%%capture\n",
        "image_dir = \"/content/drive/MyDrive/chess_data/train/Queen\"\n",
        "output_dir = \"/content/drive/MyDrive/chess_data/train/Queen_aug\"\n",
        "augmentation(image_dir, output_dir, transforms_1)\n",
        "augmentation(image_dir, output_dir, transforms_2)"
      ],
      "id": "R-IJkfIfv54h"
    },
    {
      "cell_type": "code",
      "execution_count": null,
      "metadata": {
        "id": "dv4sc7Y0v9iG"
      },
      "outputs": [],
      "source": [
        "%%capture\n",
        "image_dir = \"/content/drive/MyDrive/chess_data/train/Rook\"\n",
        "output_dir = \"/content/drive/MyDrive/chess_data/train/Rook_aug\"\n",
        "augmentation(image_dir, output_dir, transforms_1)\n",
        "augmentation(image_dir, output_dir, transforms_2)"
      ],
      "id": "dv4sc7Y0v9iG"
    },
    {
      "cell_type": "markdown",
      "metadata": {
        "id": "CavxR1R0qcEx"
      },
      "source": [
        "**Xóa folder nếu lỗi**"
      ],
      "id": "CavxR1R0qcEx"
    },
    {
      "cell_type": "code",
      "execution_count": null,
      "metadata": {
        "id": "DZ1PLLd_o7j9"
      },
      "outputs": [],
      "source": [
        "import shutil\n",
        "dir='/content/drive/MyDrive/chess_data/train/Rook_aug'\n",
        "for filename in os.listdir(dir):\n",
        "    if filename.lower().endswith(('.jpg', '.jpeg', '.png')):\n",
        "      filepath= os.path.join(dir, filename)\n",
        "      os.remove(filepath)\n",
        "shutil.rmtree(dir)"
      ],
      "id": "DZ1PLLd_o7j9"
    },
    {
      "cell_type": "markdown",
      "metadata": {
        "id": "KdMgi5IU3_Fh"
      },
      "source": [
        "####**Chuẩn bị dữ liệu**"
      ],
      "id": "KdMgi5IU3_Fh"
    },
    {
      "cell_type": "code",
      "execution_count": null,
      "metadata": {
        "id": "NFzNKDtc5MQ8"
      },
      "outputs": [],
      "source": [
        "source_folder = \"/content/drive/MyDrive/chess_data/train/Bishop\"\n",
        "destination_folder = \"/content/drive/MyDrive/chess_data/train/Bishop_aug\""
      ],
      "id": "NFzNKDtc5MQ8"
    },
    {
      "cell_type": "code",
      "execution_count": null,
      "metadata": {
        "id": "Lg9l2sQr36Ay"
      },
      "outputs": [],
      "source": [
        "\n",
        "for filename in os.listdir(source_folder):\n",
        "    if filename.endswith(\".jpg\") or filename.endswith(\".png\"):\n",
        "        shutil.copy(os.path.join(source_folder, filename), os.path.join(destination_folder, filename))"
      ],
      "id": "Lg9l2sQr36Ay"
    },
    {
      "cell_type": "code",
      "execution_count": null,
      "metadata": {
        "colab": {
          "base_uri": "https://localhost:8080/"
        },
        "id": "dE1F_HB96TqQ",
        "outputId": "9b106d56-117e-479b-aed7-fce14b084568"
      },
      "outputs": [
        {
          "name": "stdout",
          "output_type": "stream",
          "text": [
            "438\n"
          ]
        }
      ],
      "source": [
        "import glob\n",
        "image_files = glob.glob(os.path.join(destination_folder, \"*.jpg\")) + glob.glob(os.path.join(destination_folder, \"*.png\"))\n",
        "print(len(image_files))"
      ],
      "id": "dE1F_HB96TqQ"
    },
    {
      "cell_type": "code",
      "execution_count": null,
      "metadata": {
        "id": "V0zpxi5E6zdN"
      },
      "outputs": [],
      "source": [
        "source_folder = \"/content/drive/MyDrive/chess_data/train/King\"\n",
        "destination_folder = \"/content/drive/MyDrive/chess_data/train/King_aug\""
      ],
      "id": "V0zpxi5E6zdN"
    },
    {
      "cell_type": "code",
      "execution_count": null,
      "metadata": {
        "id": "PUxsz4k365h2"
      },
      "outputs": [],
      "source": [
        "for filename in os.listdir(source_folder):\n",
        "    if filename.endswith(\".jpg\") or filename.endswith(\".png\"):\n",
        "        shutil.copy(os.path.join(source_folder, filename), os.path.join(destination_folder, filename))"
      ],
      "id": "PUxsz4k365h2"
    },
    {
      "cell_type": "code",
      "execution_count": null,
      "metadata": {
        "id": "EwBLQEa96_S2"
      },
      "outputs": [],
      "source": [
        "source_folder = \"/content/drive/MyDrive/chess_data/train/Knight\"\n",
        "destination_folder = \"/content/drive/MyDrive/chess_data/train/Knight_aug\""
      ],
      "id": "EwBLQEa96_S2"
    },
    {
      "cell_type": "code",
      "execution_count": null,
      "metadata": {
        "id": "YPq4Be8A7E2P"
      },
      "outputs": [],
      "source": [
        "for filename in os.listdir(source_folder):\n",
        "    if filename.endswith(\".jpg\") or filename.endswith(\".png\"):\n",
        "        shutil.copy(os.path.join(source_folder, filename), os.path.join(destination_folder, filename))"
      ],
      "id": "YPq4Be8A7E2P"
    },
    {
      "cell_type": "code",
      "execution_count": null,
      "metadata": {
        "id": "kxL0jUoS7YAG"
      },
      "outputs": [],
      "source": [
        "source_folder = \"/content/drive/MyDrive/chess_data/train/Pawn\"\n",
        "destination_folder = \"/content/drive/MyDrive/chess_data/train/Pawn_aug\""
      ],
      "id": "kxL0jUoS7YAG"
    },
    {
      "cell_type": "code",
      "execution_count": null,
      "metadata": {
        "id": "lPshEjEY7bqi"
      },
      "outputs": [],
      "source": [
        "for filename in os.listdir(source_folder):\n",
        "    if filename.endswith(\".jpg\") or filename.endswith(\".png\"):\n",
        "        shutil.copy(os.path.join(source_folder, filename), os.path.join(destination_folder, filename))"
      ],
      "id": "lPshEjEY7bqi"
    },
    {
      "cell_type": "code",
      "execution_count": null,
      "metadata": {
        "id": "z7PnkI6x7iLG"
      },
      "outputs": [],
      "source": [
        "source_folder = \"/content/drive/MyDrive/chess_data/train/Queen\"\n",
        "destination_folder = \"/content/drive/MyDrive/chess_data/train/Queen_aug\""
      ],
      "id": "z7PnkI6x7iLG"
    },
    {
      "cell_type": "code",
      "execution_count": null,
      "metadata": {
        "id": "FH38lLC-7ntB"
      },
      "outputs": [],
      "source": [
        "for filename in os.listdir(source_folder):\n",
        "    if filename.endswith(\".jpg\") or filename.endswith(\".png\"):\n",
        "        shutil.copy(os.path.join(source_folder, filename), os.path.join(destination_folder, filename))"
      ],
      "id": "FH38lLC-7ntB"
    },
    {
      "cell_type": "code",
      "execution_count": null,
      "metadata": {
        "id": "UUXwr08Q7qGW"
      },
      "outputs": [],
      "source": [
        "source_folder = \"/content/drive/MyDrive/chess_data/train/Rook\"\n",
        "destination_folder = \"/content/drive/MyDrive/chess_data/train/Rook_aug\""
      ],
      "id": "UUXwr08Q7qGW"
    },
    {
      "cell_type": "code",
      "execution_count": null,
      "metadata": {
        "id": "CruuvSCM7uyl"
      },
      "outputs": [],
      "source": [
        "for filename in os.listdir(source_folder):\n",
        "    if filename.endswith(\".jpg\") or filename.endswith(\".png\"):\n",
        "        shutil.copy(os.path.join(source_folder, filename), os.path.join(destination_folder, filename))"
      ],
      "id": "CruuvSCM7uyl"
    },
    {
      "cell_type": "markdown",
      "metadata": {
        "id": "aeqpyb_cRBNm"
      },
      "source": [
        "**Di chuyển sang folder mới**"
      ],
      "id": "aeqpyb_cRBNm"
    },
    {
      "cell_type": "code",
      "execution_count": null,
      "metadata": {
        "colab": {
          "base_uri": "https://localhost:8080/",
          "height": 36
        },
        "id": "f2Ia6eLrQQra",
        "outputId": "88258785-e597-4ffd-a73c-afa592faee56"
      },
      "outputs": [
        {
          "data": {
            "application/vnd.google.colaboratory.intrinsic+json": {
              "type": "string"
            },
            "text/plain": [
              "'/content/drive/MyDrive/chess_data/train_aug/Bishop_aug'"
            ]
          },
          "execution_count": 56,
          "metadata": {},
          "output_type": "execute_result"
        }
      ],
      "source": [
        "train_aug ='/content/drive/MyDrive/chess_data/train_aug'\n",
        "shutil.move('/content/drive/MyDrive/chess_data/train/King_aug', train_aug)\n",
        "shutil.move('/content/drive/MyDrive/chess_data/train/Knight_aug', train_aug)\n",
        "shutil.move('/content/drive/MyDrive/chess_data/train/Pawn_aug', train_aug)\n",
        "shutil.move('/content/drive/MyDrive/chess_data/train/Queen_aug', train_aug)\n",
        "shutil.move('/content/drive/MyDrive/chess_data/train/Rook_aug', train_aug)\n",
        "shutil.move('/content/drive/MyDrive/chess_data/train/Bishop_aug', train_aug)"
      ],
      "id": "f2Ia6eLrQQra"
    },
    {
      "cell_type": "code",
      "execution_count": null,
      "metadata": {
        "colab": {
          "base_uri": "https://localhost:8080/",
          "height": 583
        },
        "id": "AKlMdyVug9jd",
        "outputId": "9e52b930-7305-43c5-89eb-9260da596835"
      },
      "outputs": [
        {
          "data": {
            "image/png": "[encoded data removed]",
            "text/plain": [
              "<Figure size 800x600 with 1 Axes>"
            ]
          },
          "metadata": {},
          "output_type": "display_data"
        },
        {
          "name": "stdout",
          "output_type": "stream",
          "text": [
            "{'Bishop': 438, 'King': 480, 'Knight': 486, 'Pawn': 402, 'Queen': 498, 'Rook': 465}\n"
          ]
        }
      ],
      "source": [
        "Bishop_source= \"/content/drive/MyDrive/chess_data/train_aug/Bishop_aug/\"\n",
        "King_source= \"/content/drive/MyDrive/chess_data/train_aug/King_aug/\"\n",
        "Knight_source= \"/content/drive/MyDrive/chess_data/train_aug/Knight_aug/\"\n",
        "Pawn_source= \"/content/drive/MyDrive/chess_data/train_aug/Pawn_aug/\"\n",
        "Queen_source= \"/content/drive/MyDrive/chess_data/train_aug/Queen_aug/\"\n",
        "Rook_source= \"/content/drive/MyDrive/chess_data/train_aug/Rook_aug/\"\n",
        "image_counts={}\n",
        "New_source=[Bishop_source,King_source,Knight_source,Pawn_source,Queen_source,Rook_source]\n",
        "dataShow(New_source, image_counts, 'tăng sinh')\n",
        "print(image_counts)"
      ],
      "id": "AKlMdyVug9jd"
    },
    {
      "cell_type": "markdown",
      "metadata": {
        "id": "pY48FcQQIe1B"
      },
      "source": [
        "### CÁC BƯỚC XÂY DỰNG MODEL\n"
      ],
      "id": "pY48FcQQIe1B"
    },
    {
      "cell_type": "code",
      "execution_count": 2,
      "metadata": {
        "id": "8483e4c6"
      },
      "outputs": [],
      "source": [
        "from tensorflow.keras.preprocessing.image import ImageDataGenerator\n",
        "from tensorflow.keras.layers import Conv2D, MaxPooling2D, Flatten, Dense, Dropout\n",
        "from tensorflow.keras.models import Sequential\n",
        "from tensorflow.keras.optimizers import Adam\n",
        "from tensorflow.keras.callbacks import EarlyStopping, ModelCheckpoint, LearningRateScheduler\n",
        "import matplotlib.pyplot as plt\n",
        "from glob import glob"
      ],
      "id": "8483e4c6"
    },
    {
      "cell_type": "code",
      "execution_count": 3,
      "metadata": {
        "id": "1c9d836c"
      },
      "outputs": [],
      "source": [
        "img_width= 224\n",
        "img_height= 224\n",
        "batch_size = 32\n",
        "epochs = 100\n"
      ],
      "id": "1c9d836c"
    },
    {
      "cell_type": "code",
      "execution_count": 4,
      "metadata": {
        "colab": {
          "base_uri": "https://localhost:8080/"
        },
        "id": "62369b7f",
        "outputId": "e2f852d6-92ff-4561-dd27-bbbb7fbb5ff5"
      },
      "outputs": [
        {
          "output_type": "stream",
          "name": "stdout",
          "text": [
            "6\n"
          ]
        }
      ],
      "source": [
        "NumOfClasses = len(glob('/content/drive/MyDrive/chess_data-20240317T002204Z-001/chess_data/train_aug/*'))\n",
        "print(NumOfClasses)"
      ],
      "id": "62369b7f"
    },
    {
      "cell_type": "code",
      "execution_count": 5,
      "metadata": {
        "colab": {
          "base_uri": "https://localhost:8080/"
        },
        "id": "40f1733c",
        "outputId": "8f785f9a-9eac-49ca-b028-e06704bf5660"
      },
      "outputs": [
        {
          "output_type": "stream",
          "name": "stdout",
          "text": [
            "Found 2769 images belonging to 6 classes.\n"
          ]
        }
      ],
      "source": [
        " #rescale để chuyển dữ liệu về khoảng 0-1 (thay đổi image data generator)\n",
        "training_dir = \"/content/drive/MyDrive/chess_data-20240317T002204Z-001/chess_data/train_aug\"\n",
        "train_datagen= ImageDataGenerator(rescale=1/255.0)\n",
        "# load image\n",
        "train_generator = train_datagen.flow_from_directory(training_dir,batch_size=batch_size,class_mode='categorical', target_size=(img_height,img_width))"
      ],
      "id": "40f1733c"
    },
    {
      "cell_type": "code",
      "execution_count": 6,
      "metadata": {
        "colab": {
          "base_uri": "https://localhost:8080/"
        },
        "id": "9d82db84",
        "outputId": "32e61cbb-dae9-4d76-faf1-0280e287bcc8"
      },
      "outputs": [
        {
          "output_type": "stream",
          "name": "stdout",
          "text": [
            "Found 113 images belonging to 6 classes.\n"
          ]
        }
      ],
      "source": [
        "valid_dir = \"/content/drive/MyDrive/chess_data-20240317T002204Z-001/chess_data/validation\"\n",
        "valid_datagen = ImageDataGenerator(rescale=1/255.0)\n",
        "valid_generator = valid_datagen.flow_from_directory(valid_dir,batch_size=batch_size,class_mode='categorical', target_size=(img_height,img_width))"
      ],
      "id": "9d82db84"
    },
    {
      "cell_type": "code",
      "execution_count": 7,
      "metadata": {
        "colab": {
          "base_uri": "https://localhost:8080/"
        },
        "id": "EaE0nxZZOdig",
        "outputId": "4062cd7b-3b85-46f1-c5b4-6fa7f87b8337"
      },
      "outputs": [
        {
          "output_type": "stream",
          "name": "stdout",
          "text": [
            "Found 121 images belonging to 6 classes.\n"
          ]
        }
      ],
      "source": [
        "test_dir = \"/content/drive/MyDrive/chess_data-20240317T002204Z-001/chess_data/test\"\n",
        "test_datagen = ImageDataGenerator(rescale=1/255.0)\n",
        "test_generator = test_datagen.flow_from_directory(test_dir,batch_size=batch_size,class_mode='categorical', target_size=(img_height,img_width))"
      ],
      "id": "EaE0nxZZOdig"
    },
    {
      "cell_type": "markdown",
      "metadata": {
        "id": "GoGv1S5ACFhZ"
      },
      "source": [
        "####**Mạng MLP**"
      ],
      "id": "GoGv1S5ACFhZ"
    },
    {
      "cell_type": "code",
      "execution_count": null,
      "metadata": {
        "id": "8867d31c"
      },
      "outputs": [],
      "source": [
        "#MLP\n",
        "model_MLP = Sequential()"
      ],
      "id": "8867d31c"
    },
    {
      "cell_type": "code",
      "execution_count": null,
      "metadata": {
        "colab": {
          "base_uri": "https://localhost:8080/"
        },
        "id": "0ca5cc30",
        "outputId": "3c9907a7-6569-4e84-ca03-b96079be1a5e"
      },
      "outputs": [
        {
          "name": "stdout",
          "output_type": "stream",
          "text": [
            "Model: \"sequential_3\"\n",
            "_________________________________________________________________\n",
            " Layer (type)                Output Shape              Param #   \n",
            "=================================================================\n",
            " flatten_1 (Flatten)         (None, 150528)            0         \n",
            "                                                                 \n",
            " dense_3 (Dense)             (None, 128)               19267712  \n",
            "                                                                 \n",
            " dense_4 (Dense)             (None, 64)                8256      \n",
            "                                                                 \n",
            " dense_5 (Dense)             (None, 6)                 390       \n",
            "                                                                 \n",
            "=================================================================\n",
            "Total params: 19276358 (73.53 MB)\n",
            "Trainable params: 19276358 (73.53 MB)\n",
            "Non-trainable params: 0 (0.00 Byte)\n",
            "_________________________________________________________________\n",
            "None\n"
          ]
        }
      ],
      "source": [
        "model_MLP = Sequential([\n",
        "    Flatten(input_shape=(img_height, img_width, 3)),\n",
        "    Dense(128, activation=\"relu\"),\n",
        "    Dense(64, activation=\"relu\"),\n",
        "    Dense(6, activation=\"softmax\")  # Replace num_classes with actual number of classes\n",
        "])\n",
        "print(model_MLP.summary())"
      ],
      "id": "0ca5cc30"
    },
    {
      "cell_type": "code",
      "execution_count": null,
      "metadata": {
        "id": "rUOQ5lqWgero"
      },
      "outputs": [],
      "source": [
        "callback = EarlyStopping(monitor='val_loss', patience=5, verbose=1, mode='auto')\n",
        "bestModelFileName = \"/content/drive/MyDrive/chess_data/chest_best_mlp_model.h5\"\n",
        "best_MLP_Model = ModelCheckpoint(bestModelFileName, monitor='val_accuracy', verbose=1, save_best_only=True)"
      ],
      "id": "rUOQ5lqWgero"
    },
    {
      "cell_type": "code",
      "execution_count": null,
      "metadata": {
        "id": "3c065110"
      },
      "outputs": [],
      "source": [
        "model_MLP.compile(loss=\"categorical_crossentropy\", optimizer=\"Adam\", metrics=[\"accuracy\"])"
      ],
      "id": "3c065110"
    },
    {
      "cell_type": "code",
      "execution_count": null,
      "metadata": {
        "colab": {
          "base_uri": "https://localhost:8080/"
        },
        "id": "9c7578f4",
        "outputId": "d602eb53-5987-4074-aebb-d109f6d16f3e"
      },
      "outputs": [
        {
          "name": "stdout",
          "output_type": "stream",
          "text": [
            "Training MLP network...\n",
            "Epoch 1/100\n",
            "87/87 [==============================] - ETA: 0s - loss: 36.2145 - accuracy: 0.1766\n",
            "Epoch 1: val_accuracy improved from -inf to 0.15929, saving model to /content/drive/MyDrive/chess_data/chest_best_mlp_model.h5\n"
          ]
        },
        {
          "name": "stderr",
          "output_type": "stream",
          "text": [
            "/usr/local/lib/python3.10/dist-packages/keras/src/engine/training.py:3103: UserWarning: You are saving your model as an HDF5 file via `model.save()`. This file format is considered legacy. We recommend using instead the native Keras format, e.g. `model.save('my_model.keras')`.\n",
            "  saving_api.save_model(\n"
          ]
        },
        {
          "name": "stdout",
          "output_type": "stream",
          "text": [
            "\b\b\b\b\b\b\b\b\b\b\b\b\b\b\b\b\b\b\b\b\b\b\b\b\b\b\b\b\b\b\b\b\b\b\b\b\b\b\b\b\b\b\b\b\b\b\b\b\b\b\b\b\b\b\b\b\b\b\b\b\b\b\b\b\b\b\b\b\b\b\b\b\b\b\b\b\b\b\b\b\b\b\b\r87/87 [==============================] - 28s 307ms/step - loss: 36.2145 - accuracy: 0.1766 - val_loss: 16.6517 - val_accuracy: 0.1593\n",
            "Epoch 2/100\n",
            "87/87 [==============================] - ETA: 0s - loss: 13.8030 - accuracy: 0.1871\n",
            "Epoch 2: val_accuracy improved from 0.15929 to 0.18584, saving model to /content/drive/MyDrive/chess_data/chest_best_mlp_model.h5\n",
            "87/87 [==============================] - 14s 161ms/step - loss: 13.8030 - accuracy: 0.1871 - val_loss: 9.8813 - val_accuracy: 0.1858\n",
            "Epoch 3/100\n",
            "87/87 [==============================] - ETA: 0s - loss: 7.7458 - accuracy: 0.1950\n",
            "Epoch 3: val_accuracy did not improve from 0.18584\n",
            "87/87 [==============================] - 13s 147ms/step - loss: 7.7458 - accuracy: 0.1950 - val_loss: 7.7833 - val_accuracy: 0.1681\n",
            "Epoch 4/100\n",
            "87/87 [==============================] - ETA: 0s - loss: 4.7782 - accuracy: 0.2315\n",
            "Epoch 4: val_accuracy improved from 0.18584 to 0.20354, saving model to /content/drive/MyDrive/chess_data/chest_best_mlp_model.h5\n",
            "87/87 [==============================] - 14s 165ms/step - loss: 4.7782 - accuracy: 0.2315 - val_loss: 3.8102 - val_accuracy: 0.2035\n",
            "Epoch 5/100\n",
            "87/87 [==============================] - ETA: 0s - loss: 4.3455 - accuracy: 0.2409\n",
            "Epoch 5: val_accuracy did not improve from 0.20354\n",
            "87/87 [==============================] - 13s 144ms/step - loss: 4.3455 - accuracy: 0.2409 - val_loss: 3.0762 - val_accuracy: 0.1947\n",
            "Epoch 6/100\n",
            "87/87 [==============================] - ETA: 0s - loss: 3.2197 - accuracy: 0.2474\n",
            "Epoch 6: val_accuracy improved from 0.20354 to 0.23894, saving model to /content/drive/MyDrive/chess_data/chest_best_mlp_model.h5\n",
            "87/87 [==============================] - 14s 159ms/step - loss: 3.2197 - accuracy: 0.2474 - val_loss: 3.2501 - val_accuracy: 0.2389\n",
            "Epoch 7/100\n",
            "87/87 [==============================] - ETA: 0s - loss: 2.8445 - accuracy: 0.2629\n",
            "Epoch 7: val_accuracy did not improve from 0.23894\n",
            "87/87 [==============================] - 13s 150ms/step - loss: 2.8445 - accuracy: 0.2629 - val_loss: 6.4023 - val_accuracy: 0.1858\n",
            "Epoch 8/100\n",
            "87/87 [==============================] - ETA: 0s - loss: 2.9066 - accuracy: 0.3012\n",
            "Epoch 8: val_accuracy did not improve from 0.23894\n",
            "87/87 [==============================] - 13s 148ms/step - loss: 2.9066 - accuracy: 0.3012 - val_loss: 2.4568 - val_accuracy: 0.1770\n",
            "Epoch 9/100\n",
            "87/87 [==============================] - ETA: 0s - loss: 3.0637 - accuracy: 0.2784\n",
            "Epoch 9: val_accuracy did not improve from 0.23894\n",
            "87/87 [==============================] - 12s 137ms/step - loss: 3.0637 - accuracy: 0.2784 - val_loss: 2.9793 - val_accuracy: 0.2124\n",
            "Epoch 10/100\n",
            "87/87 [==============================] - ETA: 0s - loss: 2.8990 - accuracy: 0.2737\n",
            "Epoch 10: val_accuracy did not improve from 0.23894\n",
            "87/87 [==============================] - 12s 138ms/step - loss: 2.8990 - accuracy: 0.2737 - val_loss: 2.7879 - val_accuracy: 0.1593\n",
            "Epoch 11/100\n",
            "87/87 [==============================] - ETA: 0s - loss: 2.2540 - accuracy: 0.3113\n",
            "Epoch 11: val_accuracy did not improve from 0.23894\n",
            "87/87 [==============================] - 12s 138ms/step - loss: 2.2540 - accuracy: 0.3113 - val_loss: 3.4674 - val_accuracy: 0.1770\n",
            "Epoch 12/100\n",
            "87/87 [==============================] - ETA: 0s - loss: 2.0307 - accuracy: 0.3250\n",
            "Epoch 12: val_accuracy did not improve from 0.23894\n",
            "87/87 [==============================] - 12s 135ms/step - loss: 2.0307 - accuracy: 0.3250 - val_loss: 2.4658 - val_accuracy: 0.2389\n",
            "Epoch 13/100\n",
            "87/87 [==============================] - ETA: 0s - loss: 2.2394 - accuracy: 0.3135\n",
            "Epoch 13: val_accuracy did not improve from 0.23894\n",
            "87/87 [==============================] - 12s 134ms/step - loss: 2.2394 - accuracy: 0.3135 - val_loss: 2.0197 - val_accuracy: 0.2389\n",
            "Epoch 14/100\n",
            "87/87 [==============================] - ETA: 0s - loss: 1.9718 - accuracy: 0.3525\n",
            "Epoch 14: val_accuracy did not improve from 0.23894\n",
            "87/87 [==============================] - 12s 137ms/step - loss: 1.9718 - accuracy: 0.3525 - val_loss: 3.2398 - val_accuracy: 0.1947\n",
            "Epoch 15/100\n",
            "87/87 [==============================] - ETA: 0s - loss: 1.9736 - accuracy: 0.3413\n",
            "Epoch 15: val_accuracy did not improve from 0.23894\n",
            "87/87 [==============================] - 12s 133ms/step - loss: 1.9736 - accuracy: 0.3413 - val_loss: 2.0786 - val_accuracy: 0.1858\n",
            "Epoch 16/100\n",
            "87/87 [==============================] - ETA: 0s - loss: 1.6969 - accuracy: 0.3655\n",
            "Epoch 16: val_accuracy did not improve from 0.23894\n",
            "87/87 [==============================] - 12s 139ms/step - loss: 1.6969 - accuracy: 0.3655 - val_loss: 2.0936 - val_accuracy: 0.1681\n",
            "Epoch 17/100\n",
            "87/87 [==============================] - ETA: 0s - loss: 1.9364 - accuracy: 0.3322\n",
            "Epoch 17: val_accuracy did not improve from 0.23894\n",
            "87/87 [==============================] - 12s 136ms/step - loss: 1.9364 - accuracy: 0.3322 - val_loss: 2.1130 - val_accuracy: 0.2212\n",
            "Epoch 18/100\n",
            "87/87 [==============================] - ETA: 0s - loss: 1.7222 - accuracy: 0.3749\n",
            "Epoch 18: val_accuracy improved from 0.23894 to 0.24779, saving model to /content/drive/MyDrive/chess_data/chest_best_mlp_model.h5\n",
            "87/87 [==============================] - 14s 163ms/step - loss: 1.7222 - accuracy: 0.3749 - val_loss: 2.0958 - val_accuracy: 0.2478\n",
            "Epoch 19/100\n",
            "87/87 [==============================] - ETA: 0s - loss: 1.6793 - accuracy: 0.4016\n",
            "Epoch 19: val_accuracy did not improve from 0.24779\n",
            "87/87 [==============================] - 13s 147ms/step - loss: 1.6793 - accuracy: 0.4016 - val_loss: 3.8440 - val_accuracy: 0.1858\n",
            "Epoch 20/100\n",
            "87/87 [==============================] - ETA: 0s - loss: 1.8605 - accuracy: 0.3720\n",
            "Epoch 20: val_accuracy did not improve from 0.24779\n",
            "87/87 [==============================] - 12s 138ms/step - loss: 1.8605 - accuracy: 0.3720 - val_loss: 2.1062 - val_accuracy: 0.2124\n",
            "Epoch 21/100\n",
            "87/87 [==============================] - ETA: 0s - loss: 1.9247 - accuracy: 0.3539\n",
            "Epoch 21: val_accuracy did not improve from 0.24779\n",
            "87/87 [==============================] - 12s 138ms/step - loss: 1.9247 - accuracy: 0.3539 - val_loss: 2.0268 - val_accuracy: 0.2124\n",
            "Epoch 22/100\n",
            "87/87 [==============================] - ETA: 0s - loss: 1.7416 - accuracy: 0.3713\n",
            "Epoch 22: val_accuracy did not improve from 0.24779\n",
            "87/87 [==============================] - 12s 136ms/step - loss: 1.7416 - accuracy: 0.3713 - val_loss: 2.2396 - val_accuracy: 0.1858\n",
            "Epoch 23/100\n",
            "87/87 [==============================] - ETA: 0s - loss: 1.6790 - accuracy: 0.3832\n",
            "Epoch 23: val_accuracy did not improve from 0.24779\n",
            "87/87 [==============================] - 12s 135ms/step - loss: 1.6790 - accuracy: 0.3832 - val_loss: 2.1234 - val_accuracy: 0.2301\n",
            "Epoch 24/100\n",
            "87/87 [==============================] - ETA: 0s - loss: 1.7359 - accuracy: 0.3835\n",
            "Epoch 24: val_accuracy did not improve from 0.24779\n",
            "87/87 [==============================] - 12s 141ms/step - loss: 1.7359 - accuracy: 0.3835 - val_loss: 2.0950 - val_accuracy: 0.1593\n",
            "Epoch 25/100\n",
            "87/87 [==============================] - ETA: 0s - loss: 1.6964 - accuracy: 0.3908\n",
            "Epoch 25: val_accuracy did not improve from 0.24779\n",
            "87/87 [==============================] - 11s 131ms/step - loss: 1.6964 - accuracy: 0.3908 - val_loss: 2.3959 - val_accuracy: 0.2389\n",
            "Epoch 26/100\n",
            "87/87 [==============================] - ETA: 0s - loss: 1.5177 - accuracy: 0.4160\n",
            "Epoch 26: val_accuracy did not improve from 0.24779\n",
            "87/87 [==============================] - 12s 135ms/step - loss: 1.5177 - accuracy: 0.4160 - val_loss: 2.3532 - val_accuracy: 0.2212\n",
            "Epoch 27/100\n",
            "87/87 [==============================] - ETA: 0s - loss: 1.4826 - accuracy: 0.4417\n",
            "Epoch 27: val_accuracy improved from 0.24779 to 0.25664, saving model to /content/drive/MyDrive/chess_data/chest_best_mlp_model.h5\n",
            "87/87 [==============================] - 14s 164ms/step - loss: 1.4826 - accuracy: 0.4417 - val_loss: 2.2000 - val_accuracy: 0.2566\n",
            "Epoch 28/100\n",
            "87/87 [==============================] - ETA: 0s - loss: 1.5566 - accuracy: 0.4135\n",
            "Epoch 28: val_accuracy did not improve from 0.25664\n",
            "87/87 [==============================] - 13s 141ms/step - loss: 1.5566 - accuracy: 0.4135 - val_loss: 2.0754 - val_accuracy: 0.2212\n",
            "Epoch 29/100\n",
            "87/87 [==============================] - ETA: 0s - loss: 1.5427 - accuracy: 0.4189\n",
            "Epoch 29: val_accuracy did not improve from 0.25664\n",
            "87/87 [==============================] - 12s 135ms/step - loss: 1.5427 - accuracy: 0.4189 - val_loss: 2.3899 - val_accuracy: 0.2212\n",
            "Epoch 30/100\n",
            "87/87 [==============================] - ETA: 0s - loss: 1.5590 - accuracy: 0.4305\n",
            "Epoch 30: val_accuracy did not improve from 0.25664\n",
            "87/87 [==============================] - 13s 148ms/step - loss: 1.5590 - accuracy: 0.4305 - val_loss: 2.0545 - val_accuracy: 0.2389\n",
            "Epoch 31/100\n",
            "87/87 [==============================] - ETA: 0s - loss: 1.5815 - accuracy: 0.4326\n",
            "Epoch 31: val_accuracy improved from 0.25664 to 0.27434, saving model to /content/drive/MyDrive/chess_data/chest_best_mlp_model.h5\n",
            "87/87 [==============================] - 14s 159ms/step - loss: 1.5815 - accuracy: 0.4326 - val_loss: 2.2323 - val_accuracy: 0.2743\n",
            "Epoch 32/100\n",
            "87/87 [==============================] - ETA: 0s - loss: 1.5833 - accuracy: 0.4352\n",
            "Epoch 32: val_accuracy did not improve from 0.27434\n",
            "87/87 [==============================] - 13s 151ms/step - loss: 1.5833 - accuracy: 0.4352 - val_loss: 2.4135 - val_accuracy: 0.1947\n",
            "Epoch 33/100\n",
            "87/87 [==============================] - ETA: 0s - loss: 1.5949 - accuracy: 0.4189\n",
            "Epoch 33: val_accuracy did not improve from 0.27434\n",
            "87/87 [==============================] - 12s 133ms/step - loss: 1.5949 - accuracy: 0.4189 - val_loss: 2.1515 - val_accuracy: 0.2743\n",
            "Epoch 34/100\n",
            "87/87 [==============================] - ETA: 0s - loss: 1.3527 - accuracy: 0.4926\n",
            "Epoch 34: val_accuracy did not improve from 0.27434\n",
            "87/87 [==============================] - 12s 136ms/step - loss: 1.3527 - accuracy: 0.4926 - val_loss: 2.1290 - val_accuracy: 0.2035\n",
            "Epoch 35/100\n",
            "87/87 [==============================] - ETA: 0s - loss: 1.4737 - accuracy: 0.4496\n",
            "Epoch 35: val_accuracy did not improve from 0.27434\n",
            "87/87 [==============================] - 12s 134ms/step - loss: 1.4737 - accuracy: 0.4496 - val_loss: 2.1547 - val_accuracy: 0.2743\n",
            "Epoch 36/100\n",
            "87/87 [==============================] - ETA: 0s - loss: 1.4861 - accuracy: 0.4579\n",
            "Epoch 36: val_accuracy did not improve from 0.27434\n",
            "87/87 [==============================] - 11s 130ms/step - loss: 1.4861 - accuracy: 0.4579 - val_loss: 2.5062 - val_accuracy: 0.2124\n",
            "Epoch 37/100\n",
            "87/87 [==============================] - ETA: 0s - loss: 1.5913 - accuracy: 0.4171\n",
            "Epoch 37: val_accuracy did not improve from 0.27434\n",
            "87/87 [==============================] - 12s 133ms/step - loss: 1.5913 - accuracy: 0.4171 - val_loss: 2.2442 - val_accuracy: 0.2566\n",
            "Epoch 38/100\n",
            "87/87 [==============================] - ETA: 0s - loss: 1.5327 - accuracy: 0.4243\n",
            "Epoch 38: val_accuracy did not improve from 0.27434\n",
            "87/87 [==============================] - 12s 138ms/step - loss: 1.5327 - accuracy: 0.4243 - val_loss: 2.0508 - val_accuracy: 0.2124\n",
            "Epoch 39/100\n",
            "87/87 [==============================] - ETA: 0s - loss: 1.5103 - accuracy: 0.4287\n",
            "Epoch 39: val_accuracy did not improve from 0.27434\n",
            "87/87 [==============================] - 12s 135ms/step - loss: 1.5103 - accuracy: 0.4287 - val_loss: 2.1585 - val_accuracy: 0.2124\n",
            "Epoch 40/100\n",
            "87/87 [==============================] - ETA: 0s - loss: 1.4869 - accuracy: 0.4326\n",
            "Epoch 40: val_accuracy did not improve from 0.27434\n",
            "87/87 [==============================] - 12s 136ms/step - loss: 1.4869 - accuracy: 0.4326 - val_loss: 2.1473 - val_accuracy: 0.2124\n",
            "Epoch 41/100\n",
            "87/87 [==============================] - ETA: 0s - loss: 1.4472 - accuracy: 0.4514\n",
            "Epoch 41: val_accuracy did not improve from 0.27434\n",
            "87/87 [==============================] - 12s 133ms/step - loss: 1.4472 - accuracy: 0.4514 - val_loss: 2.2831 - val_accuracy: 0.2301\n",
            "Epoch 42/100\n",
            "87/87 [==============================] - ETA: 0s - loss: 1.4573 - accuracy: 0.4475\n",
            "Epoch 42: val_accuracy improved from 0.27434 to 0.28319, saving model to /content/drive/MyDrive/chess_data/chest_best_mlp_model.h5\n",
            "87/87 [==============================] - 14s 160ms/step - loss: 1.4573 - accuracy: 0.4475 - val_loss: 2.2744 - val_accuracy: 0.2832\n",
            "Epoch 43/100\n",
            "87/87 [==============================] - ETA: 0s - loss: 1.4465 - accuracy: 0.4521\n",
            "Epoch 43: val_accuracy did not improve from 0.28319\n",
            "87/87 [==============================] - 13s 147ms/step - loss: 1.4465 - accuracy: 0.4521 - val_loss: 1.9784 - val_accuracy: 0.2389\n",
            "Epoch 44/100\n",
            "87/87 [==============================] - ETA: 0s - loss: 1.4740 - accuracy: 0.4435\n",
            "Epoch 44: val_accuracy did not improve from 0.28319\n",
            "87/87 [==============================] - 12s 135ms/step - loss: 1.4740 - accuracy: 0.4435 - val_loss: 2.1866 - val_accuracy: 0.2124\n",
            "Epoch 45/100\n",
            "87/87 [==============================] - ETA: 0s - loss: 1.4901 - accuracy: 0.4410\n",
            "Epoch 45: val_accuracy did not improve from 0.28319\n",
            "87/87 [==============================] - 12s 135ms/step - loss: 1.4901 - accuracy: 0.4410 - val_loss: 2.4923 - val_accuracy: 0.2301\n",
            "Epoch 46/100\n",
            "87/87 [==============================] - ETA: 0s - loss: 1.3482 - accuracy: 0.4933\n",
            "Epoch 46: val_accuracy did not improve from 0.28319\n",
            "87/87 [==============================] - 12s 139ms/step - loss: 1.3482 - accuracy: 0.4933 - val_loss: 2.4094 - val_accuracy: 0.2655\n",
            "Epoch 47/100\n",
            "87/87 [==============================] - ETA: 0s - loss: 1.3887 - accuracy: 0.4782\n",
            "Epoch 47: val_accuracy did not improve from 0.28319\n",
            "87/87 [==============================] - 12s 135ms/step - loss: 1.3887 - accuracy: 0.4782 - val_loss: 2.2390 - val_accuracy: 0.2832\n",
            "Epoch 48/100\n",
            "87/87 [==============================] - ETA: 0s - loss: 1.5966 - accuracy: 0.4503\n",
            "Epoch 48: val_accuracy did not improve from 0.28319\n",
            "87/87 [==============================] - 12s 134ms/step - loss: 1.5966 - accuracy: 0.4503 - val_loss: 2.3236 - val_accuracy: 0.2301\n",
            "Epoch 49/100\n",
            "87/87 [==============================] - ETA: 0s - loss: 1.5705 - accuracy: 0.3926\n",
            "Epoch 49: val_accuracy did not improve from 0.28319\n",
            "87/87 [==============================] - 12s 138ms/step - loss: 1.5705 - accuracy: 0.3926 - val_loss: 2.1051 - val_accuracy: 0.2124\n",
            "Epoch 50/100\n",
            "87/87 [==============================] - ETA: 0s - loss: 1.4106 - accuracy: 0.4763\n",
            "Epoch 50: val_accuracy did not improve from 0.28319\n",
            "87/87 [==============================] - 12s 142ms/step - loss: 1.4106 - accuracy: 0.4763 - val_loss: 2.2429 - val_accuracy: 0.1947\n",
            "Epoch 51/100\n",
            "87/87 [==============================] - ETA: 0s - loss: 1.4174 - accuracy: 0.4540\n",
            "Epoch 51: val_accuracy did not improve from 0.28319\n",
            "87/87 [==============================] - 12s 138ms/step - loss: 1.4174 - accuracy: 0.4540 - val_loss: 1.9480 - val_accuracy: 0.2478\n",
            "Epoch 52/100\n",
            "87/87 [==============================] - ETA: 0s - loss: 1.3832 - accuracy: 0.4738\n",
            "Epoch 52: val_accuracy did not improve from 0.28319\n",
            "87/87 [==============================] - 12s 138ms/step - loss: 1.3832 - accuracy: 0.4738 - val_loss: 2.2570 - val_accuracy: 0.2301\n",
            "Epoch 53/100\n",
            "87/87 [==============================] - ETA: 0s - loss: 1.3432 - accuracy: 0.4847\n",
            "Epoch 53: val_accuracy did not improve from 0.28319\n",
            "87/87 [==============================] - 12s 140ms/step - loss: 1.3432 - accuracy: 0.4847 - val_loss: 2.1962 - val_accuracy: 0.1858\n",
            "Epoch 54/100\n",
            "87/87 [==============================] - ETA: 0s - loss: 1.3561 - accuracy: 0.4901\n",
            "Epoch 54: val_accuracy did not improve from 0.28319\n",
            "87/87 [==============================] - 13s 145ms/step - loss: 1.3561 - accuracy: 0.4901 - val_loss: 2.4583 - val_accuracy: 0.1947\n",
            "Epoch 55/100\n",
            "87/87 [==============================] - ETA: 0s - loss: 1.6421 - accuracy: 0.4265\n",
            "Epoch 55: val_accuracy did not improve from 0.28319\n",
            "87/87 [==============================] - 12s 136ms/step - loss: 1.6421 - accuracy: 0.4265 - val_loss: 2.4488 - val_accuracy: 0.2566\n",
            "Epoch 56/100\n",
            "87/87 [==============================] - ETA: 0s - loss: 1.4319 - accuracy: 0.4456\n",
            "Epoch 56: val_accuracy did not improve from 0.28319\n",
            "87/87 [==============================] - 12s 136ms/step - loss: 1.4319 - accuracy: 0.4456 - val_loss: 2.4042 - val_accuracy: 0.1770\n",
            "Epoch 57/100\n",
            "87/87 [==============================] - ETA: 0s - loss: 1.5779 - accuracy: 0.4052\n",
            "Epoch 57: val_accuracy did not improve from 0.28319\n",
            "87/87 [==============================] - 12s 136ms/step - loss: 1.5779 - accuracy: 0.4052 - val_loss: 2.0578 - val_accuracy: 0.1858\n",
            "Epoch 58/100\n",
            "87/87 [==============================] - ETA: 0s - loss: 1.4107 - accuracy: 0.4713\n",
            "Epoch 58: val_accuracy did not improve from 0.28319\n",
            "87/87 [==============================] - 12s 137ms/step - loss: 1.4107 - accuracy: 0.4713 - val_loss: 2.3572 - val_accuracy: 0.2655\n",
            "Epoch 59/100\n",
            "87/87 [==============================] - ETA: 0s - loss: 1.4460 - accuracy: 0.4496\n",
            "Epoch 59: val_accuracy did not improve from 0.28319\n",
            "87/87 [==============================] - 12s 136ms/step - loss: 1.4460 - accuracy: 0.4496 - val_loss: 2.4906 - val_accuracy: 0.2389\n",
            "Epoch 60/100\n",
            "87/87 [==============================] - ETA: 0s - loss: 1.4062 - accuracy: 0.4717\n",
            "Epoch 60: val_accuracy did not improve from 0.28319\n",
            "87/87 [==============================] - 12s 139ms/step - loss: 1.4062 - accuracy: 0.4717 - val_loss: 2.1784 - val_accuracy: 0.2035\n",
            "Epoch 61/100\n",
            "87/87 [==============================] - ETA: 0s - loss: 1.4268 - accuracy: 0.4536\n",
            "Epoch 61: val_accuracy did not improve from 0.28319\n",
            "87/87 [==============================] - 12s 135ms/step - loss: 1.4268 - accuracy: 0.4536 - val_loss: 2.2738 - val_accuracy: 0.1947\n",
            "Epoch 62/100\n",
            "87/87 [==============================] - ETA: 0s - loss: 1.4183 - accuracy: 0.4644\n",
            "Epoch 62: val_accuracy did not improve from 0.28319\n",
            "87/87 [==============================] - 12s 137ms/step - loss: 1.4183 - accuracy: 0.4644 - val_loss: 2.1320 - val_accuracy: 0.2212\n",
            "Epoch 63/100\n",
            "87/87 [==============================] - ETA: 0s - loss: 1.5058 - accuracy: 0.4200\n",
            "Epoch 63: val_accuracy did not improve from 0.28319\n",
            "87/87 [==============================] - 12s 136ms/step - loss: 1.5058 - accuracy: 0.4200 - val_loss: 2.2275 - val_accuracy: 0.1681\n",
            "Epoch 64/100\n",
            "87/87 [==============================] - ETA: 0s - loss: 1.6188 - accuracy: 0.3781\n",
            "Epoch 64: val_accuracy did not improve from 0.28319\n",
            "87/87 [==============================] - 12s 139ms/step - loss: 1.6188 - accuracy: 0.3781 - val_loss: 2.2954 - val_accuracy: 0.2478\n",
            "Epoch 65/100\n",
            "87/87 [==============================] - ETA: 0s - loss: 1.5708 - accuracy: 0.4027\n",
            "Epoch 65: val_accuracy did not improve from 0.28319\n",
            "87/87 [==============================] - 12s 142ms/step - loss: 1.5708 - accuracy: 0.4027 - val_loss: 2.4859 - val_accuracy: 0.2389\n",
            "Epoch 66/100\n",
            "87/87 [==============================] - ETA: 0s - loss: 1.4299 - accuracy: 0.4319\n",
            "Epoch 66: val_accuracy did not improve from 0.28319\n",
            "87/87 [==============================] - 12s 140ms/step - loss: 1.4299 - accuracy: 0.4319 - val_loss: 2.2290 - val_accuracy: 0.2035\n",
            "Epoch 67/100\n",
            "87/87 [==============================] - ETA: 0s - loss: 1.4233 - accuracy: 0.4500\n",
            "Epoch 67: val_accuracy did not improve from 0.28319\n",
            "87/87 [==============================] - 12s 138ms/step - loss: 1.4233 - accuracy: 0.4500 - val_loss: 2.4565 - val_accuracy: 0.2389\n",
            "Epoch 68/100\n",
            "87/87 [==============================] - ETA: 0s - loss: 1.3992 - accuracy: 0.4453\n",
            "Epoch 68: val_accuracy improved from 0.28319 to 0.31858, saving model to /content/drive/MyDrive/chess_data/chest_best_mlp_model.h5\n",
            "87/87 [==============================] - 14s 159ms/step - loss: 1.3992 - accuracy: 0.4453 - val_loss: 2.3517 - val_accuracy: 0.3186\n",
            "Epoch 69/100\n",
            "87/87 [==============================] - ETA: 0s - loss: 1.6004 - accuracy: 0.3806\n",
            "Epoch 69: val_accuracy did not improve from 0.31858\n",
            "87/87 [==============================] - 13s 146ms/step - loss: 1.6004 - accuracy: 0.3806 - val_loss: 2.1917 - val_accuracy: 0.2389\n",
            "Epoch 70/100\n",
            "87/87 [==============================] - ETA: 0s - loss: 1.5006 - accuracy: 0.4222\n",
            "Epoch 70: val_accuracy did not improve from 0.31858\n",
            "87/87 [==============================] - 12s 138ms/step - loss: 1.5006 - accuracy: 0.4222 - val_loss: 2.3147 - val_accuracy: 0.2743\n",
            "Epoch 71/100\n",
            "87/87 [==============================] - ETA: 0s - loss: 1.2929 - accuracy: 0.4987\n",
            "Epoch 71: val_accuracy did not improve from 0.31858\n",
            "87/87 [==============================] - 12s 134ms/step - loss: 1.2929 - accuracy: 0.4987 - val_loss: 2.3455 - val_accuracy: 0.2655\n",
            "Epoch 72/100\n",
            "87/87 [==============================] - ETA: 0s - loss: 1.4655 - accuracy: 0.4384\n",
            "Epoch 72: val_accuracy did not improve from 0.31858\n",
            "87/87 [==============================] - 12s 134ms/step - loss: 1.4655 - accuracy: 0.4384 - val_loss: 2.4875 - val_accuracy: 0.1681\n",
            "Epoch 73/100\n",
            "87/87 [==============================] - ETA: 0s - loss: 1.5219 - accuracy: 0.4153\n",
            "Epoch 73: val_accuracy did not improve from 0.31858\n",
            "87/87 [==============================] - 12s 134ms/step - loss: 1.5219 - accuracy: 0.4153 - val_loss: 2.6594 - val_accuracy: 0.2478\n",
            "Epoch 74/100\n",
            "87/87 [==============================] - ETA: 0s - loss: 1.4112 - accuracy: 0.4410\n",
            "Epoch 74: val_accuracy did not improve from 0.31858\n",
            "87/87 [==============================] - 12s 137ms/step - loss: 1.4112 - accuracy: 0.4410 - val_loss: 2.3865 - val_accuracy: 0.2566\n",
            "Epoch 75/100\n",
            "87/87 [==============================] - ETA: 0s - loss: 1.4730 - accuracy: 0.4319\n",
            "Epoch 75: val_accuracy did not improve from 0.31858\n",
            "87/87 [==============================] - 12s 134ms/step - loss: 1.4730 - accuracy: 0.4319 - val_loss: 2.5640 - val_accuracy: 0.2389\n",
            "Epoch 76/100\n",
            "87/87 [==============================] - ETA: 0s - loss: 1.3757 - accuracy: 0.4547\n",
            "Epoch 76: val_accuracy did not improve from 0.31858\n",
            "87/87 [==============================] - 12s 136ms/step - loss: 1.3757 - accuracy: 0.4547 - val_loss: 2.5955 - val_accuracy: 0.1947\n",
            "Epoch 77/100\n",
            "87/87 [==============================] - ETA: 0s - loss: 1.3427 - accuracy: 0.4626\n",
            "Epoch 77: val_accuracy did not improve from 0.31858\n",
            "87/87 [==============================] - 12s 136ms/step - loss: 1.3427 - accuracy: 0.4626 - val_loss: 2.3823 - val_accuracy: 0.1858\n",
            "Epoch 78/100\n",
            "87/87 [==============================] - ETA: 0s - loss: 1.4307 - accuracy: 0.4446\n",
            "Epoch 78: val_accuracy did not improve from 0.31858\n",
            "87/87 [==============================] - 12s 143ms/step - loss: 1.4307 - accuracy: 0.4446 - val_loss: 2.4451 - val_accuracy: 0.2832\n",
            "Epoch 79/100\n",
            "87/87 [==============================] - ETA: 0s - loss: 1.7837 - accuracy: 0.3532\n",
            "Epoch 79: val_accuracy did not improve from 0.31858\n",
            "87/87 [==============================] - 12s 133ms/step - loss: 1.7837 - accuracy: 0.3532 - val_loss: 2.4189 - val_accuracy: 0.2035\n",
            "Epoch 80/100\n",
            "87/87 [==============================] - ETA: 0s - loss: 1.4905 - accuracy: 0.4391\n",
            "Epoch 80: val_accuracy did not improve from 0.31858\n",
            "87/87 [==============================] - 12s 133ms/step - loss: 1.4905 - accuracy: 0.4391 - val_loss: 2.3055 - val_accuracy: 0.3009\n",
            "Epoch 81/100\n",
            "87/87 [==============================] - ETA: 0s - loss: 1.3221 - accuracy: 0.4836\n",
            "Epoch 81: val_accuracy did not improve from 0.31858\n",
            "87/87 [==============================] - 12s 136ms/step - loss: 1.3221 - accuracy: 0.4836 - val_loss: 3.1518 - val_accuracy: 0.1593\n",
            "Epoch 82/100\n",
            "87/87 [==============================] - ETA: 0s - loss: 1.4067 - accuracy: 0.4590\n",
            "Epoch 82: val_accuracy did not improve from 0.31858\n",
            "87/87 [==============================] - 12s 139ms/step - loss: 1.4067 - accuracy: 0.4590 - val_loss: 2.5278 - val_accuracy: 0.1416\n",
            "Epoch 83/100\n",
            "87/87 [==============================] - ETA: 0s - loss: 1.3941 - accuracy: 0.4594\n",
            "Epoch 83: val_accuracy did not improve from 0.31858\n",
            "87/87 [==============================] - 12s 137ms/step - loss: 1.3941 - accuracy: 0.4594 - val_loss: 2.5512 - val_accuracy: 0.2478\n",
            "Epoch 84/100\n",
            "87/87 [==============================] - ETA: 0s - loss: 1.5132 - accuracy: 0.4265\n",
            "Epoch 84: val_accuracy did not improve from 0.31858\n",
            "87/87 [==============================] - 12s 137ms/step - loss: 1.5132 - accuracy: 0.4265 - val_loss: 2.4370 - val_accuracy: 0.2124\n",
            "Epoch 85/100\n",
            "87/87 [==============================] - ETA: 0s - loss: 1.2649 - accuracy: 0.5031\n",
            "Epoch 85: val_accuracy did not improve from 0.31858\n",
            "87/87 [==============================] - 12s 137ms/step - loss: 1.2649 - accuracy: 0.5031 - val_loss: 2.9590 - val_accuracy: 0.1858\n",
            "Epoch 86/100\n",
            "87/87 [==============================] - ETA: 0s - loss: 1.3158 - accuracy: 0.4875\n",
            "Epoch 86: val_accuracy did not improve from 0.31858\n",
            "87/87 [==============================] - 12s 139ms/step - loss: 1.3158 - accuracy: 0.4875 - val_loss: 2.6080 - val_accuracy: 0.2389\n",
            "Epoch 87/100\n",
            "87/87 [==============================] - ETA: 0s - loss: 1.4066 - accuracy: 0.4543\n",
            "Epoch 87: val_accuracy did not improve from 0.31858\n",
            "87/87 [==============================] - 12s 140ms/step - loss: 1.4066 - accuracy: 0.4543 - val_loss: 2.5124 - val_accuracy: 0.2301\n",
            "Epoch 88/100\n",
            "87/87 [==============================] - ETA: 0s - loss: 1.2603 - accuracy: 0.5081\n",
            "Epoch 88: val_accuracy did not improve from 0.31858\n",
            "87/87 [==============================] - 12s 138ms/step - loss: 1.2603 - accuracy: 0.5081 - val_loss: 2.9401 - val_accuracy: 0.1858\n",
            "Epoch 89/100\n",
            "87/87 [==============================] - ETA: 0s - loss: 1.3698 - accuracy: 0.4763\n",
            "Epoch 89: val_accuracy did not improve from 0.31858\n",
            "87/87 [==============================] - 12s 136ms/step - loss: 1.3698 - accuracy: 0.4763 - val_loss: 2.5644 - val_accuracy: 0.2389\n",
            "Epoch 90/100\n",
            "87/87 [==============================] - ETA: 0s - loss: 2.4447 - accuracy: 0.3554\n",
            "Epoch 90: val_accuracy did not improve from 0.31858\n",
            "87/87 [==============================] - 13s 146ms/step - loss: 2.4447 - accuracy: 0.3554 - val_loss: 2.5951 - val_accuracy: 0.1681\n",
            "Epoch 91/100\n",
            "87/87 [==============================] - ETA: 0s - loss: 1.6837 - accuracy: 0.3460\n",
            "Epoch 91: val_accuracy did not improve from 0.31858\n",
            "87/87 [==============================] - 12s 140ms/step - loss: 1.6837 - accuracy: 0.3460 - val_loss: 2.3468 - val_accuracy: 0.2301\n",
            "Epoch 92/100\n",
            "87/87 [==============================] - ETA: 0s - loss: 1.6732 - accuracy: 0.3442\n",
            "Epoch 92: val_accuracy did not improve from 0.31858\n",
            "87/87 [==============================] - 12s 141ms/step - loss: 1.6732 - accuracy: 0.3442 - val_loss: 2.0857 - val_accuracy: 0.2478\n",
            "Epoch 93/100\n",
            "87/87 [==============================] - ETA: 0s - loss: 1.4935 - accuracy: 0.3980\n",
            "Epoch 93: val_accuracy did not improve from 0.31858\n",
            "87/87 [==============================] - 12s 140ms/step - loss: 1.4935 - accuracy: 0.3980 - val_loss: 2.0822 - val_accuracy: 0.2566\n",
            "Epoch 94/100\n",
            "87/87 [==============================] - ETA: 0s - loss: 1.5360 - accuracy: 0.3879\n",
            "Epoch 94: val_accuracy did not improve from 0.31858\n",
            "87/87 [==============================] - 12s 138ms/step - loss: 1.5360 - accuracy: 0.3879 - val_loss: 2.1265 - val_accuracy: 0.2655\n",
            "Epoch 95/100\n",
            "87/87 [==============================] - ETA: 0s - loss: 1.5101 - accuracy: 0.4099\n",
            "Epoch 95: val_accuracy did not improve from 0.31858\n",
            "87/87 [==============================] - 12s 138ms/step - loss: 1.5101 - accuracy: 0.4099 - val_loss: 2.9299 - val_accuracy: 0.2389\n",
            "Epoch 96/100\n",
            "87/87 [==============================] - ETA: 0s - loss: 1.4072 - accuracy: 0.4514\n",
            "Epoch 96: val_accuracy did not improve from 0.31858\n",
            "87/87 [==============================] - 12s 138ms/step - loss: 1.4072 - accuracy: 0.4514 - val_loss: 2.3973 - val_accuracy: 0.2920\n",
            "Epoch 97/100\n",
            "87/87 [==============================] - ETA: 0s - loss: 1.3628 - accuracy: 0.4532\n",
            "Epoch 97: val_accuracy did not improve from 0.31858\n",
            "87/87 [==============================] - 12s 137ms/step - loss: 1.3628 - accuracy: 0.4532 - val_loss: 2.6698 - val_accuracy: 0.2832\n",
            "Epoch 98/100\n",
            "87/87 [==============================] - ETA: 0s - loss: 1.3667 - accuracy: 0.4641\n",
            "Epoch 98: val_accuracy did not improve from 0.31858\n",
            "87/87 [==============================] - 12s 136ms/step - loss: 1.3667 - accuracy: 0.4641 - val_loss: 3.1897 - val_accuracy: 0.2655\n",
            "Epoch 99/100\n",
            "87/87 [==============================] - ETA: 0s - loss: 1.2828 - accuracy: 0.5009\n",
            "Epoch 99: val_accuracy did not improve from 0.31858\n",
            "87/87 [==============================] - 12s 136ms/step - loss: 1.2828 - accuracy: 0.5009 - val_loss: 2.4385 - val_accuracy: 0.2566\n",
            "Epoch 100/100\n",
            "87/87 [==============================] - ETA: 0s - loss: 1.3205 - accuracy: 0.4930\n",
            "Epoch 100: val_accuracy did not improve from 0.31858\n",
            "87/87 [==============================] - 12s 136ms/step - loss: 1.3205 - accuracy: 0.4930 - val_loss: 2.5501 - val_accuracy: 0.2655\n"
          ]
        }
      ],
      "source": [
        "print(\"Training MLP network...\")\n",
        "H = model_MLP.fit(train_generator, validation_data=valid_generator, epochs=100,\n",
        "batch_size=32, callbacks=best_MLP_Model)"
      ],
      "id": "9c7578f4"
    },
    {
      "cell_type": "code",
      "execution_count": null,
      "metadata": {
        "colab": {
          "base_uri": "https://localhost:8080/"
        },
        "id": "ssqYy1oL6vU-",
        "outputId": "193b7f6d-12bb-45ff-e4ce-c07bcd70dd5f"
      },
      "outputs": [
        {
          "name": "stdout",
          "output_type": "stream",
          "text": [
            "4/4 [==============================] - 33s 11s/step - loss: 2.0302 - accuracy: 0.2810\n"
          ]
        }
      ],
      "source": [
        "loss, accuracy = model_MLP.evaluate(test_generator)"
      ],
      "id": "ssqYy1oL6vU-"
    },
    {
      "cell_type": "code",
      "execution_count": null,
      "metadata": {
        "colab": {
          "base_uri": "https://localhost:8080/",
          "height": 641
        },
        "id": "_tpVBvOB73fm",
        "outputId": "369a6918-ded0-4f7b-f9dd-2bdb1912b536"
      },
      "outputs": [
        {
          "data": {
            "image/png": "[encoded data removed]",
            "text/plain": [
              "<Figure size 1400x700 with 1 Axes>"
            ]
          },
          "metadata": {},
          "output_type": "display_data"
        }
      ],
      "source": [
        "# Result\n",
        "acc = H.history['accuracy']\n",
        "val_acc = H.history['val_accuracy']\n",
        "loss = H.history['loss']\n",
        "val_loss = H.history['val_loss']\n",
        "\n",
        "epochs = range(len(acc))\n",
        "\n",
        "# visualize accuracy chart\n",
        "fig = plt.figure(figsize=(14,7))\n",
        "plt.plot(epochs, acc, 'r', label='Train Accuracy')\n",
        "plt.plot(epochs, val_acc, 'b', label='Validation Accuracy')\n",
        "plt.xlabel('Epochs')\n",
        "plt.ylabel('Accuracy')\n",
        "plt.title('Accuracy chart')\n",
        "plt.legend(loc='lower right')\n",
        "plt.show()"
      ],
      "id": "_tpVBvOB73fm"
    },
    {
      "cell_type": "code",
      "execution_count": null,
      "metadata": {
        "colab": {
          "base_uri": "https://localhost:8080/"
        },
        "id": "uAw1wEUc7loq",
        "outputId": "e9eeb8e2-6a50-45a0-d216-ca1a9bc071c6"
      },
      "outputs": [
        {
          "name": "stdout",
          "output_type": "stream",
          "text": [
            "MLP Test Accuracy:  0.28099173307418823\n"
          ]
        }
      ],
      "source": [
        "print('MLP Test Accuracy: ', accuracy)"
      ],
      "id": "uAw1wEUc7loq"
    },
    {
      "cell_type": "markdown",
      "metadata": {
        "id": "nbXuC8yICVyB"
      },
      "source": [
        "####**Mạng CNN**"
      ],
      "id": "nbXuC8yICVyB"
    },
    {
      "cell_type": "code",
      "execution_count": null,
      "metadata": {
        "id": "2e73d777"
      },
      "outputs": [],
      "source": [
        "# Callback\n",
        "# Trong earlyStopping: patience=5 nghĩa là sẽ dừng lại sau 5 epoch nếu monitor (ở đây là hàm loss) không cải thiện, verbose = 1 show kết quả train, mode='auto' dừng train khi hàm loss không tăng không giảm\n",
        "callback = EarlyStopping(monitor='val_loss', patience=5, verbose=1, mode='auto')\n",
        "bestModelFileName = \"C:/Users/ADMIN/Downloads/chess_data/chest_best_CNN_model.h5\"\n",
        "bestModel = ModelCheckpoint(bestModelFileName, monitor='val_accuracy', verbose=1, save_best_only=True)"
      ],
      "id": "2e73d777"
    },
    {
      "cell_type": "code",
      "execution_count": null,
      "metadata": {
        "colab": {
          "base_uri": "https://localhost:8080/"
        },
        "id": "74012dec",
        "outputId": "38dee32d-a087-4d10-fe55-b4d3a9e4a96b"
      },
      "outputs": [
        {
          "name": "stdout",
          "output_type": "stream",
          "text": [
            "Model: \"sequential_1\"\n",
            "_________________________________________________________________\n",
            " Layer (type)                Output Shape              Param #   \n",
            "=================================================================\n",
            " conv2d_5 (Conv2D)           (None, 222, 222, 32)      896       \n",
            "                                                                 \n",
            " max_pooling2d_5 (MaxPoolin  (None, 111, 111, 32)      0         \n",
            " g2D)                                                            \n",
            "                                                                 \n",
            " conv2d_6 (Conv2D)           (None, 109, 109, 64)      18496     \n",
            "                                                                 \n",
            " max_pooling2d_6 (MaxPoolin  (None, 54, 54, 64)        0         \n",
            " g2D)                                                            \n",
            "                                                                 \n",
            " conv2d_7 (Conv2D)           (None, 52, 52, 64)        36928     \n",
            "                                                                 \n",
            " max_pooling2d_7 (MaxPoolin  (None, 26, 26, 64)        0         \n",
            " g2D)                                                            \n",
            "                                                                 \n",
            " conv2d_8 (Conv2D)           (None, 24, 24, 128)       73856     \n",
            "                                                                 \n",
            " max_pooling2d_8 (MaxPoolin  (None, 12, 12, 128)       0         \n",
            " g2D)                                                            \n",
            "                                                                 \n",
            " conv2d_9 (Conv2D)           (None, 10, 10, 256)       295168    \n",
            "                                                                 \n",
            " max_pooling2d_9 (MaxPoolin  (None, 5, 5, 256)         0         \n",
            " g2D)                                                            \n",
            "                                                                 \n",
            " flatten_1 (Flatten)         (None, 6400)              0         \n",
            "                                                                 \n",
            " dense_3 (Dense)             (None, 512)               3277312   \n",
            "                                                                 \n",
            " dense_4 (Dense)             (None, 512)               262656    \n",
            "                                                                 \n",
            " dense_5 (Dense)             (None, 6)                 3078      \n",
            "                                                                 \n",
            "=================================================================\n",
            "Total params: 3968390 (15.14 MB)\n",
            "Trainable params: 3968390 (15.14 MB)\n",
            "Non-trainable params: 0 (0.00 Byte)\n",
            "_________________________________________________________________\n",
            "None\n"
          ]
        }
      ],
      "source": [
        "#Model CNN\n",
        "model_CNN = Sequential(\n",
        "    [Conv2D(32,(3,3), activation='relu', input_shape=(img_height, img_width,3)),\n",
        "    MaxPooling2D(2,2),\n",
        "\n",
        "    Conv2D(64,(3,3), activation='relu'),\n",
        "    MaxPooling2D(2,2),\n",
        "\n",
        "    Conv2D(64,(3,3), activation='relu'),\n",
        "    MaxPooling2D(2,2),\n",
        "\n",
        "    Conv2D(128,(3,3), activation='relu'),\n",
        "    MaxPooling2D(2,2),\n",
        "\n",
        "    Conv2D(256,(3,3), activation='relu'),\n",
        "    MaxPooling2D(2,2),\n",
        "\n",
        "    Flatten(),\n",
        "\n",
        "    Dense(512, activation='relu'),\n",
        "    Dense(512, activation='relu'),\n",
        "\n",
        "    Dense(NumOfClasses, activation='softmax')]\n",
        ")\n",
        "print(model_CNN.summary())"
      ],
      "id": "74012dec"
    },
    {
      "cell_type": "code",
      "execution_count": null,
      "metadata": {
        "colab": {
          "base_uri": "https://localhost:8080/"
        },
        "id": "0beee1b9",
        "outputId": "e5622802-4c56-421f-aac7-c7dba3acb162"
      },
      "outputs": [
        {
          "name": "stdout",
          "output_type": "stream",
          "text": [
            "Epoch 1/100\n",
            "87/87 [==============================] - ETA: 0s - loss: 0.2729 - accuracy: 0.8971\n",
            "Epoch 1: val_accuracy improved from -inf to 0.57522, saving model to C:/Users/ADMIN/Downloads/chess_data/chest_best_CNN_model.h5\n",
            "87/87 [==============================] - 17s 150ms/step - loss: 0.2729 - accuracy: 0.8971 - val_loss: 3.7646 - val_accuracy: 0.5752\n"
          ]
        },
        {
          "name": "stderr",
          "output_type": "stream",
          "text": [
            "/usr/local/lib/python3.10/dist-packages/keras/src/engine/training.py:3103: UserWarning: You are saving your model as an HDF5 file via `model.save()`. This file format is considered legacy. We recommend using instead the native Keras format, e.g. `model.save('my_model.keras')`.\n",
            "  saving_api.save_model(\n"
          ]
        },
        {
          "name": "stdout",
          "output_type": "stream",
          "text": [
            "Epoch 2/100\n",
            "87/87 [==============================] - ETA: 0s - loss: 0.2364 - accuracy: 0.9101\n",
            "Epoch 2: val_accuracy did not improve from 0.57522\n",
            "87/87 [==============================] - 13s 147ms/step - loss: 0.2364 - accuracy: 0.9101 - val_loss: 3.8955 - val_accuracy: 0.5752\n",
            "Epoch 3/100\n",
            "87/87 [==============================] - ETA: 0s - loss: 0.2499 - accuracy: 0.9104\n",
            "Epoch 3: val_accuracy improved from 0.57522 to 0.60177, saving model to C:/Users/ADMIN/Downloads/chess_data/chest_best_CNN_model.h5\n",
            "87/87 [==============================] - 13s 147ms/step - loss: 0.2499 - accuracy: 0.9104 - val_loss: 3.4585 - val_accuracy: 0.6018\n",
            "Epoch 4/100\n",
            "87/87 [==============================] - ETA: 0s - loss: 0.2174 - accuracy: 0.9187\n",
            "Epoch 4: val_accuracy did not improve from 0.60177\n",
            "87/87 [==============================] - 14s 154ms/step - loss: 0.2174 - accuracy: 0.9187 - val_loss: 4.1717 - val_accuracy: 0.5841\n",
            "Epoch 5/100\n",
            "87/87 [==============================] - ETA: 0s - loss: 0.1890 - accuracy: 0.9274\n",
            "Epoch 5: val_accuracy improved from 0.60177 to 0.61062, saving model to C:/Users/ADMIN/Downloads/chess_data/chest_best_CNN_model.h5\n",
            "87/87 [==============================] - 12s 143ms/step - loss: 0.1890 - accuracy: 0.9274 - val_loss: 4.5952 - val_accuracy: 0.6106\n",
            "Epoch 6/100\n",
            "87/87 [==============================] - ETA: 0s - loss: 0.1982 - accuracy: 0.9249\n",
            "Epoch 6: val_accuracy did not improve from 0.61062\n",
            "87/87 [==============================] - 13s 148ms/step - loss: 0.1982 - accuracy: 0.9249 - val_loss: 4.7457 - val_accuracy: 0.5841\n",
            "Epoch 7/100\n",
            "87/87 [==============================] - ETA: 0s - loss: 0.1719 - accuracy: 0.9361\n",
            "Epoch 7: val_accuracy did not improve from 0.61062\n",
            "87/87 [==============================] - 13s 147ms/step - loss: 0.1719 - accuracy: 0.9361 - val_loss: 4.2945 - val_accuracy: 0.6018\n",
            "Epoch 8/100\n",
            "87/87 [==============================] - ETA: 0s - loss: 0.1433 - accuracy: 0.9382\n",
            "Epoch 8: val_accuracy did not improve from 0.61062\n",
            "87/87 [==============================] - 13s 144ms/step - loss: 0.1433 - accuracy: 0.9382 - val_loss: 5.5019 - val_accuracy: 0.5841\n",
            "Epoch 9/100\n",
            "87/87 [==============================] - ETA: 0s - loss: 0.1695 - accuracy: 0.9404\n",
            "Epoch 9: val_accuracy did not improve from 0.61062\n",
            "87/87 [==============================] - 13s 145ms/step - loss: 0.1695 - accuracy: 0.9404 - val_loss: 5.1124 - val_accuracy: 0.6018\n",
            "Epoch 10/100\n",
            "87/87 [==============================] - ETA: 0s - loss: 0.2223 - accuracy: 0.9289\n",
            "Epoch 10: val_accuracy did not improve from 0.61062\n",
            "87/87 [==============================] - 14s 155ms/step - loss: 0.2223 - accuracy: 0.9289 - val_loss: 3.7113 - val_accuracy: 0.5929\n",
            "Epoch 11/100\n",
            "87/87 [==============================] - ETA: 0s - loss: 0.2199 - accuracy: 0.9209\n",
            "Epoch 11: val_accuracy did not improve from 0.61062\n",
            "87/87 [==============================] - 15s 174ms/step - loss: 0.2199 - accuracy: 0.9209 - val_loss: 4.0028 - val_accuracy: 0.5929\n",
            "Epoch 12/100\n",
            "87/87 [==============================] - ETA: 0s - loss: 0.1653 - accuracy: 0.9379\n",
            "Epoch 12: val_accuracy did not improve from 0.61062\n",
            "87/87 [==============================] - 13s 151ms/step - loss: 0.1653 - accuracy: 0.9379 - val_loss: 4.3738 - val_accuracy: 0.5841\n",
            "Epoch 13/100\n",
            "87/87 [==============================] - ETA: 0s - loss: 0.1769 - accuracy: 0.9339\n",
            "Epoch 13: val_accuracy did not improve from 0.61062\n",
            "87/87 [==============================] - 14s 164ms/step - loss: 0.1769 - accuracy: 0.9339 - val_loss: 5.0967 - val_accuracy: 0.5841\n",
            "Epoch 14/100\n",
            "87/87 [==============================] - ETA: 0s - loss: 0.1917 - accuracy: 0.9238\n",
            "Epoch 14: val_accuracy did not improve from 0.61062\n",
            "87/87 [==============================] - 13s 153ms/step - loss: 0.1917 - accuracy: 0.9238 - val_loss: 4.5968 - val_accuracy: 0.5310\n",
            "Epoch 15/100\n",
            "87/87 [==============================] - ETA: 0s - loss: 0.1886 - accuracy: 0.9321\n",
            "Epoch 15: val_accuracy did not improve from 0.61062\n",
            "87/87 [==============================] - 13s 149ms/step - loss: 0.1886 - accuracy: 0.9321 - val_loss: 5.5938 - val_accuracy: 0.5487\n",
            "Epoch 16/100\n",
            "87/87 [==============================] - ETA: 0s - loss: 0.1680 - accuracy: 0.9336\n",
            "Epoch 16: val_accuracy did not improve from 0.61062\n",
            "87/87 [==============================] - 13s 150ms/step - loss: 0.1680 - accuracy: 0.9336 - val_loss: 4.9223 - val_accuracy: 0.6106\n",
            "Epoch 17/100\n",
            "87/87 [==============================] - ETA: 0s - loss: 0.1515 - accuracy: 0.9375\n",
            "Epoch 17: val_accuracy did not improve from 0.61062\n",
            "87/87 [==============================] - 13s 154ms/step - loss: 0.1515 - accuracy: 0.9375 - val_loss: 5.0096 - val_accuracy: 0.5841\n",
            "Epoch 18/100\n",
            "87/87 [==============================] - ETA: 0s - loss: 0.1478 - accuracy: 0.9393\n",
            "Epoch 18: val_accuracy did not improve from 0.61062\n",
            "87/87 [==============================] - 13s 154ms/step - loss: 0.1478 - accuracy: 0.9393 - val_loss: 4.7750 - val_accuracy: 0.5929\n",
            "Epoch 19/100\n",
            "87/87 [==============================] - ETA: 0s - loss: 0.1901 - accuracy: 0.9278\n",
            "Epoch 19: val_accuracy did not improve from 0.61062\n",
            "87/87 [==============================] - 15s 167ms/step - loss: 0.1901 - accuracy: 0.9278 - val_loss: 4.1389 - val_accuracy: 0.5752\n",
            "Epoch 20/100\n",
            "87/87 [==============================] - ETA: 0s - loss: 0.1621 - accuracy: 0.9310\n",
            "Epoch 20: val_accuracy did not improve from 0.61062\n",
            "87/87 [==============================] - 13s 152ms/step - loss: 0.1621 - accuracy: 0.9310 - val_loss: 6.2522 - val_accuracy: 0.5929\n",
            "Epoch 21/100\n",
            "87/87 [==============================] - ETA: 0s - loss: 0.1442 - accuracy: 0.9393\n",
            "Epoch 21: val_accuracy did not improve from 0.61062\n",
            "87/87 [==============================] - 13s 153ms/step - loss: 0.1442 - accuracy: 0.9393 - val_loss: 5.6070 - val_accuracy: 0.5929\n",
            "Epoch 22/100\n",
            "87/87 [==============================] - ETA: 0s - loss: 0.1404 - accuracy: 0.9447\n",
            "Epoch 22: val_accuracy did not improve from 0.61062\n",
            "87/87 [==============================] - 13s 153ms/step - loss: 0.1404 - accuracy: 0.9447 - val_loss: 5.9853 - val_accuracy: 0.5575\n",
            "Epoch 23/100\n",
            "87/87 [==============================] - ETA: 0s - loss: 0.1291 - accuracy: 0.9426\n",
            "Epoch 23: val_accuracy did not improve from 0.61062\n",
            "87/87 [==============================] - 13s 153ms/step - loss: 0.1291 - accuracy: 0.9426 - val_loss: 5.9216 - val_accuracy: 0.5752\n",
            "Epoch 24/100\n",
            "87/87 [==============================] - ETA: 0s - loss: 0.1445 - accuracy: 0.9404\n",
            "Epoch 24: val_accuracy did not improve from 0.61062\n",
            "87/87 [==============================] - 13s 152ms/step - loss: 0.1445 - accuracy: 0.9404 - val_loss: 4.7985 - val_accuracy: 0.5929\n",
            "Epoch 25/100\n",
            "87/87 [==============================] - ETA: 0s - loss: 0.1797 - accuracy: 0.9328\n",
            "Epoch 25: val_accuracy did not improve from 0.61062\n",
            "87/87 [==============================] - 13s 150ms/step - loss: 0.1797 - accuracy: 0.9328 - val_loss: 4.2849 - val_accuracy: 0.5398\n",
            "Epoch 26/100\n",
            "87/87 [==============================] - ETA: 0s - loss: 0.1468 - accuracy: 0.9390\n",
            "Epoch 26: val_accuracy did not improve from 0.61062\n",
            "87/87 [==============================] - 13s 152ms/step - loss: 0.1468 - accuracy: 0.9390 - val_loss: 5.1948 - val_accuracy: 0.6018\n",
            "Epoch 27/100\n",
            "87/87 [==============================] - ETA: 0s - loss: 0.1673 - accuracy: 0.9379\n",
            "Epoch 27: val_accuracy did not improve from 0.61062\n",
            "87/87 [==============================] - 13s 152ms/step - loss: 0.1673 - accuracy: 0.9379 - val_loss: 5.3111 - val_accuracy: 0.5664\n",
            "Epoch 28/100\n",
            "87/87 [==============================] - ETA: 0s - loss: 0.1442 - accuracy: 0.9404\n",
            "Epoch 28: val_accuracy did not improve from 0.61062\n",
            "87/87 [==============================] - 13s 153ms/step - loss: 0.1442 - accuracy: 0.9404 - val_loss: 4.3614 - val_accuracy: 0.5929\n",
            "Epoch 29/100\n",
            "87/87 [==============================] - ETA: 0s - loss: 0.1223 - accuracy: 0.9462\n",
            "Epoch 29: val_accuracy did not improve from 0.61062\n",
            "87/87 [==============================] - 13s 150ms/step - loss: 0.1223 - accuracy: 0.9462 - val_loss: 4.9482 - val_accuracy: 0.5929\n",
            "Epoch 30/100\n",
            "87/87 [==============================] - ETA: 0s - loss: 0.1225 - accuracy: 0.9466\n",
            "Epoch 30: val_accuracy did not improve from 0.61062\n",
            "87/87 [==============================] - 13s 154ms/step - loss: 0.1225 - accuracy: 0.9466 - val_loss: 4.8517 - val_accuracy: 0.6018\n",
            "Epoch 31/100\n",
            "87/87 [==============================] - ETA: 0s - loss: 0.1179 - accuracy: 0.9494\n",
            "Epoch 31: val_accuracy did not improve from 0.61062\n",
            "87/87 [==============================] - 13s 149ms/step - loss: 0.1179 - accuracy: 0.9494 - val_loss: 5.3782 - val_accuracy: 0.6106\n",
            "Epoch 32/100\n",
            "87/87 [==============================] - ETA: 0s - loss: 0.1169 - accuracy: 0.9455\n",
            "Epoch 32: val_accuracy did not improve from 0.61062\n",
            "87/87 [==============================] - 14s 164ms/step - loss: 0.1169 - accuracy: 0.9455 - val_loss: 7.2901 - val_accuracy: 0.6106\n",
            "Epoch 33/100\n",
            "87/87 [==============================] - ETA: 0s - loss: 0.1626 - accuracy: 0.9411\n",
            "Epoch 33: val_accuracy did not improve from 0.61062\n",
            "87/87 [==============================] - 13s 148ms/step - loss: 0.1626 - accuracy: 0.9411 - val_loss: 5.6031 - val_accuracy: 0.5133\n",
            "Epoch 34/100\n",
            "87/87 [==============================] - ETA: 0s - loss: 0.1828 - accuracy: 0.9303\n",
            "Epoch 34: val_accuracy did not improve from 0.61062\n",
            "87/87 [==============================] - 13s 154ms/step - loss: 0.1828 - accuracy: 0.9303 - val_loss: 5.6494 - val_accuracy: 0.5575\n",
            "Epoch 35/100\n",
            "87/87 [==============================] - ETA: 0s - loss: 0.1850 - accuracy: 0.9336\n",
            "Epoch 35: val_accuracy did not improve from 0.61062\n",
            "87/87 [==============================] - 13s 151ms/step - loss: 0.1850 - accuracy: 0.9336 - val_loss: 4.9676 - val_accuracy: 0.5664\n",
            "Epoch 36/100\n",
            "87/87 [==============================] - ETA: 0s - loss: 0.2176 - accuracy: 0.9202\n",
            "Epoch 36: val_accuracy did not improve from 0.61062\n",
            "87/87 [==============================] - 13s 152ms/step - loss: 0.2176 - accuracy: 0.9202 - val_loss: 4.4321 - val_accuracy: 0.5398\n",
            "Epoch 37/100\n",
            "87/87 [==============================] - ETA: 0s - loss: 0.2015 - accuracy: 0.9336\n",
            "Epoch 37: val_accuracy did not improve from 0.61062\n",
            "87/87 [==============================] - 13s 151ms/step - loss: 0.2015 - accuracy: 0.9336 - val_loss: 2.9488 - val_accuracy: 0.4956\n",
            "Epoch 38/100\n",
            "87/87 [==============================] - ETA: 0s - loss: 0.1458 - accuracy: 0.9375\n",
            "Epoch 38: val_accuracy did not improve from 0.61062\n",
            "87/87 [==============================] - 13s 149ms/step - loss: 0.1458 - accuracy: 0.9375 - val_loss: 4.8104 - val_accuracy: 0.5221\n",
            "Epoch 39/100\n",
            "87/87 [==============================] - ETA: 0s - loss: 0.1495 - accuracy: 0.9404\n",
            "Epoch 39: val_accuracy did not improve from 0.61062\n",
            "87/87 [==============================] - 13s 147ms/step - loss: 0.1495 - accuracy: 0.9404 - val_loss: 4.7395 - val_accuracy: 0.5752\n",
            "Epoch 40/100\n",
            "87/87 [==============================] - ETA: 0s - loss: 0.1227 - accuracy: 0.9462\n",
            "Epoch 40: val_accuracy did not improve from 0.61062\n",
            "87/87 [==============================] - 13s 148ms/step - loss: 0.1227 - accuracy: 0.9462 - val_loss: 5.2545 - val_accuracy: 0.5929\n",
            "Epoch 41/100\n",
            "87/87 [==============================] - ETA: 0s - loss: 0.1174 - accuracy: 0.9466\n",
            "Epoch 41: val_accuracy did not improve from 0.61062\n",
            "87/87 [==============================] - 14s 155ms/step - loss: 0.1174 - accuracy: 0.9466 - val_loss: 5.3264 - val_accuracy: 0.6106\n",
            "Epoch 42/100\n",
            "87/87 [==============================] - ETA: 0s - loss: 0.1160 - accuracy: 0.9516\n",
            "Epoch 42: val_accuracy did not improve from 0.61062\n",
            "87/87 [==============================] - 13s 151ms/step - loss: 0.1160 - accuracy: 0.9516 - val_loss: 5.1913 - val_accuracy: 0.5841\n",
            "Epoch 43/100\n",
            "87/87 [==============================] - ETA: 0s - loss: 0.1120 - accuracy: 0.9512\n",
            "Epoch 43: val_accuracy did not improve from 0.61062\n",
            "87/87 [==============================] - 13s 148ms/step - loss: 0.1120 - accuracy: 0.9512 - val_loss: 5.7451 - val_accuracy: 0.5929\n",
            "Epoch 44/100\n",
            "87/87 [==============================] - ETA: 0s - loss: 0.1123 - accuracy: 0.9476\n",
            "Epoch 44: val_accuracy did not improve from 0.61062\n",
            "87/87 [==============================] - 13s 147ms/step - loss: 0.1123 - accuracy: 0.9476 - val_loss: 5.8077 - val_accuracy: 0.5664\n",
            "Epoch 45/100\n",
            "87/87 [==============================] - ETA: 0s - loss: 0.1098 - accuracy: 0.9516\n",
            "Epoch 45: val_accuracy did not improve from 0.61062\n",
            "87/87 [==============================] - 13s 149ms/step - loss: 0.1098 - accuracy: 0.9516 - val_loss: 6.0897 - val_accuracy: 0.5841\n",
            "Epoch 46/100\n",
            "87/87 [==============================] - ETA: 0s - loss: 0.1072 - accuracy: 0.9534\n",
            "Epoch 46: val_accuracy did not improve from 0.61062\n",
            "87/87 [==============================] - 14s 160ms/step - loss: 0.1072 - accuracy: 0.9534 - val_loss: 6.2456 - val_accuracy: 0.5841\n",
            "Epoch 47/100\n",
            "87/87 [==============================] - ETA: 0s - loss: 0.1520 - accuracy: 0.9375\n",
            "Epoch 47: val_accuracy did not improve from 0.61062\n",
            "87/87 [==============================] - 13s 152ms/step - loss: 0.1520 - accuracy: 0.9375 - val_loss: 5.6062 - val_accuracy: 0.6018\n",
            "Epoch 48/100\n",
            "87/87 [==============================] - ETA: 0s - loss: 0.1535 - accuracy: 0.9411\n",
            "Epoch 48: val_accuracy did not improve from 0.61062\n",
            "87/87 [==============================] - 20s 225ms/step - loss: 0.1535 - accuracy: 0.9411 - val_loss: 6.6041 - val_accuracy: 0.5752\n",
            "Epoch 49/100\n",
            "87/87 [==============================] - ETA: 0s - loss: 0.2416 - accuracy: 0.9159\n",
            "Epoch 49: val_accuracy did not improve from 0.61062\n",
            "87/87 [==============================] - 14s 157ms/step - loss: 0.2416 - accuracy: 0.9159 - val_loss: 3.8233 - val_accuracy: 0.5752\n",
            "Epoch 50/100\n",
            "87/87 [==============================] - ETA: 0s - loss: 0.1768 - accuracy: 0.9364\n",
            "Epoch 50: val_accuracy improved from 0.61062 to 0.62832, saving model to C:/Users/ADMIN/Downloads/chess_data/chest_best_CNN_model.h5\n",
            "87/87 [==============================] - 13s 153ms/step - loss: 0.1768 - accuracy: 0.9364 - val_loss: 4.2308 - val_accuracy: 0.6283\n",
            "Epoch 51/100\n",
            "87/87 [==============================] - ETA: 0s - loss: 0.1346 - accuracy: 0.9433\n",
            "Epoch 51: val_accuracy did not improve from 0.62832\n",
            "87/87 [==============================] - 13s 152ms/step - loss: 0.1346 - accuracy: 0.9433 - val_loss: 4.5606 - val_accuracy: 0.6018\n",
            "Epoch 52/100\n",
            "87/87 [==============================] - ETA: 0s - loss: 0.1182 - accuracy: 0.9494\n",
            "Epoch 52: val_accuracy did not improve from 0.62832\n",
            "87/87 [==============================] - 13s 150ms/step - loss: 0.1182 - accuracy: 0.9494 - val_loss: 4.8777 - val_accuracy: 0.6195\n",
            "Epoch 53/100\n",
            "87/87 [==============================] - ETA: 0s - loss: 0.1313 - accuracy: 0.9458\n",
            "Epoch 53: val_accuracy improved from 0.62832 to 0.66372, saving model to C:/Users/ADMIN/Downloads/chess_data/chest_best_CNN_model.h5\n",
            "87/87 [==============================] - 13s 150ms/step - loss: 0.1313 - accuracy: 0.9458 - val_loss: 4.9425 - val_accuracy: 0.6637\n",
            "Epoch 54/100\n",
            "87/87 [==============================] - ETA: 0s - loss: 0.1231 - accuracy: 0.9469\n",
            "Epoch 54: val_accuracy did not improve from 0.66372\n",
            "87/87 [==============================] - 13s 148ms/step - loss: 0.1231 - accuracy: 0.9469 - val_loss: 5.7945 - val_accuracy: 0.5575\n",
            "Epoch 55/100\n",
            "87/87 [==============================] - ETA: 0s - loss: 0.1786 - accuracy: 0.9354\n",
            "Epoch 55: val_accuracy did not improve from 0.66372\n",
            "87/87 [==============================] - 13s 150ms/step - loss: 0.1786 - accuracy: 0.9354 - val_loss: 4.4630 - val_accuracy: 0.5664\n",
            "Epoch 56/100\n",
            "87/87 [==============================] - ETA: 0s - loss: 0.1694 - accuracy: 0.9408\n",
            "Epoch 56: val_accuracy did not improve from 0.66372\n",
            "87/87 [==============================] - 15s 169ms/step - loss: 0.1694 - accuracy: 0.9408 - val_loss: 3.5621 - val_accuracy: 0.6195\n",
            "Epoch 57/100\n",
            "87/87 [==============================] - ETA: 0s - loss: 0.1203 - accuracy: 0.9473\n",
            "Epoch 57: val_accuracy did not improve from 0.66372\n",
            "87/87 [==============================] - 13s 152ms/step - loss: 0.1203 - accuracy: 0.9473 - val_loss: 4.3888 - val_accuracy: 0.6195\n",
            "Epoch 58/100\n",
            "87/87 [==============================] - ETA: 0s - loss: 0.1098 - accuracy: 0.9520\n",
            "Epoch 58: val_accuracy did not improve from 0.66372\n",
            "87/87 [==============================] - 18s 212ms/step - loss: 0.1098 - accuracy: 0.9520 - val_loss: 4.6096 - val_accuracy: 0.6106\n",
            "Epoch 59/100\n",
            "87/87 [==============================] - ETA: 0s - loss: 0.1075 - accuracy: 0.9538\n",
            "Epoch 59: val_accuracy did not improve from 0.66372\n",
            "87/87 [==============================] - 16s 188ms/step - loss: 0.1075 - accuracy: 0.9538 - val_loss: 4.6594 - val_accuracy: 0.6195\n",
            "Epoch 60/100\n",
            "87/87 [==============================] - ETA: 0s - loss: 0.1108 - accuracy: 0.9509\n",
            "Epoch 60: val_accuracy did not improve from 0.66372\n",
            "87/87 [==============================] - 17s 198ms/step - loss: 0.1108 - accuracy: 0.9509 - val_loss: 5.4391 - val_accuracy: 0.6372\n",
            "Epoch 61/100\n",
            "87/87 [==============================] - ETA: 0s - loss: 0.1053 - accuracy: 0.9549\n",
            "Epoch 61: val_accuracy did not improve from 0.66372\n",
            "87/87 [==============================] - 15s 173ms/step - loss: 0.1053 - accuracy: 0.9549 - val_loss: 6.0110 - val_accuracy: 0.5929\n",
            "Epoch 62/100\n",
            "87/87 [==============================] - ETA: 0s - loss: 0.1045 - accuracy: 0.9541\n",
            "Epoch 62: val_accuracy did not improve from 0.66372\n",
            "87/87 [==============================] - 13s 153ms/step - loss: 0.1045 - accuracy: 0.9541 - val_loss: 6.6468 - val_accuracy: 0.6195\n",
            "Epoch 63/100\n",
            "87/87 [==============================] - ETA: 0s - loss: 0.0996 - accuracy: 0.9559\n",
            "Epoch 63: val_accuracy did not improve from 0.66372\n",
            "87/87 [==============================] - 13s 152ms/step - loss: 0.0996 - accuracy: 0.9559 - val_loss: 7.1381 - val_accuracy: 0.6195\n",
            "Epoch 64/100\n",
            "87/87 [==============================] - ETA: 0s - loss: 0.2818 - accuracy: 0.9148\n",
            "Epoch 64: val_accuracy did not improve from 0.66372\n",
            "87/87 [==============================] - 13s 150ms/step - loss: 0.2818 - accuracy: 0.9148 - val_loss: 3.5710 - val_accuracy: 0.5398\n",
            "Epoch 65/100\n",
            "87/87 [==============================] - ETA: 0s - loss: 0.2021 - accuracy: 0.9289\n",
            "Epoch 65: val_accuracy did not improve from 0.66372\n",
            "87/87 [==============================] - 13s 151ms/step - loss: 0.2021 - accuracy: 0.9289 - val_loss: 5.2316 - val_accuracy: 0.5133\n",
            "Epoch 66/100\n",
            "87/87 [==============================] - ETA: 0s - loss: 0.1919 - accuracy: 0.9390\n",
            "Epoch 66: val_accuracy did not improve from 0.66372\n",
            "87/87 [==============================] - 14s 159ms/step - loss: 0.1919 - accuracy: 0.9390 - val_loss: 3.2478 - val_accuracy: 0.6106\n",
            "Epoch 67/100\n",
            "87/87 [==============================] - ETA: 0s - loss: 0.1553 - accuracy: 0.9429\n",
            "Epoch 67: val_accuracy did not improve from 0.66372\n",
            "87/87 [==============================] - 16s 180ms/step - loss: 0.1553 - accuracy: 0.9429 - val_loss: 3.5114 - val_accuracy: 0.5841\n",
            "Epoch 68/100\n",
            "87/87 [==============================] - ETA: 0s - loss: 0.1254 - accuracy: 0.9466\n",
            "Epoch 68: val_accuracy did not improve from 0.66372\n",
            "87/87 [==============================] - 17s 200ms/step - loss: 0.1254 - accuracy: 0.9466 - val_loss: 4.3701 - val_accuracy: 0.5664\n",
            "Epoch 69/100\n",
            "87/87 [==============================] - ETA: 0s - loss: 0.1211 - accuracy: 0.9502\n",
            "Epoch 69: val_accuracy did not improve from 0.66372\n",
            "87/87 [==============================] - 16s 184ms/step - loss: 0.1211 - accuracy: 0.9502 - val_loss: 4.8287 - val_accuracy: 0.5664\n",
            "Epoch 70/100\n",
            "87/87 [==============================] - ETA: 0s - loss: 0.1182 - accuracy: 0.9516\n",
            "Epoch 70: val_accuracy did not improve from 0.66372\n",
            "87/87 [==============================] - 15s 174ms/step - loss: 0.1182 - accuracy: 0.9516 - val_loss: 4.2027 - val_accuracy: 0.5664\n",
            "Epoch 71/100\n",
            "87/87 [==============================] - ETA: 0s - loss: 0.1154 - accuracy: 0.9509\n",
            "Epoch 71: val_accuracy did not improve from 0.66372\n",
            "87/87 [==============================] - 15s 169ms/step - loss: 0.1154 - accuracy: 0.9509 - val_loss: 5.4308 - val_accuracy: 0.5752\n",
            "Epoch 72/100\n",
            "87/87 [==============================] - ETA: 0s - loss: 0.1068 - accuracy: 0.9520\n",
            "Epoch 72: val_accuracy did not improve from 0.66372\n",
            "87/87 [==============================] - 14s 158ms/step - loss: 0.1068 - accuracy: 0.9520 - val_loss: 5.6985 - val_accuracy: 0.5929\n",
            "Epoch 73/100\n",
            "87/87 [==============================] - ETA: 0s - loss: 0.1080 - accuracy: 0.9541\n",
            "Epoch 73: val_accuracy did not improve from 0.66372\n",
            "87/87 [==============================] - 13s 154ms/step - loss: 0.1080 - accuracy: 0.9541 - val_loss: 4.9113 - val_accuracy: 0.6195\n",
            "Epoch 74/100\n",
            "87/87 [==============================] - ETA: 0s - loss: 0.1046 - accuracy: 0.9541\n",
            "Epoch 74: val_accuracy did not improve from 0.66372\n",
            "87/87 [==============================] - 15s 171ms/step - loss: 0.1046 - accuracy: 0.9541 - val_loss: 5.5673 - val_accuracy: 0.6018\n",
            "Epoch 75/100\n",
            "87/87 [==============================] - ETA: 0s - loss: 0.0991 - accuracy: 0.9567\n",
            "Epoch 75: val_accuracy did not improve from 0.66372\n",
            "87/87 [==============================] - 14s 155ms/step - loss: 0.0991 - accuracy: 0.9567 - val_loss: 6.1195 - val_accuracy: 0.5841\n",
            "Epoch 76/100\n",
            "87/87 [==============================] - ETA: 0s - loss: 0.0983 - accuracy: 0.9574\n",
            "Epoch 76: val_accuracy did not improve from 0.66372\n",
            "87/87 [==============================] - 13s 149ms/step - loss: 0.0983 - accuracy: 0.9574 - val_loss: 6.3415 - val_accuracy: 0.6018\n",
            "Epoch 77/100\n",
            "87/87 [==============================] - ETA: 0s - loss: 0.1050 - accuracy: 0.9556\n",
            "Epoch 77: val_accuracy did not improve from 0.66372\n",
            "87/87 [==============================] - 14s 162ms/step - loss: 0.1050 - accuracy: 0.9556 - val_loss: 7.9260 - val_accuracy: 0.6106\n",
            "Epoch 78/100\n",
            "87/87 [==============================] - ETA: 0s - loss: 0.0980 - accuracy: 0.9577\n",
            "Epoch 78: val_accuracy did not improve from 0.66372\n",
            "87/87 [==============================] - 13s 145ms/step - loss: 0.0980 - accuracy: 0.9577 - val_loss: 8.0753 - val_accuracy: 0.5664\n",
            "Epoch 79/100\n",
            "87/87 [==============================] - ETA: 0s - loss: 0.0972 - accuracy: 0.9596\n",
            "Epoch 79: val_accuracy did not improve from 0.66372\n",
            "87/87 [==============================] - 13s 150ms/step - loss: 0.0972 - accuracy: 0.9596 - val_loss: 7.9154 - val_accuracy: 0.5575\n",
            "Epoch 80/100\n",
            "87/87 [==============================] - ETA: 0s - loss: 0.1904 - accuracy: 0.9401\n",
            "Epoch 80: val_accuracy did not improve from 0.66372\n",
            "87/87 [==============================] - 14s 160ms/step - loss: 0.1904 - accuracy: 0.9401 - val_loss: 5.7276 - val_accuracy: 0.5221\n",
            "Epoch 81/100\n",
            "87/87 [==============================] - ETA: 0s - loss: 0.2073 - accuracy: 0.9325\n",
            "Epoch 81: val_accuracy did not improve from 0.66372\n",
            "87/87 [==============================] - 13s 146ms/step - loss: 0.2073 - accuracy: 0.9325 - val_loss: 4.8554 - val_accuracy: 0.5310\n",
            "Epoch 82/100\n",
            "87/87 [==============================] - ETA: 0s - loss: 0.1594 - accuracy: 0.9422\n",
            "Epoch 82: val_accuracy did not improve from 0.66372\n",
            "87/87 [==============================] - 13s 148ms/step - loss: 0.1594 - accuracy: 0.9422 - val_loss: 4.3945 - val_accuracy: 0.5487\n",
            "Epoch 83/100\n",
            "87/87 [==============================] - ETA: 0s - loss: 0.1212 - accuracy: 0.9531\n",
            "Epoch 83: val_accuracy did not improve from 0.66372\n",
            "87/87 [==============================] - 13s 152ms/step - loss: 0.1212 - accuracy: 0.9531 - val_loss: 4.8728 - val_accuracy: 0.5752\n",
            "Epoch 84/100\n",
            "87/87 [==============================] - ETA: 0s - loss: 0.0991 - accuracy: 0.9592\n",
            "Epoch 84: val_accuracy did not improve from 0.66372\n",
            "87/87 [==============================] - 13s 155ms/step - loss: 0.0991 - accuracy: 0.9592 - val_loss: 4.8079 - val_accuracy: 0.5398\n",
            "Epoch 85/100\n",
            "87/87 [==============================] - ETA: 0s - loss: 0.0968 - accuracy: 0.9614\n",
            "Epoch 85: val_accuracy did not improve from 0.66372\n",
            "87/87 [==============================] - 13s 150ms/step - loss: 0.0968 - accuracy: 0.9614 - val_loss: 5.0713 - val_accuracy: 0.5398\n",
            "Epoch 86/100\n",
            "87/87 [==============================] - ETA: 0s - loss: 0.0942 - accuracy: 0.9581\n",
            "Epoch 86: val_accuracy did not improve from 0.66372\n",
            "87/87 [==============================] - 13s 150ms/step - loss: 0.0942 - accuracy: 0.9581 - val_loss: 5.2315 - val_accuracy: 0.5487\n",
            "Epoch 87/100\n",
            "87/87 [==============================] - ETA: 0s - loss: 0.0938 - accuracy: 0.9592\n",
            "Epoch 87: val_accuracy did not improve from 0.66372\n",
            "87/87 [==============================] - 13s 151ms/step - loss: 0.0938 - accuracy: 0.9592 - val_loss: 5.7023 - val_accuracy: 0.5575\n",
            "Epoch 88/100\n",
            "87/87 [==============================] - ETA: 0s - loss: 0.0863 - accuracy: 0.9621\n",
            "Epoch 88: val_accuracy did not improve from 0.66372\n",
            "87/87 [==============================] - 14s 157ms/step - loss: 0.0863 - accuracy: 0.9621 - val_loss: 5.8918 - val_accuracy: 0.5575\n",
            "Epoch 89/100\n",
            "87/87 [==============================] - ETA: 0s - loss: 0.0868 - accuracy: 0.9628\n",
            "Epoch 89: val_accuracy did not improve from 0.66372\n",
            "87/87 [==============================] - 13s 151ms/step - loss: 0.0868 - accuracy: 0.9628 - val_loss: 6.2937 - val_accuracy: 0.5575\n",
            "Epoch 90/100\n",
            "87/87 [==============================] - ETA: 0s - loss: 0.0853 - accuracy: 0.9624\n",
            "Epoch 90: val_accuracy did not improve from 0.66372\n",
            "87/87 [==============================] - 13s 149ms/step - loss: 0.0853 - accuracy: 0.9624 - val_loss: 6.5331 - val_accuracy: 0.5575\n",
            "Epoch 91/100\n",
            "87/87 [==============================] - ETA: 0s - loss: 0.0835 - accuracy: 0.9646\n",
            "Epoch 91: val_accuracy did not improve from 0.66372\n",
            "87/87 [==============================] - 13s 154ms/step - loss: 0.0835 - accuracy: 0.9646 - val_loss: 7.1448 - val_accuracy: 0.5487\n",
            "Epoch 92/100\n",
            "87/87 [==============================] - ETA: 0s - loss: 0.0818 - accuracy: 0.9664\n",
            "Epoch 92: val_accuracy did not improve from 0.66372\n",
            "87/87 [==============================] - 15s 173ms/step - loss: 0.0818 - accuracy: 0.9664 - val_loss: 7.4536 - val_accuracy: 0.5575\n",
            "Epoch 93/100\n",
            "87/87 [==============================] - ETA: 0s - loss: 0.0791 - accuracy: 0.9675\n",
            "Epoch 93: val_accuracy did not improve from 0.66372\n",
            "87/87 [==============================] - 13s 150ms/step - loss: 0.0791 - accuracy: 0.9675 - val_loss: 7.7744 - val_accuracy: 0.5575\n",
            "Epoch 94/100\n",
            "87/87 [==============================] - ETA: 0s - loss: 0.0773 - accuracy: 0.9671\n",
            "Epoch 94: val_accuracy did not improve from 0.66372\n",
            "87/87 [==============================] - 13s 144ms/step - loss: 0.0773 - accuracy: 0.9671 - val_loss: 8.2091 - val_accuracy: 0.5664\n",
            "Epoch 95/100\n",
            "87/87 [==============================] - ETA: 0s - loss: 0.0853 - accuracy: 0.9606\n",
            "Epoch 95: val_accuracy did not improve from 0.66372\n",
            "87/87 [==============================] - 13s 151ms/step - loss: 0.0853 - accuracy: 0.9606 - val_loss: 8.1028 - val_accuracy: 0.5487\n",
            "Epoch 96/100\n",
            "87/87 [==============================] - ETA: 0s - loss: 0.2264 - accuracy: 0.9263\n",
            "Epoch 96: val_accuracy did not improve from 0.66372\n",
            "87/87 [==============================] - 14s 156ms/step - loss: 0.2264 - accuracy: 0.9263 - val_loss: 6.2859 - val_accuracy: 0.4867\n",
            "Epoch 97/100\n",
            "87/87 [==============================] - ETA: 0s - loss: 0.2406 - accuracy: 0.9220\n",
            "Epoch 97: val_accuracy did not improve from 0.66372\n",
            "87/87 [==============================] - 13s 153ms/step - loss: 0.2406 - accuracy: 0.9220 - val_loss: 3.5428 - val_accuracy: 0.5310\n",
            "Epoch 98/100\n",
            "87/87 [==============================] - ETA: 0s - loss: 0.1448 - accuracy: 0.9491\n",
            "Epoch 98: val_accuracy did not improve from 0.66372\n",
            "87/87 [==============================] - 13s 147ms/step - loss: 0.1448 - accuracy: 0.9491 - val_loss: 3.9275 - val_accuracy: 0.5841\n",
            "Epoch 99/100\n",
            "87/87 [==============================] - ETA: 0s - loss: 0.1029 - accuracy: 0.9603\n",
            "Epoch 99: val_accuracy did not improve from 0.66372\n",
            "87/87 [==============================] - 15s 166ms/step - loss: 0.1029 - accuracy: 0.9603 - val_loss: 4.1242 - val_accuracy: 0.5575\n",
            "Epoch 100/100\n",
            "87/87 [==============================] - ETA: 0s - loss: 0.0859 - accuracy: 0.9646\n",
            "Epoch 100: val_accuracy did not improve from 0.66372\n",
            "87/87 [==============================] - 13s 150ms/step - loss: 0.0859 - accuracy: 0.9646 - val_loss: 4.3568 - val_accuracy: 0.5929\n"
          ]
        }
      ],
      "source": [
        "# Compile the model with Adam Optimizer\n",
        "model_CNN.compile(optimizer='Adam', loss='categorical_crossentropy', metrics=['accuracy'])\n",
        "history = model_CNN.fit(train_generator, epochs=100,batch_size=32, verbose=1, validation_data=valid_generator, callbacks=bestModel)\n"
      ],
      "id": "0beee1b9"
    },
    {
      "cell_type": "code",
      "execution_count": null,
      "metadata": {
        "colab": {
          "base_uri": "https://localhost:8080/",
          "height": 1000
        },
        "id": "ca7106da",
        "outputId": "c2ecf35c-db3e-444d-c14f-ffe6662435e3"
      },
      "outputs": [
        {
          "data": {
            "image/png": "[encoded data removed]",
            "text/plain": [
              "<Figure size 1400x700 with 1 Axes>"
            ]
          },
          "metadata": {},
          "output_type": "display_data"
        },
        {
          "data": {
            "image/png": "[encoded data removed]",
            "text/plain": [
              "<Figure size 1400x700 with 1 Axes>"
            ]
          },
          "metadata": {},
          "output_type": "display_data"
        }
      ],
      "source": [
        "# Result\n",
        "acc = history.history['accuracy']\n",
        "val_acc = history.history['val_accuracy']\n",
        "loss = history.history['loss']\n",
        "val_loss = history.history['val_loss']\n",
        "\n",
        "epochs = range(len(acc))\n",
        "\n",
        "# visualize accuracy chart\n",
        "fig = plt.figure(figsize=(14,7))\n",
        "plt.plot(epochs, acc, 'r', label='Train Accuracy')\n",
        "plt.plot(epochs, val_acc, 'b', label='Validation Accuracy')\n",
        "plt.xlabel('Epochs')\n",
        "plt.ylabel('Accuracy')\n",
        "plt.title('Accuracy chart')\n",
        "plt.legend(loc='lower right')\n",
        "plt.show()\n",
        "\n",
        "# visualize loss chart\n",
        "fig1 = plt.figure(figsize=(14,7))\n",
        "plt.plot(epochs, loss, 'r', label='Train loss')\n",
        "plt.plot(epochs, val_loss, 'b', label='Validation loss')\n",
        "plt.xlabel('Epochs')\n",
        "plt.ylabel('Loss')\n",
        "plt.title('Loss chart')\n",
        "plt.legend(loc='upper left')\n",
        "plt.show()"
      ],
      "id": "ca7106da"
    },
    {
      "cell_type": "code",
      "execution_count": null,
      "metadata": {
        "colab": {
          "base_uri": "https://localhost:8080/"
        },
        "id": "1teSDQgpYH1X",
        "outputId": "8bd5557a-bce7-4bff-936c-253d063d104d"
      },
      "outputs": [
        {
          "name": "stdout",
          "output_type": "stream",
          "text": [
            "Validation Accuracy: 0.5929\n"
          ]
        }
      ],
      "source": [
        "print(f\"Validation Accuracy: {val_acc[-1]:.4f}\")"
      ],
      "id": "1teSDQgpYH1X"
    },
    {
      "cell_type": "code",
      "execution_count": null,
      "metadata": {
        "colab": {
          "base_uri": "https://localhost:8080/"
        },
        "id": "h09i90TDV9zf",
        "outputId": "e1809c03-b21b-4dfd-e580-5002cef53191"
      },
      "outputs": [
        {
          "name": "stdout",
          "output_type": "stream",
          "text": [
            "4/4 [==============================] - 32s 11s/step - loss: 3.9735 - accuracy: 0.6198\n"
          ]
        }
      ],
      "source": [
        "loss, accuracy = model_CNN.evaluate(test_generator)"
      ],
      "id": "h09i90TDV9zf"
    },
    {
      "cell_type": "code",
      "execution_count": null,
      "metadata": {
        "colab": {
          "base_uri": "https://localhost:8080/"
        },
        "id": "5WfmI_EbZvYT",
        "outputId": "a23b6d7b-d005-435c-b344-c62e01faaf4f"
      },
      "outputs": [
        {
          "name": "stdout",
          "output_type": "stream",
          "text": [
            "CNN Test Accuracy:  0.6198347210884094\n"
          ]
        }
      ],
      "source": [
        "print('CNN Test Accuracy: ',accuracy)"
      ],
      "id": "5WfmI_EbZvYT"
    },
    {
      "cell_type": "markdown",
      "metadata": {
        "id": "TnUmlOkHvJhJ"
      },
      "source": [
        "#### **Mạng VGG16**"
      ],
      "id": "TnUmlOkHvJhJ"
    },
    {
      "cell_type": "code",
      "execution_count": 10,
      "metadata": {
        "colab": {
          "base_uri": "https://localhost:8080/"
        },
        "id": "bxlTtPipzsj4",
        "outputId": "227ff0a0-1261-4664-ba98-c894fd8302af"
      },
      "outputs": [
        {
          "output_type": "stream",
          "name": "stdout",
          "text": [
            "Model: \"model_2\"\n",
            "_________________________________________________________________\n",
            " Layer (type)                Output Shape              Param #   \n",
            "=================================================================\n",
            " input_3 (InputLayer)        [(None, 224, 224, 3)]     0         \n",
            "                                                                 \n",
            " block1_conv1 (Conv2D)       (None, 224, 224, 64)      1792      \n",
            "                                                                 \n",
            " block1_conv2 (Conv2D)       (None, 224, 224, 64)      36928     \n",
            "                                                                 \n",
            " block1_pool (MaxPooling2D)  (None, 112, 112, 64)      0         \n",
            "                                                                 \n",
            " block2_conv1 (Conv2D)       (None, 112, 112, 128)     73856     \n",
            "                                                                 \n",
            " block2_conv2 (Conv2D)       (None, 112, 112, 128)     147584    \n",
            "                                                                 \n",
            " block2_pool (MaxPooling2D)  (None, 56, 56, 128)       0         \n",
            "                                                                 \n",
            " block3_conv1 (Conv2D)       (None, 56, 56, 256)       295168    \n",
            "                                                                 \n",
            " block3_conv2 (Conv2D)       (None, 56, 56, 256)       590080    \n",
            "                                                                 \n",
            " block3_conv3 (Conv2D)       (None, 56, 56, 256)       590080    \n",
            "                                                                 \n",
            " block3_pool (MaxPooling2D)  (None, 28, 28, 256)       0         \n",
            "                                                                 \n",
            " block4_conv1 (Conv2D)       (None, 28, 28, 512)       1180160   \n",
            "                                                                 \n",
            " block4_conv2 (Conv2D)       (None, 28, 28, 512)       2359808   \n",
            "                                                                 \n",
            " block4_conv3 (Conv2D)       (None, 28, 28, 512)       2359808   \n",
            "                                                                 \n",
            " block4_pool (MaxPooling2D)  (None, 14, 14, 512)       0         \n",
            "                                                                 \n",
            " block5_conv1 (Conv2D)       (None, 14, 14, 512)       2359808   \n",
            "                                                                 \n",
            " block5_conv2 (Conv2D)       (None, 14, 14, 512)       2359808   \n",
            "                                                                 \n",
            " block5_conv3 (Conv2D)       (None, 14, 14, 512)       2359808   \n",
            "                                                                 \n",
            " block5_pool (MaxPooling2D)  (None, 7, 7, 512)         0         \n",
            "                                                                 \n",
            " flatten_2 (Flatten)         (None, 25088)             0         \n",
            "                                                                 \n",
            " dropout_2 (Dropout)         (None, 25088)             0         \n",
            "                                                                 \n",
            " dense_2 (Dense)             (None, 6)                 150534    \n",
            "                                                                 \n",
            "=================================================================\n",
            "Total params: 14865222 (56.71 MB)\n",
            "Trainable params: 7229958 (27.58 MB)\n",
            "Non-trainable params: 7635264 (29.13 MB)\n",
            "_________________________________________________________________\n",
            "None\n"
          ]
        }
      ],
      "source": [
        "\n",
        "from tensorflow.keras.applications import VGG16\n",
        "from tensorflow.keras.layers import Flatten, Dense, Dropout\n",
        "from tensorflow.keras.models import Model\n",
        "\n",
        "# Define the pre-trained model\n",
        "base_model = VGG16(weights='imagenet', include_top=False, input_shape=(img_height, img_width, 3))\n",
        "\n",
        "# Freeze the convolutional layers in the pre-trained model\n",
        "for layer in base_model.layers[:14]:\n",
        "    layer.trainable = False\n",
        "# Add new layers for classification\n",
        "x = base_model.output\n",
        "x = Flatten()(x)\n",
        "x = Dropout(0.7)(x)\n",
        "predictions = Dense(NumOfClasses, activation='softmax')(x)\n",
        "\n",
        "# Create the new model\n",
        "model_VGG16 = Model(inputs=base_model.input, outputs=predictions)\n",
        "print(model_VGG16.summary())"
      ],
      "id": "bxlTtPipzsj4"
    },
    {
      "cell_type": "markdown",
      "source": [
        "**Data set không liên quan đến tập ImageNet và dữ liệu cũng rất nhỏ nên đóng băng 50% base model VGG16**"
      ],
      "metadata": {
        "id": "4iT3zGLMRGz-"
      },
      "id": "4iT3zGLMRGz-"
    },
    {
      "cell_type": "markdown",
      "source": [
        "#### Layer[:11] == False\n",
        "- Không dùng drop out\n",
        "- Callbacks: Learning rate scheduler, ES"
      ],
      "metadata": {
        "id": "azvIMzDZ4Z-4"
      },
      "id": "azvIMzDZ4Z-4"
    },
    {
      "cell_type": "code",
      "execution_count": null,
      "metadata": {
        "colab": {
          "base_uri": "https://localhost:8080/"
        },
        "id": "Q838vuiOzo1F",
        "outputId": "e613d816-4f8a-4e8a-b8af-ffecf2706171"
      },
      "outputs": [
        {
          "metadata": {
            "tags": null
          },
          "name": "stdout",
          "output_type": "stream",
          "text": [
            "Epoch 1/100\n",
            "87/87 [==============================] - 2112s 24s/step - loss: 2.1166 - accuracy: 0.1658 - val_loss: 1.7900 - val_accuracy: 0.1770\n",
            "Epoch 2/100\n",
            "87/87 [==============================] - 18s 206ms/step - loss: 1.7902 - accuracy: 0.1755 - val_loss: 1.7893 - val_accuracy: 0.1770\n",
            "Epoch 3/100\n",
            "28/87 [========>.....................] - ETA: 11s - loss: 1.7900 - accuracy: 0.1862"
          ]
        }
      ],
      "source": [
        "|\n",
        "# Callback: Giảm learningrate làm cho mô hình hội tụ tốt hơn, giảm overfitting\n",
        "LRS = LearningRateScheduler(scheduler)\n",
        "early_stopping=EarlyStopping(monitor='val_loss', patience=5, verbose=1, mode='auto')\n",
        "# Compile the model\n",
        "model_VGG16.compile(optimizer='Adam', loss='categorical_crossentropy', metrics=['accuracy'])\n",
        "\n",
        "# Train the model\n",
        "history = model_VGG16.fit(train_generator, epochs=100, verbose=1, validation_data=valid_generator, callbacks=early_stopping)\n"
      ],
      "id": "Q838vuiOzo1F"
    },
    {
      "cell_type": "code",
      "source": [
        "bestModelFileName = \"C:/Users/ADMIN/Downloads/chess_data//content/drive/MyDrive/chess_data-20240317T002204Z-001/chess_data/chest_best_CNN_model.h5\"\n",
        "bestModel = ModelCheckpoint(bestModelFileName, monitor='val_accuracy', verbose=1, save_best_only=True)\n",
        "model_VGG16.compile(optimizer='Adam', loss='categorical_crossentropy', metrics=['accuracy'])\n",
        "\n",
        "# Train the model\n",
        "history_2 = model_VGG16.fit(train_generator, epochs=30, verbose=1, validation_data=valid_generator, callbacks=[bestModel, early_stopping])"
      ],
      "metadata": {
        "colab": {
          "base_uri": "https://localhost:8080/"
        },
        "id": "JhLI54hZXA9V",
        "outputId": "9dd79e98-18cf-4f53-d2b0-e797355b053e"
      },
      "id": "JhLI54hZXA9V",
      "execution_count": null,
      "outputs": [
        {
          "metadata": {
            "tags": null
          },
          "name": "stdout",
          "output_type": "stream",
          "text": [
            "Epoch 1/100\n",
            "87/87 [==============================] - ETA: 0s - loss: 1.7898 - accuracy: 0.1712\n",
            "Epoch 1: val_accuracy improved from -inf to 0.17699, saving model to C:/Users/ADMIN/Downloads/chess_data//content/drive/MyDrive/chess_data-20240317T002204Z-001/chess_data/chest_best_CNN_model.h5\n"
          ]
        },
        {
          "metadata": {
            "tags": null
          },
          "name": "stderr",
          "output_type": "stream",
          "text": [
            "/usr/local/lib/python3.10/dist-packages/keras/src/engine/training.py:3103: UserWarning: You are saving your model as an HDF5 file via `model.save()`. This file format is considered legacy. We recommend using instead the native Keras format, e.g. `model.save('my_model.keras')`.\n",
            "  saving_api.save_model(\n"
          ]
        },
        {
          "output_type": "stream",
          "name": "stdout",
          "text": [
            "87/87 [==============================] - 22s 204ms/step - loss: 1.7898 - accuracy: 0.1712 - val_loss: 1.7888 - val_accuracy: 0.1770\n",
            "Epoch 2/100\n",
            "87/87 [==============================] - ETA: 0s - loss: 1.7896 - accuracy: 0.1798\n",
            "Epoch 2: val_accuracy did not improve from 0.17699\n",
            "87/87 [==============================] - 17s 195ms/step - loss: 1.7896 - accuracy: 0.1798 - val_loss: 1.7888 - val_accuracy: 0.1770\n",
            "Epoch 3/100\n",
            "87/87 [==============================] - ETA: 0s - loss: 1.7896 - accuracy: 0.1798\n",
            "Epoch 3: val_accuracy did not improve from 0.17699\n",
            "87/87 [==============================] - 17s 197ms/step - loss: 1.7896 - accuracy: 0.1798 - val_loss: 1.7888 - val_accuracy: 0.1770\n",
            "Epoch 4/100\n",
            "87/87 [==============================] - ETA: 0s - loss: 1.7897 - accuracy: 0.1798\n",
            "Epoch 4: val_accuracy did not improve from 0.17699\n",
            "87/87 [==============================] - 17s 191ms/step - loss: 1.7897 - accuracy: 0.1798 - val_loss: 1.7888 - val_accuracy: 0.1770\n",
            "Epoch 5/100\n",
            "87/87 [==============================] - ETA: 0s - loss: 1.7897 - accuracy: 0.1798\n",
            "Epoch 5: val_accuracy did not improve from 0.17699\n",
            "87/87 [==============================] - 17s 191ms/step - loss: 1.7897 - accuracy: 0.1798 - val_loss: 1.7889 - val_accuracy: 0.1770\n",
            "Epoch 6/100\n",
            "87/87 [==============================] - ETA: 0s - loss: 1.7896 - accuracy: 0.1798\n",
            "Epoch 6: val_accuracy did not improve from 0.17699\n",
            "87/87 [==============================] - 17s 198ms/step - loss: 1.7896 - accuracy: 0.1798 - val_loss: 1.7888 - val_accuracy: 0.1770\n",
            "Epoch 7/100\n",
            "87/87 [==============================] - ETA: 0s - loss: 1.7896 - accuracy: 0.1798\n",
            "Epoch 7: val_accuracy did not improve from 0.17699\n",
            "87/87 [==============================] - 17s 192ms/step - loss: 1.7896 - accuracy: 0.1798 - val_loss: 1.7888 - val_accuracy: 0.1770\n",
            "Epoch 8/100\n",
            "87/87 [==============================] - ETA: 0s - loss: 1.7896 - accuracy: 0.1798\n",
            "Epoch 8: val_accuracy did not improve from 0.17699\n",
            "87/87 [==============================] - 17s 194ms/step - loss: 1.7896 - accuracy: 0.1798 - val_loss: 1.7888 - val_accuracy: 0.1770\n",
            "Epoch 9/100\n",
            "87/87 [==============================] - ETA: 0s - loss: 1.7900 - accuracy: 0.1798\n",
            "Epoch 9: val_accuracy did not improve from 0.17699\n",
            "87/87 [==============================] - 17s 194ms/step - loss: 1.7900 - accuracy: 0.1798 - val_loss: 1.7888 - val_accuracy: 0.1770\n",
            "Epoch 10/100\n",
            "87/87 [==============================] - ETA: 0s - loss: 1.7896 - accuracy: 0.1798\n",
            "Epoch 10: val_accuracy did not improve from 0.17699\n",
            "87/87 [==============================] - 17s 195ms/step - loss: 1.7896 - accuracy: 0.1798 - val_loss: 1.7888 - val_accuracy: 0.1770\n",
            "Epoch 11/100\n",
            "87/87 [==============================] - ETA: 0s - loss: 1.7896 - accuracy: 0.1694\n",
            "Epoch 11: val_accuracy did not improve from 0.17699\n",
            "87/87 [==============================] - 17s 196ms/step - loss: 1.7896 - accuracy: 0.1694 - val_loss: 1.7888 - val_accuracy: 0.1770\n",
            "Epoch 12/100\n",
            "87/87 [==============================] - ETA: 0s - loss: 1.7897 - accuracy: 0.1798\n",
            "Epoch 12: val_accuracy did not improve from 0.17699\n",
            "87/87 [==============================] - 17s 195ms/step - loss: 1.7897 - accuracy: 0.1798 - val_loss: 1.7888 - val_accuracy: 0.1770\n",
            "Epoch 13/100\n",
            "87/87 [==============================] - ETA: 0s - loss: 1.7896 - accuracy: 0.1798\n",
            "Epoch 13: val_accuracy did not improve from 0.17699\n",
            "87/87 [==============================] - 18s 202ms/step - loss: 1.7896 - accuracy: 0.1798 - val_loss: 1.7888 - val_accuracy: 0.1770\n",
            "Epoch 14/100\n",
            "87/87 [==============================] - ETA: 0s - loss: 1.7895 - accuracy: 0.1798\n",
            "Epoch 14: val_accuracy did not improve from 0.17699\n",
            "87/87 [==============================] - 17s 194ms/step - loss: 1.7895 - accuracy: 0.1798 - val_loss: 1.7888 - val_accuracy: 0.1770\n",
            "Epoch 15/100\n",
            "87/87 [==============================] - ETA: 0s - loss: 1.7896 - accuracy: 0.1798\n",
            "Epoch 15: val_accuracy did not improve from 0.17699\n",
            "87/87 [==============================] - 17s 195ms/step - loss: 1.7896 - accuracy: 0.1798 - val_loss: 1.7888 - val_accuracy: 0.1770\n",
            "Epoch 16/100\n",
            "87/87 [==============================] - ETA: 0s - loss: 1.7896 - accuracy: 0.1798\n",
            "Epoch 16: val_accuracy did not improve from 0.17699\n",
            "87/87 [==============================] - 18s 202ms/step - loss: 1.7896 - accuracy: 0.1798 - val_loss: 1.7888 - val_accuracy: 0.1770\n",
            "Epoch 17/100\n",
            "87/87 [==============================] - ETA: 0s - loss: 1.7895 - accuracy: 0.1798\n",
            "Epoch 17: val_accuracy did not improve from 0.17699\n",
            "87/87 [==============================] - 17s 194ms/step - loss: 1.7895 - accuracy: 0.1798 - val_loss: 1.7888 - val_accuracy: 0.1770\n",
            "Epoch 18/100\n",
            "87/87 [==============================] - ETA: 0s - loss: 1.7895 - accuracy: 0.1759\n",
            "Epoch 18: val_accuracy did not improve from 0.17699\n",
            "87/87 [==============================] - 17s 195ms/step - loss: 1.7895 - accuracy: 0.1759 - val_loss: 1.7888 - val_accuracy: 0.1770\n",
            "Epoch 19/100\n",
            "87/87 [==============================] - ETA: 0s - loss: 1.7895 - accuracy: 0.1798\n",
            "Epoch 19: val_accuracy did not improve from 0.17699\n",
            "87/87 [==============================] - 17s 198ms/step - loss: 1.7895 - accuracy: 0.1798 - val_loss: 1.7888 - val_accuracy: 0.1770\n",
            "Epoch 20/100\n",
            "87/87 [==============================] - ETA: 0s - loss: 1.7895 - accuracy: 0.1798\n",
            "Epoch 20: val_accuracy did not improve from 0.17699\n",
            "87/87 [==============================] - 17s 196ms/step - loss: 1.7895 - accuracy: 0.1798 - val_loss: 1.7888 - val_accuracy: 0.1770\n",
            "Epoch 21/100\n",
            "87/87 [==============================] - ETA: 0s - loss: 1.7895 - accuracy: 0.1798\n",
            "Epoch 21: val_accuracy did not improve from 0.17699\n",
            "87/87 [==============================] - 17s 196ms/step - loss: 1.7895 - accuracy: 0.1798 - val_loss: 1.7888 - val_accuracy: 0.1770\n",
            "Epoch 22/100\n",
            "87/87 [==============================] - ETA: 0s - loss: 1.7896 - accuracy: 0.1798\n",
            "Epoch 22: val_accuracy did not improve from 0.17699\n",
            "87/87 [==============================] - 17s 198ms/step - loss: 1.7896 - accuracy: 0.1798 - val_loss: 1.7888 - val_accuracy: 0.1770\n",
            "Epoch 23/100\n",
            "87/87 [==============================] - ETA: 0s - loss: 1.7895 - accuracy: 0.1798\n",
            "Epoch 23: val_accuracy did not improve from 0.17699\n",
            "87/87 [==============================] - 17s 195ms/step - loss: 1.7895 - accuracy: 0.1798 - val_loss: 1.7888 - val_accuracy: 0.1770\n",
            "Epoch 24/100\n",
            "87/87 [==============================] - ETA: 0s - loss: 1.7895 - accuracy: 0.1744\n",
            "Epoch 24: val_accuracy did not improve from 0.17699\n",
            "87/87 [==============================] - 17s 196ms/step - loss: 1.7895 - accuracy: 0.1744 - val_loss: 1.7888 - val_accuracy: 0.1770\n",
            "Epoch 25/100\n",
            "87/87 [==============================] - ETA: 0s - loss: 1.7895 - accuracy: 0.1798\n",
            "Epoch 25: val_accuracy did not improve from 0.17699\n",
            "87/87 [==============================] - 17s 195ms/step - loss: 1.7895 - accuracy: 0.1798 - val_loss: 1.7888 - val_accuracy: 0.1770\n",
            "Epoch 26/100\n",
            "87/87 [==============================] - ETA: 0s - loss: 1.7895 - accuracy: 0.1798\n",
            "Epoch 26: val_accuracy did not improve from 0.17699\n",
            "87/87 [==============================] - 17s 196ms/step - loss: 1.7895 - accuracy: 0.1798 - val_loss: 1.7888 - val_accuracy: 0.1770\n",
            "Epoch 27/100\n",
            "87/87 [==============================] - ETA: 0s - loss: 1.7896 - accuracy: 0.1798\n",
            "Epoch 27: val_accuracy did not improve from 0.17699\n",
            "87/87 [==============================] - 17s 196ms/step - loss: 1.7896 - accuracy: 0.1798 - val_loss: 1.7888 - val_accuracy: 0.1770\n",
            "Epoch 28/100\n",
            "87/87 [==============================] - ETA: 0s - loss: 1.7897 - accuracy: 0.1798\n",
            "Epoch 28: val_accuracy did not improve from 0.17699\n",
            "87/87 [==============================] - 18s 203ms/step - loss: 1.7897 - accuracy: 0.1798 - val_loss: 1.7888 - val_accuracy: 0.1770\n",
            "Epoch 29/100\n",
            "87/87 [==============================] - ETA: 0s - loss: 1.7896 - accuracy: 0.1798\n",
            "Epoch 29: val_accuracy did not improve from 0.17699\n",
            "87/87 [==============================] - 17s 196ms/step - loss: 1.7896 - accuracy: 0.1798 - val_loss: 1.7888 - val_accuracy: 0.1770\n",
            "Epoch 30/100\n",
            "87/87 [==============================] - ETA: 0s - loss: 1.7895 - accuracy: 0.1798\n",
            "Epoch 30: val_accuracy did not improve from 0.17699\n",
            "87/87 [==============================] - 17s 195ms/step - loss: 1.7895 - accuracy: 0.1798 - val_loss: 1.7888 - val_accuracy: 0.1770\n",
            "Epoch 31/100\n",
            "87/87 [==============================] - ETA: 0s - loss: 1.7896 - accuracy: 0.1798\n",
            "Epoch 31: val_accuracy did not improve from 0.17699\n",
            "87/87 [==============================] - 17s 198ms/step - loss: 1.7896 - accuracy: 0.1798 - val_loss: 1.7888 - val_accuracy: 0.1770\n",
            "Epoch 32/100\n",
            "87/87 [==============================] - ETA: 0s - loss: 1.7896 - accuracy: 0.1766\n",
            "Epoch 32: val_accuracy did not improve from 0.17699\n",
            "87/87 [==============================] - 17s 195ms/step - loss: 1.7896 - accuracy: 0.1766 - val_loss: 1.7888 - val_accuracy: 0.1770\n",
            "Epoch 33/100\n",
            "87/87 [==============================] - ETA: 0s - loss: 1.7895 - accuracy: 0.1798\n",
            "Epoch 33: val_accuracy did not improve from 0.17699\n",
            "87/87 [==============================] - 17s 196ms/step - loss: 1.7895 - accuracy: 0.1798 - val_loss: 1.7888 - val_accuracy: 0.1770\n",
            "Epoch 34/100\n",
            "87/87 [==============================] - ETA: 0s - loss: 1.7895 - accuracy: 0.1798\n",
            "Epoch 34: val_accuracy did not improve from 0.17699\n",
            "87/87 [==============================] - 17s 197ms/step - loss: 1.7895 - accuracy: 0.1798 - val_loss: 1.7888 - val_accuracy: 0.1770\n",
            "Epoch 35/100\n",
            "87/87 [==============================] - ETA: 0s - loss: 1.7895 - accuracy: 0.1798\n",
            "Epoch 35: val_accuracy did not improve from 0.17699\n",
            "87/87 [==============================] - 17s 196ms/step - loss: 1.7895 - accuracy: 0.1798 - val_loss: 1.7888 - val_accuracy: 0.1770\n",
            "Epoch 36/100\n",
            "87/87 [==============================] - ETA: 0s - loss: 1.7896 - accuracy: 0.1798\n",
            "Epoch 36: val_accuracy did not improve from 0.17699\n",
            "87/87 [==============================] - 18s 203ms/step - loss: 1.7896 - accuracy: 0.1798 - val_loss: 1.7888 - val_accuracy: 0.1770\n",
            "Epoch 37/100\n",
            "87/87 [==============================] - ETA: 0s - loss: 1.7896 - accuracy: 0.1798\n",
            "Epoch 37: val_accuracy did not improve from 0.17699\n",
            "87/87 [==============================] - 17s 197ms/step - loss: 1.7896 - accuracy: 0.1798 - val_loss: 1.7888 - val_accuracy: 0.1770\n",
            "Epoch 38/100\n",
            "87/87 [==============================] - ETA: 0s - loss: 1.7896 - accuracy: 0.1798\n",
            "Epoch 38: val_accuracy did not improve from 0.17699\n",
            "87/87 [==============================] - 17s 195ms/step - loss: 1.7896 - accuracy: 0.1798 - val_loss: 1.7888 - val_accuracy: 0.1770\n",
            "Epoch 39/100\n",
            "87/87 [==============================] - ETA: 0s - loss: 1.7895 - accuracy: 0.1798\n",
            "Epoch 39: val_accuracy did not improve from 0.17699\n",
            "87/87 [==============================] - 17s 198ms/step - loss: 1.7895 - accuracy: 0.1798 - val_loss: 1.7888 - val_accuracy: 0.1770\n",
            "Epoch 40/100\n",
            "87/87 [==============================] - ETA: 0s - loss: 1.7895 - accuracy: 0.1798\n",
            "Epoch 40: val_accuracy did not improve from 0.17699\n",
            "87/87 [==============================] - 17s 195ms/step - loss: 1.7895 - accuracy: 0.1798 - val_loss: 1.7888 - val_accuracy: 0.1770\n",
            "Epoch 41/100\n",
            "87/87 [==============================] - ETA: 0s - loss: 1.7896 - accuracy: 0.1798\n",
            "Epoch 41: val_accuracy did not improve from 0.17699\n",
            "87/87 [==============================] - 17s 195ms/step - loss: 1.7896 - accuracy: 0.1798 - val_loss: 1.7888 - val_accuracy: 0.1770\n",
            "Epoch 42/100\n",
            "87/87 [==============================] - ETA: 0s - loss: 1.7895 - accuracy: 0.1798\n",
            "Epoch 42: val_accuracy did not improve from 0.17699\n",
            "87/87 [==============================] - 17s 195ms/step - loss: 1.7895 - accuracy: 0.1798 - val_loss: 1.7888 - val_accuracy: 0.1770\n",
            "Epoch 43/100\n",
            "87/87 [==============================] - ETA: 0s - loss: 1.7895 - accuracy: 0.1798\n",
            "Epoch 43: val_accuracy did not improve from 0.17699\n",
            "87/87 [==============================] - 17s 199ms/step - loss: 1.7895 - accuracy: 0.1798 - val_loss: 1.7888 - val_accuracy: 0.1770\n",
            "Epoch 44/100\n",
            "87/87 [==============================] - ETA: 0s - loss: 1.7895 - accuracy: 0.1798\n",
            "Epoch 44: val_accuracy did not improve from 0.17699\n",
            "87/87 [==============================] - 17s 195ms/step - loss: 1.7895 - accuracy: 0.1798 - val_loss: 1.7888 - val_accuracy: 0.1770\n",
            "Epoch 45/100\n",
            "87/87 [==============================] - ETA: 0s - loss: 1.7895 - accuracy: 0.1798\n",
            "Epoch 45: val_accuracy did not improve from 0.17699\n",
            "87/87 [==============================] - 18s 203ms/step - loss: 1.7895 - accuracy: 0.1798 - val_loss: 1.7888 - val_accuracy: 0.1770\n",
            "Epoch 46/100\n",
            "87/87 [==============================] - ETA: 0s - loss: 1.7894 - accuracy: 0.1798\n",
            "Epoch 46: val_accuracy did not improve from 0.17699\n",
            "87/87 [==============================] - 17s 194ms/step - loss: 1.7894 - accuracy: 0.1798 - val_loss: 1.7888 - val_accuracy: 0.1770\n",
            "Epoch 47/100\n",
            "87/87 [==============================] - ETA: 0s - loss: 1.7896 - accuracy: 0.1798\n",
            "Epoch 47: val_accuracy did not improve from 0.17699\n",
            "87/87 [==============================] - 17s 197ms/step - loss: 1.7896 - accuracy: 0.1798 - val_loss: 1.7888 - val_accuracy: 0.1770\n",
            "Epoch 48/100\n",
            "87/87 [==============================] - ETA: 0s - loss: 1.7895 - accuracy: 0.1798\n",
            "Epoch 48: val_accuracy did not improve from 0.17699\n",
            "87/87 [==============================] - 17s 196ms/step - loss: 1.7895 - accuracy: 0.1798 - val_loss: 1.7888 - val_accuracy: 0.1770\n",
            "Epoch 49/100\n",
            "87/87 [==============================] - ETA: 0s - loss: 1.7894 - accuracy: 0.1798\n",
            "Epoch 49: val_accuracy did not improve from 0.17699\n",
            "87/87 [==============================] - 17s 196ms/step - loss: 1.7894 - accuracy: 0.1798 - val_loss: 1.7888 - val_accuracy: 0.1770\n",
            "Epoch 50/100\n",
            "87/87 [==============================] - ETA: 0s - loss: 1.7895 - accuracy: 0.1798\n",
            "Epoch 50: val_accuracy did not improve from 0.17699\n",
            "87/87 [==============================] - 17s 194ms/step - loss: 1.7895 - accuracy: 0.1798 - val_loss: 1.7888 - val_accuracy: 0.1770\n",
            "Epoch 51/100\n",
            "87/87 [==============================] - ETA: 0s - loss: 1.7895 - accuracy: 0.1798\n",
            "Epoch 51: val_accuracy did not improve from 0.17699\n",
            "87/87 [==============================] - 17s 197ms/step - loss: 1.7895 - accuracy: 0.1798 - val_loss: 1.7888 - val_accuracy: 0.1770\n",
            "Epoch 52/100\n",
            "87/87 [==============================] - ETA: 0s - loss: 1.7896 - accuracy: 0.1798\n",
            "Epoch 52: val_accuracy did not improve from 0.17699\n",
            "87/87 [==============================] - 17s 195ms/step - loss: 1.7896 - accuracy: 0.1798 - val_loss: 1.7888 - val_accuracy: 0.1770\n",
            "Epoch 53/100\n",
            "87/87 [==============================] - ETA: 0s - loss: 1.7895 - accuracy: 0.1798\n",
            "Epoch 53: val_accuracy did not improve from 0.17699\n",
            "87/87 [==============================] - 17s 197ms/step - loss: 1.7895 - accuracy: 0.1798 - val_loss: 1.7888 - val_accuracy: 0.1770\n",
            "Epoch 54/100\n",
            "87/87 [==============================] - ETA: 0s - loss: 1.7895 - accuracy: 0.1798\n",
            "Epoch 54: val_accuracy did not improve from 0.17699\n",
            "87/87 [==============================] - 17s 196ms/step - loss: 1.7895 - accuracy: 0.1798 - val_loss: 1.7888 - val_accuracy: 0.1770\n",
            "Epoch 55/100\n",
            "87/87 [==============================] - ETA: 0s - loss: 1.7894 - accuracy: 0.1798\n",
            "Epoch 55: val_accuracy did not improve from 0.17699\n",
            "87/87 [==============================] - 17s 196ms/step - loss: 1.7894 - accuracy: 0.1798 - val_loss: 1.7888 - val_accuracy: 0.1770\n",
            "Epoch 56/100\n",
            "87/87 [==============================] - ETA: 0s - loss: 1.7895 - accuracy: 0.1798\n",
            "Epoch 56: val_accuracy did not improve from 0.17699\n",
            "87/87 [==============================] - 17s 195ms/step - loss: 1.7895 - accuracy: 0.1798 - val_loss: 1.7888 - val_accuracy: 0.1770\n",
            "Epoch 57/100\n",
            "87/87 [==============================] - ETA: 0s - loss: 1.7895 - accuracy: 0.1798\n",
            "Epoch 57: val_accuracy did not improve from 0.17699\n",
            "87/87 [==============================] - 18s 203ms/step - loss: 1.7895 - accuracy: 0.1798 - val_loss: 1.7888 - val_accuracy: 0.1770\n",
            "Epoch 58/100\n",
            "87/87 [==============================] - ETA: 0s - loss: 1.7895 - accuracy: 0.1798\n",
            "Epoch 58: val_accuracy did not improve from 0.17699\n",
            "87/87 [==============================] - 17s 196ms/step - loss: 1.7895 - accuracy: 0.1798 - val_loss: 1.7888 - val_accuracy: 0.1770\n",
            "Epoch 59/100\n",
            "87/87 [==============================] - ETA: 0s - loss: 1.7894 - accuracy: 0.1798\n",
            "Epoch 59: val_accuracy did not improve from 0.17699\n",
            "87/87 [==============================] - 17s 196ms/step - loss: 1.7894 - accuracy: 0.1798 - val_loss: 1.7888 - val_accuracy: 0.1770\n",
            "Epoch 60/100\n",
            "87/87 [==============================] - ETA: 0s - loss: 1.7895 - accuracy: 0.1798\n",
            "Epoch 60: val_accuracy did not improve from 0.17699\n",
            "87/87 [==============================] - 17s 195ms/step - loss: 1.7895 - accuracy: 0.1798 - val_loss: 1.7888 - val_accuracy: 0.1770\n",
            "Epoch 61/100\n",
            "87/87 [==============================] - ETA: 0s - loss: 1.7895 - accuracy: 0.1798\n",
            "Epoch 61: val_accuracy did not improve from 0.17699\n",
            "87/87 [==============================] - 17s 195ms/step - loss: 1.7895 - accuracy: 0.1798 - val_loss: 1.7888 - val_accuracy: 0.1770\n",
            "Epoch 62/100\n",
            "87/87 [==============================] - ETA: 0s - loss: 1.7895 - accuracy: 0.1798\n",
            "Epoch 62: val_accuracy did not improve from 0.17699\n",
            "87/87 [==============================] - 17s 196ms/step - loss: 1.7895 - accuracy: 0.1798 - val_loss: 1.7888 - val_accuracy: 0.1770\n",
            "Epoch 63/100\n",
            "87/87 [==============================] - ETA: 0s - loss: 1.7894 - accuracy: 0.1798\n",
            "Epoch 63: val_accuracy did not improve from 0.17699\n",
            "87/87 [==============================] - 17s 196ms/step - loss: 1.7894 - accuracy: 0.1798 - val_loss: 1.7888 - val_accuracy: 0.1770\n",
            "Epoch 64/100\n",
            "87/87 [==============================] - ETA: 0s - loss: 1.7894 - accuracy: 0.1798\n",
            "Epoch 64: val_accuracy did not improve from 0.17699\n",
            "87/87 [==============================] - 17s 196ms/step - loss: 1.7894 - accuracy: 0.1798 - val_loss: 1.7888 - val_accuracy: 0.1770\n",
            "Epoch 65/100\n",
            "87/87 [==============================] - ETA: 0s - loss: 1.7895 - accuracy: 0.1798\n",
            "Epoch 65: val_accuracy did not improve from 0.17699\n",
            "87/87 [==============================] - 17s 195ms/step - loss: 1.7895 - accuracy: 0.1798 - val_loss: 1.7888 - val_accuracy: 0.1770\n",
            "Epoch 66/100\n",
            "87/87 [==============================] - ETA: 0s - loss: 1.7894 - accuracy: 0.1798\n",
            "Epoch 66: val_accuracy did not improve from 0.17699\n",
            "87/87 [==============================] - 17s 195ms/step - loss: 1.7894 - accuracy: 0.1798 - val_loss: 1.7888 - val_accuracy: 0.1770\n",
            "Epoch 67/100\n",
            "87/87 [==============================] - ETA: 0s - loss: 1.7894 - accuracy: 0.1798\n",
            "Epoch 67: val_accuracy did not improve from 0.17699\n",
            "87/87 [==============================] - 17s 195ms/step - loss: 1.7894 - accuracy: 0.1798 - val_loss: 1.7888 - val_accuracy: 0.1770\n",
            "Epoch 68/100\n",
            "87/87 [==============================] - ETA: 0s - loss: 1.7894 - accuracy: 0.1798\n",
            "Epoch 68: val_accuracy did not improve from 0.17699\n",
            "87/87 [==============================] - 17s 196ms/step - loss: 1.7894 - accuracy: 0.1798 - val_loss: 1.7888 - val_accuracy: 0.1770\n",
            "Epoch 69/100\n",
            "87/87 [==============================] - ETA: 0s - loss: 1.7894 - accuracy: 0.1798\n",
            "Epoch 69: val_accuracy did not improve from 0.17699\n",
            "87/87 [==============================] - 17s 197ms/step - loss: 1.7894 - accuracy: 0.1798 - val_loss: 1.7888 - val_accuracy: 0.1770\n",
            "Epoch 70/100\n",
            "87/87 [==============================] - ETA: 0s - loss: 1.7895 - accuracy: 0.1798\n",
            "Epoch 70: val_accuracy did not improve from 0.17699\n",
            "87/87 [==============================] - 17s 197ms/step - loss: 1.7895 - accuracy: 0.1798 - val_loss: 1.7888 - val_accuracy: 0.1770\n",
            "Epoch 71/100\n",
            "87/87 [==============================] - ETA: 0s - loss: 1.7894 - accuracy: 0.1798\n",
            "Epoch 71: val_accuracy did not improve from 0.17699\n",
            "87/87 [==============================] - 17s 197ms/step - loss: 1.7894 - accuracy: 0.1798 - val_loss: 1.7888 - val_accuracy: 0.1770\n",
            "Epoch 72/100\n",
            "87/87 [==============================] - ETA: 0s - loss: 1.7894 - accuracy: 0.1798\n",
            "Epoch 72: val_accuracy did not improve from 0.17699\n",
            "87/87 [==============================] - 17s 198ms/step - loss: 1.7894 - accuracy: 0.1798 - val_loss: 1.7887 - val_accuracy: 0.1770\n",
            "Epoch 73/100\n",
            "87/87 [==============================] - ETA: 0s - loss: 1.7894 - accuracy: 0.1798\n",
            "Epoch 73: val_accuracy did not improve from 0.17699\n",
            "87/87 [==============================] - 17s 196ms/step - loss: 1.7894 - accuracy: 0.1798 - val_loss: 1.7888 - val_accuracy: 0.1770\n",
            "Epoch 74/100\n",
            "87/87 [==============================] - ETA: 0s - loss: 1.7895 - accuracy: 0.1798\n",
            "Epoch 74: val_accuracy did not improve from 0.17699\n",
            "87/87 [==============================] - 18s 200ms/step - loss: 1.7895 - accuracy: 0.1798 - val_loss: 1.7888 - val_accuracy: 0.1770\n",
            "Epoch 75/100\n",
            "87/87 [==============================] - ETA: 0s - loss: 1.7894 - accuracy: 0.1798\n",
            "Epoch 75: val_accuracy did not improve from 0.17699\n",
            "87/87 [==============================] - 17s 197ms/step - loss: 1.7894 - accuracy: 0.1798 - val_loss: 1.7888 - val_accuracy: 0.1770\n",
            "Epoch 76/100\n",
            "87/87 [==============================] - ETA: 0s - loss: 1.7895 - accuracy: 0.1798\n",
            "Epoch 76: val_accuracy did not improve from 0.17699\n",
            "87/87 [==============================] - 18s 205ms/step - loss: 1.7895 - accuracy: 0.1798 - val_loss: 1.7888 - val_accuracy: 0.1770\n",
            "Epoch 77/100\n",
            "36/87 [===========>..................] - ETA: 9s - loss: 1.7903 - accuracy: 0.1797"
          ]
        }
      ]
    },
    {
      "cell_type": "markdown",
      "source": [
        "#### All layers trainable = False\n",
        "- Drop out =0.7"
      ],
      "metadata": {
        "id": "zzt_ABu53wRQ"
      },
      "id": "zzt_ABu53wRQ"
    },
    {
      "cell_type": "code",
      "source": [
        "bestModelFileName = \"/content/drive/MyDrive/chess_data/chest_best_vgg_model.h5\"\n",
        "best_VGG_Model = ModelCheckpoint(bestModelFileName, monitor='val_accuracy', verbose=1, save_best_only=True)\n",
        "early_stopping=EarlyStopping(monitor='val_loss', patience=5, verbose=1, mode='auto')\n",
        "# Compile the model\n",
        "model_VGG16.compile(optimizer='Adam', loss='categorical_crossentropy', metrics=['accuracy'])\n",
        "\n",
        "# Train the model\n",
        "history = model_VGG16.fit(train_generator, epochs=5, verbose=1, validation_data=valid_generator, callbacks=[early_stopping, best_VGG_Model])"
      ],
      "metadata": {
        "colab": {
          "base_uri": "https://localhost:8080/"
        },
        "id": "qrzs0CseQrha",
        "outputId": "b3453aba-49cb-4650-8833-29aa6b3c7c09"
      },
      "id": "qrzs0CseQrha",
      "execution_count": null,
      "outputs": [
        {
          "output_type": "stream",
          "name": "stdout",
          "text": [
            "Epoch 1/100\n",
            "87/87 [==============================] - ETA: 0s - loss: 1.6194 - accuracy: 0.4290 \n",
            "Epoch 1: val_accuracy improved from -inf to 0.61062, saving model to /content/drive/MyDrive/chess_data/chest_best_vgg_model.h5\n"
          ]
        },
        {
          "output_type": "stream",
          "name": "stderr",
          "text": [
            "/usr/local/lib/python3.10/dist-packages/keras/src/engine/training.py:3103: UserWarning: You are saving your model as an HDF5 file via `model.save()`. This file format is considered legacy. We recommend using instead the native Keras format, e.g. `model.save('my_model.keras')`.\n",
            "  saving_api.save_model(\n"
          ]
        },
        {
          "output_type": "stream",
          "name": "stdout",
          "text": [
            "\b\b\b\b\b\b\b\b\b\b\b\b\b\b\b\b\b\b\b\b\b\b\b\b\b\b\b\b\b\b\b\b\b\b\b\b\b\b\b\b\b\b\b\b\b\b\b\b\b\b\b\b\b\b\b\b\b\b\b\b\b\b\b\b\b\b\b\b\b\b\b\b\b\b\b\b\b\b\b\b\b\b\r87/87 [==============================] - 1801s 21s/step - loss: 1.6194 - accuracy: 0.4290 - val_loss: 1.0574 - val_accuracy: 0.6106\n",
            "Epoch 2/100\n",
            "87/87 [==============================] - ETA: 0s - loss: 0.9782 - accuracy: 0.6457 \n",
            "Epoch 2: val_accuracy improved from 0.61062 to 0.66372, saving model to /content/drive/MyDrive/chess_data/chest_best_vgg_model.h5\n",
            "87/87 [==============================] - 1776s 20s/step - loss: 0.9782 - accuracy: 0.6457 - val_loss: 1.0435 - val_accuracy: 0.6637\n",
            "Epoch 3/100\n",
            "87/87 [==============================] - ETA: 0s - loss: 0.7929 - accuracy: 0.7039 \n",
            "Epoch 3: val_accuracy did not improve from 0.66372\n",
            "87/87 [==============================] - 1791s 21s/step - loss: 0.7929 - accuracy: 0.7039 - val_loss: 1.0506 - val_accuracy: 0.6549\n",
            "Epoch 4/100\n",
            "87/87 [==============================] - ETA: 0s - loss: 0.6491 - accuracy: 0.7570 \n",
            "Epoch 4: val_accuracy improved from 0.66372 to 0.69912, saving model to /content/drive/MyDrive/chess_data/chest_best_vgg_model.h5\n",
            "87/87 [==============================] - 1785s 21s/step - loss: 0.6491 - accuracy: 0.7570 - val_loss: 1.1076 - val_accuracy: 0.6991\n",
            "Epoch 5/100\n",
            " 8/87 [=>............................] - ETA: 25:50 - loss: 0.5527 - accuracy: 0.7891"
          ]
        }
      ]
    },
    {
      "cell_type": "markdown",
      "source": [
        "####Layer[:14] ==False\n",
        "-  Dropout = 0.7\n",
        "\n",
        "\n",
        "\n"
      ],
      "metadata": {
        "id": "VFbqb8Ge4JLQ"
      },
      "id": "VFbqb8Ge4JLQ"
    },
    {
      "cell_type": "code",
      "source": [
        "bestModelFileName = \"/content/drive/MyDrive/chess_data/chest_best_vgg_model.h5\"\n",
        "best_VGG_Model = ModelCheckpoint(bestModelFileName, monitor='val_accuracy', verbose=1, save_best_only=True)\n",
        "early_stopping=EarlyStopping(monitor='val_loss', patience=5, verbose=1, mode='auto')\n",
        "# Compile the model\n",
        "model_VGG16.compile(optimizer='Adam', loss='categorical_crossentropy', metrics=['accuracy'])\n",
        "\n",
        "# Train the model\n",
        "history = model_VGG16.fit(train_generator, epochs=5, verbose=1, validation_data=valid_generator, callbacks=[early_stopping, best_VGG_Model])"
      ],
      "metadata": {
        "colab": {
          "base_uri": "https://localhost:8080/"
        },
        "id": "u9dwUM0z4HJ_",
        "outputId": "2bff4a65-fc55-48bf-e365-107df37a2057"
      },
      "id": "u9dwUM0z4HJ_",
      "execution_count": 11,
      "outputs": [
        {
          "output_type": "stream",
          "name": "stdout",
          "text": [
            "Epoch 1/5\n",
            "87/87 [==============================] - ETA: 0s - loss: 1.8456 - accuracy: 0.1770 \n",
            "Epoch 1: val_accuracy improved from -inf to 0.17699, saving model to /content/drive/MyDrive/chess_data/chest_best_vgg_model.h5\n"
          ]
        },
        {
          "output_type": "stream",
          "name": "stderr",
          "text": [
            "/usr/local/lib/python3.10/dist-packages/keras/src/engine/training.py:3103: UserWarning: You are saving your model as an HDF5 file via `model.save()`. This file format is considered legacy. We recommend using instead the native Keras format, e.g. `model.save('my_model.keras')`.\n",
            "  saving_api.save_model(\n"
          ]
        },
        {
          "output_type": "stream",
          "name": "stdout",
          "text": [
            "\b\b\b\b\b\b\b\b\b\b\b\b\b\b\b\b\b\b\b\b\b\b\b\b\b\b\b\b\b\b\b\b\b\b\b\b\b\b\b\b\b\b\b\b\b\b\b\b\b\b\b\b\b\b\b\b\b\b\b\b\b\b\b\b\b\b\b\b\b\b\b\b\b\b\b\b\b\b\b\b\b\b\r87/87 [==============================] - 1052s 12s/step - loss: 1.8456 - accuracy: 0.1770 - val_loss: 1.7909 - val_accuracy: 0.1770\n",
            "Epoch 2/5\n",
            "87/87 [==============================] - ETA: 0s - loss: 1.7907 - accuracy: 0.1798\n",
            "Epoch 2: val_accuracy did not improve from 0.17699\n",
            "87/87 [==============================] - 17s 198ms/step - loss: 1.7907 - accuracy: 0.1798 - val_loss: 1.7902 - val_accuracy: 0.1770\n",
            "Epoch 3/5\n",
            "87/87 [==============================] - ETA: 0s - loss: 1.7903 - accuracy: 0.1798\n",
            "Epoch 3: val_accuracy did not improve from 0.17699\n",
            "87/87 [==============================] - 15s 169ms/step - loss: 1.7903 - accuracy: 0.1798 - val_loss: 1.7898 - val_accuracy: 0.1770\n",
            "Epoch 4/5\n",
            "87/87 [==============================] - ETA: 0s - loss: 1.7900 - accuracy: 0.1798\n",
            "Epoch 4: val_accuracy did not improve from 0.17699\n",
            "87/87 [==============================] - 14s 161ms/step - loss: 1.7900 - accuracy: 0.1798 - val_loss: 1.7894 - val_accuracy: 0.1770\n",
            "Epoch 5/5\n",
            "87/87 [==============================] - ETA: 0s - loss: 1.7897 - accuracy: 0.1798\n",
            "Epoch 5: val_accuracy did not improve from 0.17699\n",
            "87/87 [==============================] - 14s 163ms/step - loss: 1.7897 - accuracy: 0.1798 - val_loss: 1.7892 - val_accuracy: 0.1770\n"
          ]
        }
      ]
    },
    {
      "cell_type": "code",
      "execution_count": 12,
      "metadata": {
        "id": "_5lE2yybcZhx",
        "colab": {
          "base_uri": "https://localhost:8080/",
          "height": 641
        },
        "outputId": "fc5ceeb1-ba5f-43c3-9277-36a726742afe"
      },
      "outputs": [
        {
          "output_type": "display_data",
          "data": {
            "text/plain": [
              "<Figure size 1400x700 with 1 Axes>"
            ],
            "image/png": "[encoded data removed]"
          },
          "metadata": {}
        }
      ],
      "source": [
        "# Result\n",
        "acc = history.history['accuracy']\n",
        "val_acc = history.history['val_accuracy']\n",
        "loss = history.history['loss']\n",
        "val_loss = history.history['val_loss']\n",
        "\n",
        "epochs = range(len(acc))\n",
        "\n",
        "# visualize accuracy chart\n",
        "fig = plt.figure(figsize=(14,7))\n",
        "plt.plot(epochs, acc, 'r', label='Train Accuracy')\n",
        "plt.plot(epochs, val_acc, 'b', label='Validation Accuracy')\n",
        "plt.xlabel('Epochs')\n",
        "plt.ylabel('Accuracy')\n",
        "plt.title('Accuracy chart')\n",
        "plt.legend(loc='lower right')\n",
        "plt.show()"
      ],
      "id": "_5lE2yybcZhx"
    },
    {
      "cell_type": "code",
      "execution_count": 13,
      "metadata": {
        "id": "M0W1X0kV0Wc2",
        "colab": {
          "base_uri": "https://localhost:8080/"
        },
        "outputId": "1154cb49-2446-469a-8180-3243a6f38c90"
      },
      "outputs": [
        {
          "output_type": "stream",
          "name": "stdout",
          "text": [
            "4/4 [==============================] - 37s 12s/step - loss: 1.7898 - accuracy: 0.1818\n",
            "VGG16 Test Accuracy:  0.1818181872367859\n"
          ]
        }
      ],
      "source": [
        "\n",
        "# Evaluate the model\n",
        "loss, accuracy = model_VGG16.evaluate(test_generator)\n",
        "print('VGG16 Test Accuracy: ', accuracy)"
      ],
      "id": "M0W1X0kV0Wc2"
    },
    {
      "cell_type": "markdown",
      "source": [
        "#### All layer = False, Drop out =0.7, Epochs=5, callbacks= ES, MCP\n"
      ],
      "metadata": {
        "id": "9SoBtY2V8eKY"
      },
      "id": "9SoBtY2V8eKY"
    },
    {
      "cell_type": "code",
      "source": [
        "base_model = VGG16(weights='imagenet', include_top=False, input_shape=(img_height, img_width, 3))\n",
        "\n",
        "# Freeze the convolutional layers in the pre-trained model\n",
        "for layer in base_model.layers:\n",
        "    layer.trainable = False\n",
        "# Add new layers for classification\n",
        "x = base_model.output\n",
        "x = Flatten()(x)\n",
        "x = Dropout(0.7)(x)\n",
        "predictions = Dense(NumOfClasses, activation='softmax')(x)\n",
        "\n",
        "# Create the new model\n",
        "model_VGG16 = Model(inputs=base_model.input, outputs=predictions)\n",
        "model_VGG16.summary()"
      ],
      "metadata": {
        "colab": {
          "base_uri": "https://localhost:8080/"
        },
        "id": "ZsBBQ7PV8wFP",
        "outputId": "52dfeb34-29f9-49c4-ae1c-cdcf7acde122"
      },
      "id": "ZsBBQ7PV8wFP",
      "execution_count": 15,
      "outputs": [
        {
          "output_type": "stream",
          "name": "stdout",
          "text": [
            "Model: \"model_4\"\n",
            "_________________________________________________________________\n",
            " Layer (type)                Output Shape              Param #   \n",
            "=================================================================\n",
            " input_5 (InputLayer)        [(None, 224, 224, 3)]     0         \n",
            "                                                                 \n",
            " block1_conv1 (Conv2D)       (None, 224, 224, 64)      1792      \n",
            "                                                                 \n",
            " block1_conv2 (Conv2D)       (None, 224, 224, 64)      36928     \n",
            "                                                                 \n",
            " block1_pool (MaxPooling2D)  (None, 112, 112, 64)      0         \n",
            "                                                                 \n",
            " block2_conv1 (Conv2D)       (None, 112, 112, 128)     73856     \n",
            "                                                                 \n",
            " block2_conv2 (Conv2D)       (None, 112, 112, 128)     147584    \n",
            "                                                                 \n",
            " block2_pool (MaxPooling2D)  (None, 56, 56, 128)       0         \n",
            "                                                                 \n",
            " block3_conv1 (Conv2D)       (None, 56, 56, 256)       295168    \n",
            "                                                                 \n",
            " block3_conv2 (Conv2D)       (None, 56, 56, 256)       590080    \n",
            "                                                                 \n",
            " block3_conv3 (Conv2D)       (None, 56, 56, 256)       590080    \n",
            "                                                                 \n",
            " block3_pool (MaxPooling2D)  (None, 28, 28, 256)       0         \n",
            "                                                                 \n",
            " block4_conv1 (Conv2D)       (None, 28, 28, 512)       1180160   \n",
            "                                                                 \n",
            " block4_conv2 (Conv2D)       (None, 28, 28, 512)       2359808   \n",
            "                                                                 \n",
            " block4_conv3 (Conv2D)       (None, 28, 28, 512)       2359808   \n",
            "                                                                 \n",
            " block4_pool (MaxPooling2D)  (None, 14, 14, 512)       0         \n",
            "                                                                 \n",
            " block5_conv1 (Conv2D)       (None, 14, 14, 512)       2359808   \n",
            "                                                                 \n",
            " block5_conv2 (Conv2D)       (None, 14, 14, 512)       2359808   \n",
            "                                                                 \n",
            " block5_conv3 (Conv2D)       (None, 14, 14, 512)       2359808   \n",
            "                                                                 \n",
            " block5_pool (MaxPooling2D)  (None, 7, 7, 512)         0         \n",
            "                                                                 \n",
            " flatten_4 (Flatten)         (None, 25088)             0         \n",
            "                                                                 \n",
            " dropout_4 (Dropout)         (None, 25088)             0         \n",
            "                                                                 \n",
            " dense_4 (Dense)             (None, 6)                 150534    \n",
            "                                                                 \n",
            "=================================================================\n",
            "Total params: 14865222 (56.71 MB)\n",
            "Trainable params: 150534 (588.02 KB)\n",
            "Non-trainable params: 14714688 (56.13 MB)\n",
            "_________________________________________________________________\n"
          ]
        }
      ]
    },
    {
      "cell_type": "code",
      "source": [
        "bestModelFileName = \"/content/drive/MyDrive/chess_data/chest_best_vgg_2_model.h5\"\n",
        "best_VGG_Model = ModelCheckpoint(bestModelFileName, monitor='val_accuracy', verbose=1, save_best_only=True)\n",
        "early_stopping=EarlyStopping(monitor='val_loss', patience=5, verbose=1, mode='auto')\n",
        "# Compile the model\n",
        "model_VGG16.compile(optimizer='Adam', loss='categorical_crossentropy', metrics=['accuracy'])\n",
        "\n",
        "# Train the model\n",
        "history = model_VGG16.fit(train_generator, epochs=5, verbose=1, validation_data=valid_generator, callbacks=[early_stopping, best_VGG_Model])"
      ],
      "metadata": {
        "colab": {
          "base_uri": "https://localhost:8080/"
        },
        "id": "t2NUpz2v85VI",
        "outputId": "b1e20e0a-1ee2-4f77-e660-39efc143ee17"
      },
      "id": "t2NUpz2v85VI",
      "execution_count": 16,
      "outputs": [
        {
          "output_type": "stream",
          "name": "stdout",
          "text": [
            "Epoch 1/5\n",
            "87/87 [==============================] - ETA: 0s - loss: 1.6852 - accuracy: 0.4272\n",
            "Epoch 1: val_accuracy improved from -inf to 0.66372, saving model to /content/drive/MyDrive/chess_data/chest_best_vgg_2_model.h5\n",
            "87/87 [==============================] - 16s 170ms/step - loss: 1.6852 - accuracy: 0.4272 - val_loss: 1.0275 - val_accuracy: 0.6637\n",
            "Epoch 2/5\n"
          ]
        },
        {
          "output_type": "stream",
          "name": "stderr",
          "text": [
            "/usr/local/lib/python3.10/dist-packages/keras/src/engine/training.py:3103: UserWarning: You are saving your model as an HDF5 file via `model.save()`. This file format is considered legacy. We recommend using instead the native Keras format, e.g. `model.save('my_model.keras')`.\n",
            "  saving_api.save_model(\n"
          ]
        },
        {
          "output_type": "stream",
          "name": "stdout",
          "text": [
            "87/87 [==============================] - ETA: 0s - loss: 0.9549 - accuracy: 0.6468\n",
            "Epoch 2: val_accuracy did not improve from 0.66372\n",
            "87/87 [==============================] - 15s 174ms/step - loss: 0.9549 - accuracy: 0.6468 - val_loss: 1.0008 - val_accuracy: 0.6549\n",
            "Epoch 3/5\n",
            "87/87 [==============================] - ETA: 0s - loss: 0.7953 - accuracy: 0.6927\n",
            "Epoch 3: val_accuracy improved from 0.66372 to 0.67257, saving model to /content/drive/MyDrive/chess_data/chest_best_vgg_2_model.h5\n",
            "87/87 [==============================] - 20s 233ms/step - loss: 0.7953 - accuracy: 0.6927 - val_loss: 1.1291 - val_accuracy: 0.6726\n",
            "Epoch 4/5\n",
            "87/87 [==============================] - ETA: 0s - loss: 0.6970 - accuracy: 0.7425\n",
            "Epoch 4: val_accuracy did not improve from 0.67257\n",
            "87/87 [==============================] - 14s 157ms/step - loss: 0.6970 - accuracy: 0.7425 - val_loss: 0.9911 - val_accuracy: 0.6549\n",
            "Epoch 5/5\n",
            "87/87 [==============================] - ETA: 0s - loss: 0.6289 - accuracy: 0.7732\n",
            "Epoch 5: val_accuracy did not improve from 0.67257\n",
            "87/87 [==============================] - 14s 158ms/step - loss: 0.6289 - accuracy: 0.7732 - val_loss: 1.0536 - val_accuracy: 0.6637\n"
          ]
        }
      ]
    },
    {
      "cell_type": "code",
      "source": [
        "# Result\n",
        "acc = history.history['accuracy']\n",
        "val_acc = history.history['val_accuracy']\n",
        "loss = history.history['loss']\n",
        "val_loss = history.history['val_loss']\n",
        "\n",
        "epochs = range(len(acc))\n",
        "\n",
        "# visualize accuracy chart\n",
        "fig = plt.figure(figsize=(14,7))\n",
        "plt.plot(epochs, acc, 'r', label='Train Accuracy')\n",
        "plt.plot(epochs, val_acc, 'b', label='Validation Accuracy')\n",
        "plt.xlabel('Epochs')\n",
        "plt.ylabel('Accuracy')\n",
        "plt.title('Accuracy chart')\n",
        "plt.legend(loc='lower right')\n",
        "plt.show()"
      ],
      "metadata": {
        "colab": {
          "base_uri": "https://localhost:8080/",
          "height": 613
        },
        "id": "m31AAa3H9Ces",
        "outputId": "3fdc36b7-f629-4c26-de11-8d1a976f9e6b"
      },
      "id": "m31AAa3H9Ces",
      "execution_count": 17,
      "outputs": [
        {
          "output_type": "display_data",
          "data": {
            "text/plain": [
              "<Figure size 1400x700 with 1 Axes>"
            ],
            "image/png": "[encoded data removed]"
          },
          "metadata": {}
        }
      ]
    },
    {
      "cell_type": "code",
      "source": [
        "\n",
        "# Evaluate the model\n",
        "loss, accuracy = model_VGG16.evaluate(test_generator)\n",
        "print('VGG16 Test Accuracy: ', accuracy)"
      ],
      "metadata": {
        "colab": {
          "base_uri": "https://localhost:8080/"
        },
        "id": "-bry6TuJ9Eri",
        "outputId": "4dbe06bf-7881-49b9-fa9f-583966dbd5d0"
      },
      "id": "-bry6TuJ9Eri",
      "execution_count": 18,
      "outputs": [
        {
          "output_type": "stream",
          "name": "stdout",
          "text": [
            "4/4 [==============================] - 1s 143ms/step - loss: 0.5948 - accuracy: 0.8017\n",
            "VGG16 Test Accuracy:  0.8016529083251953\n"
          ]
        }
      ]
    },
    {
      "cell_type": "markdown",
      "source": [
        "#### All layer = False, Drop out =0.7, Epochs=30, callbacks= ES, MCP\n"
      ],
      "metadata": {
        "id": "T0QMSZEW-IYZ"
      },
      "id": "T0QMSZEW-IYZ"
    },
    {
      "cell_type": "code",
      "source": [
        "base_model = VGG16(weights='imagenet', include_top=False, input_shape=(img_height, img_width, 3))\n",
        "\n",
        "# Freeze the convolutional layers in the pre-trained model\n",
        "for layer in base_model.layers:\n",
        "    layer.trainable = False\n",
        "# Add new layers for classification\n",
        "x = base_model.output\n",
        "x = Flatten()(x)\n",
        "x = Dropout(0.7)(x)\n",
        "predictions = Dense(NumOfClasses, activation='softmax')(x)\n",
        "\n",
        "# Create the new model\n",
        "model_VGG16 = Model(inputs=base_model.input, outputs=predictions)"
      ],
      "metadata": {
        "id": "GeVkGuYc-IYa"
      },
      "execution_count": 19,
      "outputs": [],
      "id": "GeVkGuYc-IYa"
    },
    {
      "cell_type": "code",
      "source": [
        "bestModelFileName = \"/content/drive/MyDrive/chess_data/chest_best_vgg_2_1_model.h5\"\n",
        "best_VGG_Model = ModelCheckpoint(bestModelFileName, monitor='val_accuracy', verbose=1, save_best_only=True)\n",
        "early_stopping=EarlyStopping(monitor='val_loss', patience=5, verbose=1, mode='auto')\n",
        "# Compile the model\n",
        "model_VGG16.compile(optimizer='Adam', loss='categorical_crossentropy', metrics=['accuracy'])\n",
        "\n",
        "# Train the model\n",
        "history = model_VGG16.fit(train_generator, epochs=30, verbose=1, validation_data=valid_generator, callbacks=[early_stopping, best_VGG_Model])"
      ],
      "metadata": {
        "colab": {
          "base_uri": "https://localhost:8080/"
        },
        "outputId": "5a0a4227-29a3-49a4-8868-3c870eb87e9b",
        "id": "dNIb6Mkm-IYa"
      },
      "execution_count": 20,
      "outputs": [
        {
          "output_type": "stream",
          "name": "stdout",
          "text": [
            "Epoch 1/30\n",
            "87/87 [==============================] - ETA: 0s - loss: 1.6291 - accuracy: 0.4453\n",
            "Epoch 1: val_accuracy improved from -inf to 0.64602, saving model to /content/drive/MyDrive/chess_data/chest_best_vgg_2_1_model.h5\n",
            "87/87 [==============================] - 17s 182ms/step - loss: 1.6291 - accuracy: 0.4453 - val_loss: 1.1249 - val_accuracy: 0.6460\n",
            "Epoch 2/30\n",
            "87/87 [==============================] - ETA: 0s - loss: 0.9941 - accuracy: 0.6334\n",
            "Epoch 2: val_accuracy improved from 0.64602 to 0.69027, saving model to /content/drive/MyDrive/chess_data/chest_best_vgg_2_1_model.h5\n",
            "87/87 [==============================] - 32s 370ms/step - loss: 0.9941 - accuracy: 0.6334 - val_loss: 1.0050 - val_accuracy: 0.6903\n",
            "Epoch 3/30\n",
            "87/87 [==============================] - ETA: 0s - loss: 0.8117 - accuracy: 0.7035\n",
            "Epoch 3: val_accuracy did not improve from 0.69027\n",
            "87/87 [==============================] - 15s 167ms/step - loss: 0.8117 - accuracy: 0.7035 - val_loss: 1.0517 - val_accuracy: 0.6372\n",
            "Epoch 4/30\n",
            "87/87 [==============================] - ETA: 0s - loss: 0.6983 - accuracy: 0.7418\n",
            "Epoch 4: val_accuracy did not improve from 0.69027\n",
            "87/87 [==============================] - 15s 172ms/step - loss: 0.6983 - accuracy: 0.7418 - val_loss: 1.0728 - val_accuracy: 0.6460\n",
            "Epoch 5/30\n",
            "87/87 [==============================] - ETA: 0s - loss: 0.5968 - accuracy: 0.7772\n",
            "Epoch 5: val_accuracy did not improve from 0.69027\n",
            "87/87 [==============================] - 14s 164ms/step - loss: 0.5968 - accuracy: 0.7772 - val_loss: 1.2058 - val_accuracy: 0.6460\n",
            "Epoch 6/30\n",
            "87/87 [==============================] - ETA: 0s - loss: 0.5410 - accuracy: 0.8025\n",
            "Epoch 6: val_accuracy did not improve from 0.69027\n",
            "87/87 [==============================] - 14s 154ms/step - loss: 0.5410 - accuracy: 0.8025 - val_loss: 1.1773 - val_accuracy: 0.6814\n",
            "Epoch 7/30\n",
            "87/87 [==============================] - ETA: 0s - loss: 0.5298 - accuracy: 0.8079\n",
            "Epoch 7: val_accuracy did not improve from 0.69027\n",
            "87/87 [==============================] - 14s 158ms/step - loss: 0.5298 - accuracy: 0.8079 - val_loss: 1.3130 - val_accuracy: 0.6372\n",
            "Epoch 7: early stopping\n"
          ]
        }
      ],
      "id": "dNIb6Mkm-IYa"
    },
    {
      "cell_type": "code",
      "source": [
        "# Result\n",
        "acc = history.history['accuracy']\n",
        "val_acc = history.history['val_accuracy']\n",
        "loss = history.history['loss']\n",
        "val_loss = history.history['val_loss']\n",
        "\n",
        "epochs = range(len(acc))\n",
        "\n",
        "# visualize accuracy chart\n",
        "fig = plt.figure(figsize=(14,7))\n",
        "plt.plot(epochs, acc, 'r', label='Train Accuracy')\n",
        "plt.plot(epochs, val_acc, 'b', label='Validation Accuracy')\n",
        "plt.xlabel('Epochs')\n",
        "plt.ylabel('Accuracy')\n",
        "plt.title('Accuracy chart')\n",
        "plt.legend(loc='lower right')\n",
        "plt.show()"
      ],
      "metadata": {
        "colab": {
          "base_uri": "https://localhost:8080/",
          "height": 641
        },
        "outputId": "042bce5a-5aea-4315-cd98-177e2e3b7f63",
        "id": "dENpIr83-IYb"
      },
      "execution_count": 21,
      "outputs": [
        {
          "output_type": "display_data",
          "data": {
            "text/plain": [
              "<Figure size 1400x700 with 1 Axes>"
            ],
            "image/png": "[encoded data removed]"
          },
          "metadata": {}
        }
      ],
      "id": "dENpIr83-IYb"
    },
    {
      "cell_type": "code",
      "source": [
        "\n",
        "# Evaluate the model\n",
        "loss, accuracy = model_VGG16.evaluate(test_generator)\n",
        "print('VGG16 Test Accuracy: ', accuracy)"
      ],
      "metadata": {
        "colab": {
          "base_uri": "https://localhost:8080/"
        },
        "outputId": "74e15590-06b9-4f9e-9b71-f818b4ec952d",
        "id": "C84qJqhG-IYb"
      },
      "execution_count": 22,
      "outputs": [
        {
          "output_type": "stream",
          "name": "stdout",
          "text": [
            "4/4 [==============================] - 1s 134ms/step - loss: 0.5949 - accuracy: 0.7686\n",
            "VGG16 Test Accuracy:  0.7685950398445129\n"
          ]
        }
      ],
      "id": "C84qJqhG-IYb"
    },
    {
      "cell_type": "markdown",
      "source": [
        "#### All layer = False, Drop out =0.7, Epochs=30, Callbacks = Modelcheckpoint\n",
        "\n"
      ],
      "metadata": {
        "id": "DdUsWE4M_RBP"
      },
      "id": "DdUsWE4M_RBP"
    },
    {
      "cell_type": "code",
      "source": [
        "base_model = VGG16(weights='imagenet', include_top=False, input_shape=(img_height, img_width, 3))\n",
        "\n",
        "# Freeze the convolutional layers in the pre-trained model\n",
        "for layer in base_model.layers:\n",
        "    layer.trainable = False\n",
        "# Add new layers for classification\n",
        "x = base_model.output\n",
        "x = Flatten()(x)\n",
        "x = Dropout(0.7)(x)\n",
        "predictions = Dense(NumOfClasses, activation='softmax')(x)\n",
        "\n",
        "# Create the new model\n",
        "model_VGG16 = Model(inputs=base_model.input, outputs=predictions)"
      ],
      "metadata": {
        "id": "-Szj-8uZ_RBW"
      },
      "execution_count": 23,
      "outputs": [],
      "id": "-Szj-8uZ_RBW"
    },
    {
      "cell_type": "code",
      "source": [
        "bestModelFileName = \"/content/drive/MyDrive/chess_data/chest_best_vgg_2_2_model.h5\"\n",
        "best_VGG_Model = ModelCheckpoint(bestModelFileName, monitor='val_accuracy', verbose=1, save_best_only=True)\n",
        "early_stopping=EarlyStopping(monitor='val_loss', patience=5, verbose=1, mode='auto')\n",
        "# Compile the model\n",
        "model_VGG16.compile(optimizer='Adam', loss='categorical_crossentropy', metrics=['accuracy'])\n",
        "\n",
        "# Train the model\n",
        "history = model_VGG16.fit(train_generator, epochs=30, verbose=1, validation_data=valid_generator, callbacks= best_VGG_Model)"
      ],
      "metadata": {
        "colab": {
          "base_uri": "https://localhost:8080/"
        },
        "outputId": "698f092b-40a4-4ffa-f480-19e0ea5714f0",
        "id": "vxofc1_5_RBX"
      },
      "execution_count": 24,
      "outputs": [
        {
          "output_type": "stream",
          "name": "stdout",
          "text": [
            "Epoch 1/30\n",
            "87/87 [==============================] - ETA: 0s - loss: 1.6624 - accuracy: 0.4218\n",
            "Epoch 1: val_accuracy improved from -inf to 0.64602, saving model to /content/drive/MyDrive/chess_data/chest_best_vgg_2_2_model.h5\n",
            "87/87 [==============================] - 15s 166ms/step - loss: 1.6624 - accuracy: 0.4218 - val_loss: 0.9852 - val_accuracy: 0.6460\n",
            "Epoch 2/30\n",
            "87/87 [==============================] - ETA: 0s - loss: 1.0073 - accuracy: 0.6349\n",
            "Epoch 2: val_accuracy did not improve from 0.64602\n",
            "87/87 [==============================] - 14s 160ms/step - loss: 1.0073 - accuracy: 0.6349 - val_loss: 1.0289 - val_accuracy: 0.6460\n",
            "Epoch 3/30\n",
            "87/87 [==============================] - ETA: 0s - loss: 0.8089 - accuracy: 0.6977\n",
            "Epoch 3: val_accuracy improved from 0.64602 to 0.67257, saving model to /content/drive/MyDrive/chess_data/chest_best_vgg_2_2_model.h5\n",
            "87/87 [==============================] - 16s 179ms/step - loss: 0.8089 - accuracy: 0.6977 - val_loss: 1.1094 - val_accuracy: 0.6726\n",
            "Epoch 4/30\n",
            "87/87 [==============================] - ETA: 0s - loss: 0.6813 - accuracy: 0.7468\n",
            "Epoch 4: val_accuracy did not improve from 0.67257\n",
            "87/87 [==============================] - 14s 165ms/step - loss: 0.6813 - accuracy: 0.7468 - val_loss: 1.0766 - val_accuracy: 0.6549\n",
            "Epoch 5/30\n",
            "87/87 [==============================] - ETA: 0s - loss: 0.6384 - accuracy: 0.7696\n",
            "Epoch 5: val_accuracy improved from 0.67257 to 0.69027, saving model to /content/drive/MyDrive/chess_data/chest_best_vgg_2_2_model.h5\n",
            "87/87 [==============================] - 16s 177ms/step - loss: 0.6384 - accuracy: 0.7696 - val_loss: 1.0850 - val_accuracy: 0.6903\n",
            "Epoch 6/30\n",
            "87/87 [==============================] - ETA: 0s - loss: 0.5530 - accuracy: 0.7887\n",
            "Epoch 6: val_accuracy did not improve from 0.69027\n",
            "87/87 [==============================] - 14s 162ms/step - loss: 0.5530 - accuracy: 0.7887 - val_loss: 1.1337 - val_accuracy: 0.6903\n",
            "Epoch 7/30\n",
            "87/87 [==============================] - ETA: 0s - loss: 0.5591 - accuracy: 0.7985\n",
            "Epoch 7: val_accuracy did not improve from 0.69027\n",
            "87/87 [==============================] - 14s 162ms/step - loss: 0.5591 - accuracy: 0.7985 - val_loss: 1.2058 - val_accuracy: 0.6637\n",
            "Epoch 8/30\n",
            "87/87 [==============================] - ETA: 0s - loss: 0.5191 - accuracy: 0.8100\n",
            "Epoch 8: val_accuracy did not improve from 0.69027\n",
            "87/87 [==============================] - 15s 169ms/step - loss: 0.5191 - accuracy: 0.8100 - val_loss: 1.3190 - val_accuracy: 0.6637\n",
            "Epoch 9/30\n",
            "87/87 [==============================] - ETA: 0s - loss: 0.4962 - accuracy: 0.8176\n",
            "Epoch 9: val_accuracy improved from 0.69027 to 0.69912, saving model to /content/drive/MyDrive/chess_data/chest_best_vgg_2_2_model.h5\n",
            "87/87 [==============================] - 15s 173ms/step - loss: 0.4962 - accuracy: 0.8176 - val_loss: 1.2139 - val_accuracy: 0.6991\n",
            "Epoch 10/30\n",
            "87/87 [==============================] - ETA: 0s - loss: 0.4509 - accuracy: 0.8397\n",
            "Epoch 10: val_accuracy did not improve from 0.69912\n",
            "87/87 [==============================] - 14s 161ms/step - loss: 0.4509 - accuracy: 0.8397 - val_loss: 1.4070 - val_accuracy: 0.6283\n",
            "Epoch 11/30\n",
            "87/87 [==============================] - ETA: 0s - loss: 0.4767 - accuracy: 0.8310\n",
            "Epoch 11: val_accuracy did not improve from 0.69912\n",
            "87/87 [==============================] - 14s 156ms/step - loss: 0.4767 - accuracy: 0.8310 - val_loss: 1.3130 - val_accuracy: 0.6814\n",
            "Epoch 12/30\n",
            "87/87 [==============================] - ETA: 0s - loss: 0.4587 - accuracy: 0.8418\n",
            "Epoch 12: val_accuracy did not improve from 0.69912\n",
            "87/87 [==============================] - 14s 163ms/step - loss: 0.4587 - accuracy: 0.8418 - val_loss: 1.3892 - val_accuracy: 0.6726\n",
            "Epoch 13/30\n",
            "87/87 [==============================] - ETA: 0s - loss: 0.4721 - accuracy: 0.8303\n",
            "Epoch 13: val_accuracy did not improve from 0.69912\n",
            "87/87 [==============================] - 15s 167ms/step - loss: 0.4721 - accuracy: 0.8303 - val_loss: 1.3835 - val_accuracy: 0.6549\n",
            "Epoch 14/30\n",
            "87/87 [==============================] - ETA: 0s - loss: 0.4420 - accuracy: 0.8462\n",
            "Epoch 14: val_accuracy did not improve from 0.69912\n",
            "87/87 [==============================] - 14s 156ms/step - loss: 0.4420 - accuracy: 0.8462 - val_loss: 1.4074 - val_accuracy: 0.6460\n",
            "Epoch 15/30\n",
            "87/87 [==============================] - ETA: 0s - loss: 0.3844 - accuracy: 0.8573\n",
            "Epoch 15: val_accuracy did not improve from 0.69912\n",
            "87/87 [==============================] - 14s 153ms/step - loss: 0.3844 - accuracy: 0.8573 - val_loss: 1.5558 - val_accuracy: 0.6549\n",
            "Epoch 16/30\n",
            "87/87 [==============================] - ETA: 0s - loss: 0.4260 - accuracy: 0.8494\n",
            "Epoch 16: val_accuracy did not improve from 0.69912\n",
            "87/87 [==============================] - 14s 161ms/step - loss: 0.4260 - accuracy: 0.8494 - val_loss: 1.4947 - val_accuracy: 0.6549\n",
            "Epoch 17/30\n",
            "87/87 [==============================] - ETA: 0s - loss: 0.3922 - accuracy: 0.8628\n",
            "Epoch 17: val_accuracy did not improve from 0.69912\n",
            "87/87 [==============================] - 14s 160ms/step - loss: 0.3922 - accuracy: 0.8628 - val_loss: 1.5264 - val_accuracy: 0.6460\n",
            "Epoch 18/30\n",
            "87/87 [==============================] - ETA: 0s - loss: 0.4071 - accuracy: 0.8613\n",
            "Epoch 18: val_accuracy did not improve from 0.69912\n",
            "87/87 [==============================] - 14s 165ms/step - loss: 0.4071 - accuracy: 0.8613 - val_loss: 1.6025 - val_accuracy: 0.6460\n",
            "Epoch 19/30\n",
            "87/87 [==============================] - ETA: 0s - loss: 0.4064 - accuracy: 0.8599\n",
            "Epoch 19: val_accuracy did not improve from 0.69912\n",
            "87/87 [==============================] - 14s 161ms/step - loss: 0.4064 - accuracy: 0.8599 - val_loss: 1.5741 - val_accuracy: 0.6195\n",
            "Epoch 20/30\n",
            "87/87 [==============================] - ETA: 0s - loss: 0.4212 - accuracy: 0.8563\n",
            "Epoch 20: val_accuracy did not improve from 0.69912\n",
            "87/87 [==============================] - 14s 156ms/step - loss: 0.4212 - accuracy: 0.8563 - val_loss: 1.6744 - val_accuracy: 0.6637\n",
            "Epoch 21/30\n",
            "87/87 [==============================] - ETA: 0s - loss: 0.4019 - accuracy: 0.8620\n",
            "Epoch 21: val_accuracy did not improve from 0.69912\n",
            "87/87 [==============================] - 14s 155ms/step - loss: 0.4019 - accuracy: 0.8620 - val_loss: 1.6006 - val_accuracy: 0.6637\n",
            "Epoch 22/30\n",
            "87/87 [==============================] - ETA: 0s - loss: 0.4354 - accuracy: 0.8530\n",
            "Epoch 22: val_accuracy did not improve from 0.69912\n",
            "87/87 [==============================] - 14s 158ms/step - loss: 0.4354 - accuracy: 0.8530 - val_loss: 1.5295 - val_accuracy: 0.6991\n",
            "Epoch 23/30\n",
            "87/87 [==============================] - ETA: 0s - loss: 0.4181 - accuracy: 0.8602\n",
            "Epoch 23: val_accuracy did not improve from 0.69912\n",
            "87/87 [==============================] - 13s 153ms/step - loss: 0.4181 - accuracy: 0.8602 - val_loss: 1.6362 - val_accuracy: 0.6903\n",
            "Epoch 24/30\n",
            "87/87 [==============================] - ETA: 0s - loss: 0.3866 - accuracy: 0.8624\n",
            "Epoch 24: val_accuracy did not improve from 0.69912\n",
            "87/87 [==============================] - 14s 154ms/step - loss: 0.3866 - accuracy: 0.8624 - val_loss: 1.6162 - val_accuracy: 0.6903\n",
            "Epoch 25/30\n",
            "87/87 [==============================] - ETA: 0s - loss: 0.4010 - accuracy: 0.8675\n",
            "Epoch 25: val_accuracy did not improve from 0.69912\n",
            "87/87 [==============================] - 14s 164ms/step - loss: 0.4010 - accuracy: 0.8675 - val_loss: 1.6220 - val_accuracy: 0.6549\n",
            "Epoch 26/30\n",
            "87/87 [==============================] - ETA: 0s - loss: 0.4109 - accuracy: 0.8657\n",
            "Epoch 26: val_accuracy did not improve from 0.69912\n",
            "87/87 [==============================] - 14s 161ms/step - loss: 0.4109 - accuracy: 0.8657 - val_loss: 1.6634 - val_accuracy: 0.6814\n",
            "Epoch 27/30\n",
            "87/87 [==============================] - ETA: 0s - loss: 0.3810 - accuracy: 0.8779\n",
            "Epoch 27: val_accuracy did not improve from 0.69912\n",
            "87/87 [==============================] - 14s 155ms/step - loss: 0.3810 - accuracy: 0.8779 - val_loss: 1.7071 - val_accuracy: 0.6372\n",
            "Epoch 28/30\n",
            "87/87 [==============================] - ETA: 0s - loss: 0.4045 - accuracy: 0.8660\n",
            "Epoch 28: val_accuracy did not improve from 0.69912\n",
            "87/87 [==============================] - 14s 156ms/step - loss: 0.4045 - accuracy: 0.8660 - val_loss: 1.6881 - val_accuracy: 0.6814\n",
            "Epoch 29/30\n",
            "87/87 [==============================] - ETA: 0s - loss: 0.3849 - accuracy: 0.8732\n",
            "Epoch 29: val_accuracy did not improve from 0.69912\n",
            "87/87 [==============================] - 16s 180ms/step - loss: 0.3849 - accuracy: 0.8732 - val_loss: 1.7598 - val_accuracy: 0.6549\n",
            "Epoch 30/30\n",
            "87/87 [==============================] - ETA: 0s - loss: 0.4289 - accuracy: 0.8602\n",
            "Epoch 30: val_accuracy did not improve from 0.69912\n",
            "87/87 [==============================] - 15s 175ms/step - loss: 0.4289 - accuracy: 0.8602 - val_loss: 1.7387 - val_accuracy: 0.6814\n"
          ]
        }
      ],
      "id": "vxofc1_5_RBX"
    },
    {
      "cell_type": "code",
      "source": [
        "# Result\n",
        "acc = history.history['accuracy']\n",
        "val_acc = history.history['val_accuracy']\n",
        "loss = history.history['loss']\n",
        "val_loss = history.history['val_loss']\n",
        "\n",
        "epochs = range(len(acc))\n",
        "\n",
        "# visualize accuracy chart\n",
        "fig = plt.figure(figsize=(14,7))\n",
        "plt.plot(epochs, acc, 'r', label='Train Accuracy')\n",
        "plt.plot(epochs, val_acc, 'b', label='Validation Accuracy')\n",
        "plt.xlabel('Epochs')\n",
        "plt.ylabel('Accuracy')\n",
        "plt.title('Accuracy chart')\n",
        "plt.legend(loc='lower right')\n",
        "plt.show()"
      ],
      "metadata": {
        "colab": {
          "base_uri": "https://localhost:8080/",
          "height": 641
        },
        "outputId": "bf4d29bb-ffac-43ed-c45b-336ee0406c4c",
        "id": "eX_T0bOW_RBX"
      },
      "execution_count": 25,
      "outputs": [
        {
          "output_type": "display_data",
          "data": {
            "text/plain": [
              "<Figure size 1400x700 with 1 Axes>"
            ],
            "image/png": "[encoded data removed]"
          },
          "metadata": {}
        }
      ],
      "id": "eX_T0bOW_RBX"
    },
    {
      "cell_type": "code",
      "source": [
        "\n",
        "# Evaluate the model\n",
        "loss, accuracy = model_VGG16.evaluate(test_generator)\n",
        "print('VGG16 Test Accuracy: ', accuracy)"
      ],
      "metadata": {
        "colab": {
          "base_uri": "https://localhost:8080/"
        },
        "outputId": "99c99ff5-5bc8-4c0e-9cbe-83793239480d",
        "id": "NvyuR0-2_RBX"
      },
      "execution_count": 26,
      "outputs": [
        {
          "output_type": "stream",
          "name": "stdout",
          "text": [
            "4/4 [==============================] - 1s 148ms/step - loss: 0.7567 - accuracy: 0.7686\n",
            "VGG16 Test Accuracy:  0.7685950398445129\n"
          ]
        }
      ],
      "id": "NvyuR0-2_RBX"
    },
    {
      "cell_type": "markdown",
      "metadata": {
        "id": "xRTvTYsjpxO0"
      },
      "source": [
        "#### **Dự đoán kết quả dựa trên ảnh**"
      ],
      "id": "xRTvTYsjpxO0"
    },
    {
      "cell_type": "code",
      "execution_count": 127,
      "metadata": {
        "id": "f7372430"
      },
      "outputs": [],
      "source": [
        "# Predict\n",
        "from keras.preprocessing.image import load_img, img_to_array\n",
        "from keras.models import load_model\n",
        "import pandas as pd\n",
        "import numpy as np\n",
        "image_width = 224\n",
        "image_height = 224\n",
        "classes = ['Bishop', 'King', 'Knight', 'Pawn', 'Queen','Rook']\n"
      ],
      "id": "f7372430"
    },
    {
      "cell_type": "code",
      "execution_count": 128,
      "metadata": {
        "id": "07c34e90"
      },
      "outputs": [],
      "source": [
        "# load model\n",
        "model = load_model(\"/content/drive/MyDrive/chess_data/chest_best_vgg_2_2_model.h5\")"
      ],
      "id": "07c34e90"
    },
    {
      "cell_type": "code",
      "execution_count": 129,
      "metadata": {
        "id": "849e1940"
      },
      "outputs": [],
      "source": [
        "# image preprocessing\n",
        "def image_preprocessing(path):\n",
        "    image = load_img(path, target_size=(image_height, image_width))\n",
        "    image_result = img_to_array(image)\n",
        "    image_result = np.expand_dims(image_result, axis = 0)\n",
        "    image_result =image_result/255.0\n",
        "    return image_result\n"
      ],
      "id": "849e1940"
    },
    {
      "cell_type": "code",
      "execution_count": 130,
      "metadata": {
        "id": "DdWtehWjekzw"
      },
      "outputs": [],
      "source": [
        "test_path = \"/content/drive/MyDrive/chess_data-20240317T002204Z-001/chess_data/test/Bishop/53_resized.jpg\""
      ],
      "id": "DdWtehWjekzw"
    },
    {
      "cell_type": "code",
      "execution_count": 131,
      "metadata": {
        "id": "2082c1f2"
      },
      "outputs": [],
      "source": [
        "imageforModel = image_preprocessing(test_path)"
      ],
      "id": "2082c1f2"
    },
    {
      "cell_type": "code",
      "execution_count": 132,
      "metadata": {
        "colab": {
          "base_uri": "https://localhost:8080/"
        },
        "id": "4daa5c8a",
        "outputId": "7b636869-3f99-4d28-f411-f796e8120c7d"
      },
      "outputs": [
        {
          "output_type": "stream",
          "name": "stdout",
          "text": [
            "(1, 224, 224, 3)\n"
          ]
        }
      ],
      "source": [
        "print(imageforModel.shape)"
      ],
      "id": "4daa5c8a"
    },
    {
      "cell_type": "code",
      "execution_count": 133,
      "metadata": {
        "colab": {
          "base_uri": "https://localhost:8080/"
        },
        "id": "bab58fa7",
        "outputId": "09046ae6-b6a6-4cca-ded8-9dc8298a8158"
      },
      "outputs": [
        {
          "output_type": "stream",
          "name": "stdout",
          "text": [
            "1/1 [==============================] - 0s 127ms/step\n"
          ]
        }
      ],
      "source": [
        "resultArray = model.predict(imageforModel, batch_size=32, verbose=1)"
      ],
      "id": "bab58fa7"
    },
    {
      "cell_type": "code",
      "source": [
        "resultArray"
      ],
      "metadata": {
        "colab": {
          "base_uri": "https://localhost:8080/"
        },
        "id": "sRQDWwLLDX_B",
        "outputId": "eaf57d5a-638c-427d-c700-e5e35a226968"
      },
      "id": "sRQDWwLLDX_B",
      "execution_count": 134,
      "outputs": [
        {
          "output_type": "execute_result",
          "data": {
            "text/plain": [
              "array([[9.9842203e-01, 1.8796620e-04, 6.0137711e-04, 1.0666285e-04,\n",
              "        6.5465405e-04, 2.7387092e-05]], dtype=float32)"
            ]
          },
          "metadata": {},
          "execution_count": 134
        }
      ]
    },
    {
      "cell_type": "code",
      "source": [
        "result = np.argmax(resultArray, axis=1)\n",
        "print(result)"
      ],
      "metadata": {
        "colab": {
          "base_uri": "https://localhost:8080/"
        },
        "id": "VuMTOqjCCdTt",
        "outputId": "e3c884e2-ac44-47b2-fd12-f204f96df0d3"
      },
      "id": "VuMTOqjCCdTt",
      "execution_count": 135,
      "outputs": [
        {
          "output_type": "stream",
          "name": "stdout",
          "text": [
            "[0]\n"
          ]
        }
      ]
    },
    {
      "cell_type": "code",
      "execution_count": 136,
      "metadata": {
        "colab": {
          "base_uri": "https://localhost:8080/"
        },
        "id": "b223d091",
        "outputId": "c2f880c1-053e-4290-d3e3-91c5f8ae98aa"
      },
      "outputs": [
        {
          "output_type": "stream",
          "name": "stdout",
          "text": [
            "Bishop\n"
          ]
        }
      ],
      "source": [
        "text=classes[result[0]]\n",
        "print(text)"
      ],
      "id": "b223d091"
    },
    {
      "cell_type": "code",
      "execution_count": 137,
      "metadata": {
        "colab": {
          "base_uri": "https://localhost:8080/",
          "height": 435
        },
        "id": "68395dff",
        "outputId": "f50d83d1-8c53-4c6f-b3eb-48cd66f6e9b4"
      },
      "outputs": [
        {
          "output_type": "display_data",
          "data": {
            "text/plain": [
              "<Figure size 640x480 with 1 Axes>"
            ],
            "image/png": "[encoded data removed]"
          },
          "metadata": {}
        }
      ],
      "source": [
        "import cv2\n",
        "img = cv2.imread(test_path)\n",
        "font = cv2.FONT_HERSHEY_PLAIN\n",
        "resized_img = cv2.resize(img, (300, int(img.shape[0] * 300 / img.shape[1])))\n",
        "cv2.putText(resized_img, text,(0,100),font, 2, (255,0,0), 4)\n",
        "\n",
        "plt.imshow(resized_img)\n",
        "plt.show()"
      ],
      "id": "68395dff"
    }
  ],
  "metadata": {
    "colab": {
      "collapsed_sections": [
        "-LwwRqrxwMD5",
        "lVN0ZJgJIOuH",
        "qKT4KQNtxk4v",
        "YvgSZyR48AX7",
        "nbXuC8yICVyB",
        "xRTvTYsjpxO0"
      ],
      "provenance": [],
      "gpuType": "T4"
    },
    "kernelspec": {
      "display_name": "Python 3",
      "name": "python3"
    },
    "language_info": {
      "codemirror_mode": {
        "name": "ipython",
        "version": 3
      },
      "file_extension": ".py",
      "mimetype": "text/x-python",
      "name": "python",
      "nbconvert_exporter": "python",
      "pygments_lexer": "ipython3",
      "version": "3.9.12"
    },
    "accelerator": "GPU"
  },
  "nbformat": 4,
  "nbformat_minor": 5
}