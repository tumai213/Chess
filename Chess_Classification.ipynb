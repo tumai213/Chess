{
  "cells": [
    {
      "cell_type": "code",
      "execution_count": 6,
      "id": "COlgkvgZI_2E",
      "metadata": {
        "colab": {
          "base_uri": "https://localhost:8080/"
        },
        "id": "COlgkvgZI_2E",
        "outputId": "93cceb04-b4b0-4ceb-b8c6-b3f13ec0748b"
      },
      "outputs": [
        {
          "name": "stdout",
          "output_type": "stream",
          "text": [
            "Mounted at /content/drive\n"
          ]
        }
      ],
      "source": [
        "#from google.colab import drive\n",
        "#drive.mount('/content/drive')"
      ]
    },
    {
      "cell_type": "markdown",
      "id": "-LwwRqrxwMD5",
      "metadata": {
        "id": "-LwwRqrxwMD5"
      },
      "source": [
        "### Xử lí dữ liệu ban đầu (upload chess data vào drive và dùng, không cần chạy)"
      ]
    },
    {
      "cell_type": "code",
      "execution_count": null,
      "id": "55001fb5",
      "metadata": {
        "id": "55001fb5"
      },
      "outputs": [],
      "source": [
        "!pip install opencv-python"
      ]
    },
    {
      "cell_type": "code",
      "execution_count": null,
      "id": "c6dd6dd0",
      "metadata": {
        "id": "c6dd6dd0"
      },
      "outputs": [],
      "source": [
        "!pip install pillow"
      ]
    },
    {
      "cell_type": "code",
      "execution_count": null,
      "id": "0b6d4c25",
      "metadata": {
        "id": "0b6d4c25"
      },
      "outputs": [],
      "source": [
        "# Pillow là thư viện thao tác với hình ảnh"
      ]
    },
    {
      "cell_type": "code",
      "execution_count": null,
      "id": "2b4d70a3",
      "metadata": {
        "id": "2b4d70a3"
      },
      "outputs": [],
      "source": [
        "# os là thư viện tương tác với hệ điều hình"
      ]
    },
    {
      "cell_type": "code",
      "execution_count": null,
      "id": "c1d2d544",
      "metadata": {
        "id": "c1d2d544"
      },
      "outputs": [],
      "source": [
        "import os"
      ]
    },
    {
      "cell_type": "code",
      "execution_count": 4,
      "id": "c1b1c847",
      "metadata": {
        "id": "c1b1c847"
      },
      "outputs": [],
      "source": [
        "from PIL import Image, ImageDraw, ImageFont"
      ]
    },
    {
      "cell_type": "code",
      "execution_count": null,
      "id": "94c529a2",
      "metadata": {
        "id": "94c529a2"
      },
      "outputs": [],
      "source": [
        "dataList = os.listdir(\"C:/Users/ADMIN/Downloads/chess_data\")"
      ]
    },
    {
      "cell_type": "code",
      "execution_count": null,
      "id": "74e77d76",
      "metadata": {
        "id": "74e77d76",
        "outputId": "56f9de6a-fdf9-4a8e-d5ea-cce7a51f7707"
      },
      "outputs": [
        {
          "name": "stdout",
          "output_type": "stream",
          "text": [
            "['bishop_resized', 'Chess', 'chest_best_model.h5', 'King', 'king-resize', 'knight-resize', 'pawn_resized', 'Queen-Resized', 'Rook-resize', 'Test', 'train', 'validation']\n"
          ]
        }
      ],
      "source": [
        "print(dataList)"
      ]
    },
    {
      "cell_type": "code",
      "execution_count": null,
      "id": "5f45cf96",
      "metadata": {
        "id": "5f45cf96"
      },
      "outputs": [],
      "source": [
        "direction= \"C:/Users/ADMIN/Downloads/chess_data\""
      ]
    },
    {
      "cell_type": "code",
      "execution_count": null,
      "id": "81a62147",
      "metadata": {
        "id": "81a62147"
      },
      "outputs": [],
      "source": [
        "# new train data folder"
      ]
    },
    {
      "cell_type": "code",
      "execution_count": null,
      "id": "26900a99",
      "metadata": {
        "id": "26900a99"
      },
      "outputs": [],
      "source": [
        "trainData= os.path.join(direction,\"train\")\n",
        "os.mkdir(trainData)"
      ]
    },
    {
      "cell_type": "code",
      "execution_count": null,
      "id": "7a20a1de",
      "metadata": {
        "id": "7a20a1de"
      },
      "outputs": [],
      "source": [
        "trainBishopData= os.path.join(trainData,\"Bishop\")\n",
        "os.mkdir(trainBishopData)\n",
        "\n",
        "trainPawnData= os.path.join(trainData,\"Pawn\")\n",
        "os.mkdir(trainPawnData)\n",
        "\n",
        "trainKnightData= os.path.join(trainData,\"Knight\")\n",
        "os.mkdir(trainKnightData)\n",
        "\n",
        "trainRookData= os.path.join(trainData,\"Rook\")\n",
        "os.mkdir(trainRookData)\n",
        "\n",
        "trainQueenData= os.path.join(trainData,\"Queen\")\n",
        "os.mkdir(trainQueenData)\n",
        "\n",
        "trainKingData= os.path.join(trainData,\"King\")\n",
        "os.mkdir(trainKingData)"
      ]
    },
    {
      "cell_type": "code",
      "execution_count": null,
      "id": "4b45d30c",
      "metadata": {
        "id": "4b45d30c"
      },
      "outputs": [],
      "source": [
        "# new validation data folder"
      ]
    },
    {
      "cell_type": "code",
      "execution_count": null,
      "id": "77b7e164",
      "metadata": {
        "id": "77b7e164"
      },
      "outputs": [],
      "source": [
        "validData= os.path.join(direction,\"validation\")\n",
        "os.mkdir(validData)"
      ]
    },
    {
      "cell_type": "code",
      "execution_count": null,
      "id": "bdc30e88",
      "metadata": {
        "id": "bdc30e88"
      },
      "outputs": [],
      "source": [
        "validBishopData= os.path.join(validData,\"Bishop\")\n",
        "os.mkdir(validBishopData)\n",
        "\n",
        "validBishopData= os.path.join(validData,\"Pawn\")\n",
        "os.mkdir(validBishopData)\n",
        "\n",
        "validBishopData= os.path.join(validData,\"Knight\")\n",
        "os.mkdir(validBishopData)\n",
        "\n",
        "validBishopData= os.path.join(validData,\"Rook\")\n",
        "os.mkdir(validBishopData)\n",
        "\n",
        "validBishopData= os.path.join(validData,\"Queen\")\n",
        "os.mkdir(validBishopData)\n",
        "\n",
        "validKingData= os.path.join(validData,\"King\")\n",
        "os.mkdir(validKingData)"
      ]
    },
    {
      "cell_type": "code",
      "execution_count": null,
      "id": "fd0e6be4",
      "metadata": {
        "id": "fd0e6be4"
      },
      "outputs": [],
      "source": [
        "import random\n",
        "# Thư viện thao tác với các files và đường dẫn\n",
        "import shutil"
      ]
    },
    {
      "cell_type": "code",
      "execution_count": null,
      "id": "d4a79dcb",
      "metadata": {
        "id": "d4a79dcb"
      },
      "outputs": [],
      "source": [
        "split_size =0.85"
      ]
    },
    {
      "cell_type": "code",
      "execution_count": null,
      "id": "e466b1d4",
      "metadata": {
        "id": "e466b1d4"
      },
      "outputs": [],
      "source": [
        "# Bishop direction\n",
        "Bishop_source= \"/content/drive/MyDrive/chess_data/bishop_resized\"\n",
        "Bishop_train= \"/content/drive/MyDrive/chess_data/train/Bishop/\"\n",
        "Bishop_valid= \"/content/drive/MyDrive/chess_data/validation/Bishop/\"\n",
        "\n",
        "# Knight direction\n",
        "Knight_source= \"/content/drive/MyDrive/chess_data/knight_resize\"\n",
        "Knight_train= \"/content/drive/MyDrive/chess_data/train/Knight/\"\n",
        "Knight_valid= \"/content/drive/MyDrive/chess_data/validation/Knight/\"\n",
        "\n",
        "# Pawn direction\n",
        "Pawn_source= \"/content/drive/MyDrive/chess_data/pawn_resized\"\n",
        "Pawn_train= \"/content/drive/MyDrive/chess_data/train/Pawn/\"\n",
        "Pawn_valid= \"/content/drive/MyDrive/chess_data/validation/Pawn/\"\n",
        "\n",
        "# Rook direction\n",
        "Rook_source= \"/content/drive/MyDrive/chess_data/Rook_resize\"\n",
        "Rook_train= \"/content/drive/MyDrive/chess_data/train/Rook/\"\n",
        "Rook_valid= \"/content/drive/MyDrive/chess_data/validation/Rook/\"\n",
        "\n",
        "# Queen direction\n",
        "Queen_source= \"/content/drive/MyDrive/chess_data/Queen_Resized\"\n",
        "Queen_train= \"/content/drive/MyDrive/chess_data/train/Queen/\"\n",
        "Queen_valid= \"/content/drive/MyDrive/chess_data/validation/Queen/\"\n",
        "\n",
        "# King direction\n",
        "King_source= \"/content/drive/MyDrive/chess_data/king_resize\"\n",
        "King_train= \"/content/drive/MyDrive/chess_data/train/King/\"\n",
        "King_valid= \"/content/drive/MyDrive/chess_data/validation/King/\"\n",
        "\n",
        "Source = [Bishop_source, Knight_source, Pawn_source, Rook_source, Queen_source, King_source]"
      ]
    },
    {
      "cell_type": "markdown",
      "id": "lVN0ZJgJIOuH",
      "metadata": {
        "id": "lVN0ZJgJIOuH"
      },
      "source": [
        "### CHIA DỮ LIỆU CHO TRAINING VÀ VALIDATION"
      ]
    },
    {
      "cell_type": "code",
      "execution_count": null,
      "id": "f90ec25a",
      "metadata": {
        "id": "f90ec25a"
      },
      "outputs": [],
      "source": [
        "import random\n",
        "import shutil\n",
        "def split_data(source, training, validation, split_size):\n",
        "    files =[]\n",
        "    for filename in os.listdir(source):\n",
        "        file = source + filename\n",
        "        if os.path.getsize(file) >0:\n",
        "            files.append(filename)\n",
        "        else:\n",
        "            print(filename + \"cc\")\n",
        "    training_length = int(len(files) *split_size)\n",
        "    valid_length = int(len(files) - training_length)\n",
        "    # random files\n",
        "    shuffleSet = random.sample(files, len(files))\n",
        "\n",
        "    trainSet= shuffleSet[0:training_length]\n",
        "    validSet= shuffleSet[training_length:]\n",
        "    # copy the train image\n",
        "    for filename in trainSet:\n",
        "        this = source + filename\n",
        "        destination = training + filename\n",
        "        shutil.copyfile(this, destination)\n",
        "    # copy the valid image\n",
        "    for filename in validSet:\n",
        "        this = source + filename\n",
        "        destination = validation + filename\n",
        "        shutil.copyfile(this, destination)"
      ]
    },
    {
      "cell_type": "code",
      "execution_count": null,
      "id": "6f1e23e2",
      "metadata": {
        "id": "6f1e23e2"
      },
      "outputs": [],
      "source": [
        "split_data(Bishop_source, Bishop_train, Bishop_valid,split_size)\n",
        "split_data(Knight_source, Knight_train, Knight_valid,split_size)\n",
        "split_data(Pawn_source, Pawn_train, Pawn_valid,split_size)\n",
        "split_data(Rook_source, Rook_train, Rook_valid,split_size)\n",
        "split_data(Queen_source, Queen_train, Queen_valid,split_size)\n",
        "split_data(King_source, King_train, King_valid,split_size)"
      ]
    },
    {
      "cell_type": "markdown",
      "id": "q_w7IAlOJta4",
      "metadata": {
        "id": "q_w7IAlOJta4"
      },
      "source": [
        "**Sau khi chia dữ liệu ở máy thì upload folder lên google drive để truy cập thông qua collab**"
      ]
    },
    {
      "cell_type": "code",
      "execution_count": null,
      "id": "9oFnwOLjwoAc",
      "metadata": {
        "id": "9oFnwOLjwoAc"
      },
      "outputs": [],
      "source": [
        "# Bishop direction\n",
        "Bishop_source= \"/content/drive/MyDrive/chess_data/bishop_resized\"\n",
        "Bishop_train= \"/content/drive/MyDrive/chess_data/train/Bishop/\"\n",
        "Bishop_valid= \"/content/drive/MyDrive/chess_data/validation/Bishop/\"\n",
        "\n",
        "# Knight direction\n",
        "Knight_source= \"/content/drive/MyDrive/chess_data/knight_resize\"\n",
        "Knight_train= \"/content/drive/MyDrive/chess_data/train/Knight/\"\n",
        "Knight_valid= \"/content/drive/MyDrive/chess_data/validation/Knight/\"\n",
        "\n",
        "# Pawn direction\n",
        "Pawn_source= \"/content/drive/MyDrive/chess_data/pawn_resized\"\n",
        "Pawn_train= \"/content/drive/MyDrive/chess_data/train/Pawn/\"\n",
        "Pawn_valid= \"/content/drive/MyDrive/chess_data/validation/Pawn/\"\n",
        "\n",
        "# Rook direction\n",
        "Rook_source= \"/content/drive/MyDrive/chess_data/Rook_resize\"\n",
        "Rook_train= \"/content/drive/MyDrive/chess_data/train/Rook/\"\n",
        "Rook_valid= \"/content/drive/MyDrive/chess_data/validation/Rook/\"\n",
        "\n",
        "# Queen direction\n",
        "Queen_source= \"/content/drive/MyDrive/chess_data/Queen_Resized\"\n",
        "Queen_train= \"/content/drive/MyDrive/chess_data/train/Queen/\"\n",
        "Queen_valid= \"/content/drive/MyDrive/chess_data/validation/Queen/\"\n",
        "\n",
        "# King direction\n",
        "King_source= \"/content/drive/MyDrive/chess_data/king_resize\"\n",
        "King_train= \"/content/drive/MyDrive/chess_data/train/King/\"\n",
        "King_valid= \"/content/drive/MyDrive/chess_data/validation/King/\"\n",
        "\n",
        "Source = [Bishop_source, Knight_source, Pawn_source, Rook_source, Queen_source, King_source]"
      ]
    },
    {
      "cell_type": "code",
      "execution_count": null,
      "id": "TFi9bFS3KHXA",
      "metadata": {
        "id": "TFi9bFS3KHXA"
      },
      "outputs": [],
      "source": [
        "import os\n",
        "from os import listdir\n",
        "from os.path import isfile, join\n",
        "import pandas as pd\n",
        "import matplotlib.pyplot as plt"
      ]
    },
    {
      "cell_type": "code",
      "execution_count": null,
      "id": "-uZDbKxdKjRp",
      "metadata": {
        "colab": {
          "base_uri": "https://localhost:8080/",
          "height": 583
        },
        "id": "-uZDbKxdKjRp",
        "outputId": "5365d10a-367a-4288-9dd9-d218eb8a4acb"
      },
      "outputs": [
        {
          "data": {
            "image/png": "[encoded data removed]",
            "text/plain": [
              "<Figure size 800x600 with 1 Axes>"
            ]
          },
          "metadata": {},
          "output_type": "display_data"
        },
        {
          "name": "stdout",
          "output_type": "stream",
          "text": [
            "{'Bishop': 141, 'Knight': 174, 'Pawn': 82, 'Rook': 139, 'Queen': 115, 'King': 201}\n"
          ]
        }
      ],
      "source": [
        "def dataShow(Source, image_counts={}, name=\"\"):\n",
        "  for folder in Source:\n",
        "    chess = ((str(folder).split(\"/\")[-1]).split(\"_\")[0]).title()\n",
        "    files = listdir(folder)\n",
        "    for filename in files:\n",
        "        if filename.lower().endswith(('.jpg', '.jpeg', '.png')):\n",
        "          if chess in image_counts:\n",
        "            image_counts[chess] += 1\n",
        "          else:\n",
        "            image_counts[chess] = 1\n",
        "  df = pd.DataFrame.from_dict(image_counts, orient='index', columns=['Count'])\n",
        "  df = df.sort_values('Count', ascending=False)\n",
        "\n",
        "  plt.figure(figsize=(8, 6))\n",
        "  plt.bar(df.index, df['Count'])\n",
        "  plt.xlabel('Tên ảnh')\n",
        "  plt.ylabel('Số lượng')\n",
        "  plt.title(f'Số lượng ảnh của tập {name}')\n",
        "  # Add text object with bbox for positioning\n",
        "  plt.text(4, 200, f\"Tổng số lượng: {sum(image_counts.values())}\", ha='center', va='center', bbox=dict(boxstyle='round', facecolor='white', alpha=0.9))\n",
        "  plt.show()\n",
        "image_counts={}\n",
        "dataShow(Source, image_counts, 'Gốc')\n",
        "print(image_counts)"
      ]
    },
    {
      "cell_type": "code",
      "execution_count": null,
      "id": "NHppIqbWxjQe",
      "metadata": {
        "colab": {
          "base_uri": "https://localhost:8080/"
        },
        "id": "NHppIqbWxjQe",
        "outputId": "bfdc9238-6c9d-42e8-fd1b-a6dd391d052a"
      },
      "outputs": [
        {
          "name": "stdout",
          "output_type": "stream",
          "text": [
            "852\n"
          ]
        }
      ],
      "source": [
        "print(sum(image_counts.values()))"
      ]
    },
    {
      "cell_type": "markdown",
      "id": "qKT4KQNtxk4v",
      "metadata": {
        "id": "qKT4KQNtxk4v"
      },
      "source": [
        "### Tăng sinh dữ liệu (Dùng kỹ thuật Albumentation)"
      ]
    },
    {
      "cell_type": "code",
      "execution_count": 2,
      "id": "a7521477",
      "metadata": {
        "id": "a7521477"
      },
      "outputs": [
        {
          "name": "stdout",
          "output_type": "stream",
          "text": [
            "Note: you may need to restart the kernel to use updated packages.\n"
          ]
        },
        {
          "name": "stderr",
          "output_type": "stream",
          "text": [
            "  WARNING: Failed to write executable - trying to use .deleteme logic\n",
            "ERROR: Could not install packages due to an OSError: [WinError 2] The system cannot find the file specified: 'c:\\\\Python310\\\\Scripts\\\\f2py.exe' -> 'c:\\\\Python310\\\\Scripts\\\\f2py.exe.deleteme'\n",
            "\n",
            "WARNING: You are using pip version 22.0.4; however, version 24.0 is available.\n",
            "You should consider upgrading via the 'c:\\Python310\\python.exe -m pip install --upgrade pip' command.\n"
          ]
        },
        {
          "name": "stdout",
          "output_type": "stream",
          "text": [
            "Note: you may need to restart the kernel to use updated packages.\n"
          ]
        },
        {
          "name": "stderr",
          "output_type": "stream",
          "text": [
            "WARNING: You are using pip version 22.0.4; however, version 24.0 is available.\n",
            "You should consider upgrading via the 'c:\\Python310\\python.exe -m pip install --upgrade pip' command.\n"
          ]
        },
        {
          "name": "stdout",
          "output_type": "stream",
          "text": [
            "Note: you may need to restart the kernel to use updated packages.\n"
          ]
        },
        {
          "name": "stderr",
          "output_type": "stream",
          "text": [
            "WARNING: You are using pip version 22.0.4; however, version 24.0 is available.\n",
            "You should consider upgrading via the 'c:\\Python310\\python.exe -m pip install --upgrade pip' command.\n"
          ]
        }
      ],
      "source": [
        "%pip install albumentations --quiet\n",
        "%pip install colorama --quiet\n",
        "%pip install opencv-python --quiet"
      ]
    },
    {
      "cell_type": "code",
      "execution_count": 1,
      "id": "7whZtb3Brkql",
      "metadata": {
        "colab": {
          "base_uri": "https://localhost:8080/"
        },
        "id": "7whZtb3Brkql",
        "outputId": "cc897747-ad2b-4a3a-a245-825feeca7da3"
      },
      "outputs": [
        {
          "ename": "ModuleNotFoundError",
          "evalue": "No module named 'albumentations'",
          "output_type": "error",
          "traceback": [
            "\u001b[1;31m---------------------------------------------------------------------------\u001b[0m",
            "\u001b[1;31mModuleNotFoundError\u001b[0m                       Traceback (most recent call last)",
            "Cell \u001b[1;32mIn[1], line 1\u001b[0m\n\u001b[1;32m----> 1\u001b[0m \u001b[38;5;28;01mimport\u001b[39;00m \u001b[38;5;21;01malbumentations\u001b[39;00m \u001b[38;5;28;01mas\u001b[39;00m \u001b[38;5;21;01mA\u001b[39;00m\n\u001b[0;32m      2\u001b[0m \u001b[38;5;28;01mimport\u001b[39;00m \u001b[38;5;21;01mcv2\u001b[39;00m\n\u001b[0;32m      3\u001b[0m \u001b[38;5;28;01mfrom\u001b[39;00m \u001b[38;5;21;01mcolorama\u001b[39;00m \u001b[38;5;28;01mimport\u001b[39;00m Fore, Back, Style\n",
            "\u001b[1;31mModuleNotFoundError\u001b[0m: No module named 'albumentations'"
          ]
        }
      ],
      "source": [
        "import albumentations as A\n",
        "import cv2\n",
        "from colorama import Fore, Back, Style\n",
        "import os\n",
        "import matplotlib.pyplot as plt\n",
        "# Declare an augmentation pipeline\n",
        "transforms_1 = A.Compose([\n",
        "            A.Rotate(limit=40),\n",
        "            A.RandomBrightnessContrast(brightness_limit=0.1, contrast_limit=0.1, p=0.5),\n",
        "            A.HueSaturationValue(hue_shift_limit=20, sat_shift_limit=30, val_shift_limit=20, p=0.5),\n",
        "            A.HorizontalFlip()\n",
        "        ])\n",
        "transforms_2 = A.Compose([\n",
        "        A.HorizontalFlip(p=0.5),  # Random horizontal flip\n",
        "        A.VerticalFlip(p=0.5),     # Random vertical flip\n",
        "        A.RandomRotate90(p=0.5),   # Random rotation by 90, 180, or 270 degrees\n",
        "        A.ShiftScaleRotate(shift_limit=0.05, scale_limit=0.1, rotate_limit=10, p=0.5),\n",
        "                            # Random shift, scale, and rotation within specified limits\n",
        "        A.ElasticTransform(alpha=0.1, sigma=0.1, alpha_affine=0.1, p=0.5),\n",
        "                            # Elastic deformation with moderate distortion\n",
        "        A.RandomBrightnessContrast(brightness_limit=0.05, contrast_limit=0.1, p=0.5),\n",
        "                            # Random adjustments to brightness and contrast\n",
        "        A.RandomGamma(gamma_limit=0.2, p=0.5),   # Random gamma correction\n",
        "        A.GaussianBlur(blur_limit=7, p=0.5),        # Random Gaussian blur\n",
        "        A.CLAHE(p=0.5)            # Contrast limited adaptive histogram equalization\n",
        "    ])\n",
        "\n"
      ]
    },
    {
      "cell_type": "code",
      "execution_count": null,
      "id": "sUbIs-EoaiTq",
      "metadata": {
        "id": "sUbIs-EoaiTq"
      },
      "outputs": [],
      "source": [
        "import matplotlib.pyplot as plt\n",
        "import numpy as np\n",
        "image_dir= '/content/drive/MyDrive/ahu'\n",
        "image= plt.imread(os.path.join(image_dir, '00000138_resized.jpg'))\n",
        "#cv2.cvtColor(image, cv2.COLOR_BGR2RGB)\n",
        "transformed= transforms_2(image=image)\n",
        "# Phải có hàng dưới để lấy dữ liệu đã transform\n",
        "transformed_image = transformed[\"image\"]\n",
        "plt.imshow(transformed_image)\n",
        "plt.show()\n",
        "base_name, _ = os.path.splitext('00000138_resized.jpg')\n",
        "output_path = os.path.join('/content/drive/MyDrive/test', f\"{base_name}_augmented.jpg\")\n",
        "transformed_image = transformed_image.astype(np.uint8)\n",
        "transformed_image=cv2.cvtColor(transformed_image, cv2.COLOR_RGB2BGR)\n",
        "#transformed_image = np.clip(transformed_image, 0, 255)\n",
        "cv2.imwrite(output_path, transformed_image)"
      ]
    },
    {
      "cell_type": "markdown",
      "id": "LcXQqkHysTMI",
      "metadata": {
        "id": "LcXQqkHysTMI"
      },
      "source": [
        "**Hàm tăng sinh dữ liệu**"
      ]
    },
    {
      "cell_type": "code",
      "execution_count": 21,
      "id": "QhiKOggXA5FW",
      "metadata": {
        "id": "QhiKOggXA5FW"
      },
      "outputs": [],
      "source": [
        "import matplotlib.pyplot as plt\n",
        "import numpy as np\n",
        "\n",
        "def augmentation(input_dir, output_dir, augmentation):\n",
        "  if not os.path.exists(output_dir):\n",
        "    os.makedirs(output_dir)\n",
        "  for filename in os.listdir(image_dir):\n",
        "    if filename.lower().endswith(('.jpg', '.jpeg', '.png')):\n",
        "      # Read the image\n",
        "      image = cv2.imread(os.path.join(image_dir, filename))\n",
        "\n",
        "      # Augment the image\n",
        "      augmented_image = augmentation(image=image)\n",
        "      transformed_image = augmented_image[\"image\"]\n",
        "      # Get filename without extension\n",
        "      base_name, _ = os.path.splitext(filename)\n",
        "\n",
        "      # Create output path with same filename and extension\n",
        "      output_path = os.path.join(output_dir, f\"{base_name}_augmented.jpg\")\n",
        "      if os.path.exists(output_path):\n",
        "        base_name, _ = os.path.splitext(output_path)\n",
        "        output_path = os.path.join(output_dir, f\"{base_name}(1).jpg\")\n",
        "        print(u)\n",
        "      transformed_image = transformed_image.astype(np.uint8)\n",
        "      transformed_image=cv2.cvtColor(transformed_image, cv2.COLOR_RGB2BGR)\n",
        "      # Save the augmented image\n",
        "      cv2.imwrite(output_path, transformed_image)\n"
      ]
    },
    {
      "cell_type": "code",
      "execution_count": null,
      "id": "Rj2tScjZqlOX",
      "metadata": {
        "id": "Rj2tScjZqlOX"
      },
      "outputs": [],
      "source": []
    },
    {
      "cell_type": "code",
      "execution_count": null,
      "id": "aJRq-SQHEDW8",
      "metadata": {
        "id": "aJRq-SQHEDW8"
      },
      "outputs": [],
      "source": [
        "image_dir = \"/content/drive/MyDrive/chess_data/train/Bishop\"\n",
        "output_dir = \"/content/drive/MyDrive/chess_data/train/Bishop_aug\"\n",
        "augmentation(image_dir, output_dir, transforms_1)"
      ]
    },
    {
      "cell_type": "code",
      "execution_count": 28,
      "id": "IagasEhyvVuC",
      "metadata": {
        "id": "IagasEhyvVuC"
      },
      "outputs": [],
      "source": [
        "%%capture\n",
        "image_dir = \"/content/drive/MyDrive/chess_data/train/King\"\n",
        "output_dir = \"/content/drive/MyDrive/chess_data/train/King_aug\"\n",
        "augmentation(image_dir, output_dir, transforms_1)\n",
        "augmentation(image_dir, output_dir, transforms_2)"
      ]
    },
    {
      "cell_type": "code",
      "execution_count": 29,
      "id": "628PvidXvltV",
      "metadata": {
        "id": "628PvidXvltV"
      },
      "outputs": [],
      "source": [
        "# Không show kết quả\n",
        "%%capture\n",
        "image_dir = \"/content/drive/MyDrive/chess_data/train/Knight\"\n",
        "output_dir = \"/content/drive/MyDrive/chess_data/train/Knight_aug\"\n",
        "augmentation(image_dir, output_dir, transforms_1)\n",
        "augmentation(image_dir, output_dir, transforms_2)"
      ]
    },
    {
      "cell_type": "code",
      "execution_count": 30,
      "id": "MNJf1fNdv2MS",
      "metadata": {
        "id": "MNJf1fNdv2MS"
      },
      "outputs": [],
      "source": [
        "%%capture\n",
        "image_dir = \"/content/drive/MyDrive/chess_data/train/Pawn\"\n",
        "output_dir = \"/content/drive/MyDrive/chess_data/train/Pawn_aug\"\n",
        "augmentation(image_dir, output_dir, transforms_1)\n",
        "augmentation(image_dir, output_dir, transforms_2)"
      ]
    },
    {
      "cell_type": "code",
      "execution_count": 31,
      "id": "R-IJkfIfv54h",
      "metadata": {
        "id": "R-IJkfIfv54h"
      },
      "outputs": [],
      "source": [
        "%%capture\n",
        "image_dir = \"/content/drive/MyDrive/chess_data/train/Queen\"\n",
        "output_dir = \"/content/drive/MyDrive/chess_data/train/Queen_aug\"\n",
        "augmentation(image_dir, output_dir, transforms_1)\n",
        "augmentation(image_dir, output_dir, transforms_2)"
      ]
    },
    {
      "cell_type": "code",
      "execution_count": 32,
      "id": "dv4sc7Y0v9iG",
      "metadata": {
        "id": "dv4sc7Y0v9iG"
      },
      "outputs": [],
      "source": [
        "%%capture\n",
        "image_dir = \"/content/drive/MyDrive/chess_data/train/Rook\"\n",
        "output_dir = \"/content/drive/MyDrive/chess_data/train/Rook_aug\"\n",
        "augmentation(image_dir, output_dir, transforms_1)\n",
        "augmentation(image_dir, output_dir, transforms_2)"
      ]
    },
    {
      "cell_type": "markdown",
      "id": "CavxR1R0qcEx",
      "metadata": {
        "id": "CavxR1R0qcEx"
      },
      "source": [
        "**Xóa folder nếu lỗi**"
      ]
    },
    {
      "cell_type": "code",
      "execution_count": 24,
      "id": "DZ1PLLd_o7j9",
      "metadata": {
        "id": "DZ1PLLd_o7j9"
      },
      "outputs": [],
      "source": [
        "import shutil\n",
        "for filename in os.listdir(output_dir):\n",
        "    if filename.lower().endswith(('.jpg', '.jpeg', '.png')):\n",
        "      filepath= os.path.join(output_dir, filename)\n",
        "      os.remove(filepath)\n",
        "shutil.rmtree(output_dir)"
      ]
    },
    {
      "cell_type": "markdown",
      "id": "pY48FcQQIe1B",
      "metadata": {
        "id": "pY48FcQQIe1B"
      },
      "source": [
        "### CÁC BƯỚC XÂY DỰNG MODEL\n"
      ]
    },
    {
      "cell_type": "code",
      "execution_count": null,
      "id": "8483e4c6",
      "metadata": {
        "id": "8483e4c6",
        "outputId": "04d5c362-9745-4b61-a204-6eb4c03ba8b4"
      },
      "outputs": [
        {
          "name": "stderr",
          "output_type": "stream",
          "text": [
            "C:\\Users\\ADMIN\\anaconda3\\lib\\site-packages\\scipy\\__init__.py:146: UserWarning: A NumPy version >=1.16.5 and <1.23.0 is required for this version of SciPy (detected version 1.26.4\n",
            "  warnings.warn(f\"A NumPy version >={np_minversion} and <{np_maxversion}\"\n"
          ]
        },
        {
          "name": "stdout",
          "output_type": "stream",
          "text": [
            "WARNING:tensorflow:From C:\\Users\\ADMIN\\anaconda3\\lib\\site-packages\\keras\\src\\losses.py:2976: The name tf.losses.sparse_softmax_cross_entropy is deprecated. Please use tf.compat.v1.losses.sparse_softmax_cross_entropy instead.\n",
            "\n"
          ]
        }
      ],
      "source": [
        "from tensorflow.keras.preprocessing.image import ImageDataGenerator\n",
        "from tensorflow.keras.layers import Conv2D, MaxPooling2D, Flatten, Dense, Dropout\n",
        "from tensorflow.keras.models import Sequential\n",
        "from tensorflow.keras.optimizers import Adam\n",
        "from tensorflow.keras.callbacks import EarlyStopping, ModelCheckpoint\n",
        "import matplotlib.pyplot as plt\n",
        "from glob import glob"
      ]
    },
    {
      "cell_type": "code",
      "execution_count": null,
      "id": "1c9d836c",
      "metadata": {
        "id": "1c9d836c"
      },
      "outputs": [],
      "source": [
        "img_width= 224\n",
        "img_height= 224\n",
        "batch_size = 32\n",
        "epochs = 100\n"
      ]
    },
    {
      "cell_type": "code",
      "execution_count": null,
      "id": "c1fbdf56",
      "metadata": {
        "id": "c1fbdf56"
      },
      "outputs": [],
      "source": [
        "training_dir = \"C:/Users/ADMIN/Downloads/chess_data/train\""
      ]
    },
    {
      "cell_type": "code",
      "execution_count": null,
      "id": "62369b7f",
      "metadata": {
        "id": "62369b7f",
        "outputId": "1afece37-44da-4e69-f691-994b69679296"
      },
      "outputs": [
        {
          "name": "stdout",
          "output_type": "stream",
          "text": [
            "6\n"
          ]
        }
      ],
      "source": [
        "NumOfClasses = len(glob('C:/Users/ADMIN/Downloads/chess_data/train/*'))\n",
        "print(NumOfClasses)"
      ]
    },
    {
      "cell_type": "code",
      "execution_count": null,
      "id": "40f1733c",
      "metadata": {
        "id": "40f1733c",
        "outputId": "2da86339-5f1c-4f62-dbc3-9bc6a316ac84"
      },
      "outputs": [
        {
          "name": "stdout",
          "output_type": "stream",
          "text": [
            "Found 720 images belonging to 6 classes.\n"
          ]
        }
      ],
      "source": [
        "# over sampling\n",
        " #rescale để chuyển dữ liệu về khoảng 0-1 (thay đổi image data generator)\n",
        "train_datagen= ImageDataGenerator(rescale=1/255.0, rotation_range=30, zoom_range=0.4, horizontal_flip=True, shear_range=0.4)\n",
        "# load image\n",
        "train_generator = train_datagen.flow_from_directory(training_dir,batch_size=batch_size,class_mode='categorical', target_size=(img_height,img_width))"
      ]
    },
    {
      "cell_type": "code",
      "execution_count": null,
      "id": "9d82db84",
      "metadata": {
        "id": "9d82db84",
        "outputId": "3380aae7-c351-4b63-8224-57756fd1b4ff"
      },
      "outputs": [
        {
          "name": "stdout",
          "output_type": "stream",
          "text": [
            "Found 132 images belonging to 6 classes.\n"
          ]
        }
      ],
      "source": [
        "valid_dir = \"C:/Users/ADMIN/Downloads/chess_data/validation\"\n",
        "valid_datagen = ImageDataGenerator(rescale=1/255.0)\n",
        "valid_generator = valid_datagen.flow_from_directory(valid_dir,batch_size=batch_size,class_mode='categorical', target_size=(img_height,img_width))"
      ]
    },
    {
      "cell_type": "code",
      "execution_count": null,
      "id": "2e73d777",
      "metadata": {
        "id": "2e73d777"
      },
      "outputs": [],
      "source": [
        "# Callback\n",
        "callback = EarlyStopping(monitor='val_loss', patience=5, verbose=1, mode='auto')\n",
        "bestModelFileName = \"C:/Users/ADMIN/Downloads/chess_data/chest_best_model.h5\"\n",
        "bestModel = ModelCheckpoint(bestModelFileName, monitor='val_accuracy', verbose=1, save_best_only=True)"
      ]
    },
    {
      "cell_type": "code",
      "execution_count": null,
      "id": "74012dec",
      "metadata": {
        "id": "74012dec",
        "outputId": "073c2468-d787-4bb2-d4d6-ad037c0de95f"
      },
      "outputs": [
        {
          "name": "stdout",
          "output_type": "stream",
          "text": [
            "WARNING:tensorflow:From C:\\Users\\ADMIN\\anaconda3\\lib\\site-packages\\keras\\src\\backend.py:873: The name tf.get_default_graph is deprecated. Please use tf.compat.v1.get_default_graph instead.\n",
            "\n",
            "WARNING:tensorflow:From C:\\Users\\ADMIN\\anaconda3\\lib\\site-packages\\keras\\src\\layers\\pooling\\max_pooling2d.py:161: The name tf.nn.max_pool is deprecated. Please use tf.nn.max_pool2d instead.\n",
            "\n",
            "Model: \"sequential\"\n",
            "_________________________________________________________________\n",
            " Layer (type)                Output Shape              Param #   \n",
            "=================================================================\n",
            " conv2d (Conv2D)             (None, 222, 222, 32)      896       \n",
            "                                                                 \n",
            " max_pooling2d (MaxPooling2  (None, 111, 111, 32)      0         \n",
            " D)                                                              \n",
            "                                                                 \n",
            " conv2d_1 (Conv2D)           (None, 109, 109, 64)      18496     \n",
            "                                                                 \n",
            " max_pooling2d_1 (MaxPoolin  (None, 54, 54, 64)        0         \n",
            " g2D)                                                            \n",
            "                                                                 \n",
            " conv2d_2 (Conv2D)           (None, 52, 52, 64)        36928     \n",
            "                                                                 \n",
            " max_pooling2d_2 (MaxPoolin  (None, 26, 26, 64)        0         \n",
            " g2D)                                                            \n",
            "                                                                 \n",
            " conv2d_3 (Conv2D)           (None, 24, 24, 128)       73856     \n",
            "                                                                 \n",
            " max_pooling2d_3 (MaxPoolin  (None, 12, 12, 128)       0         \n",
            " g2D)                                                            \n",
            "                                                                 \n",
            " conv2d_4 (Conv2D)           (None, 10, 10, 256)       295168    \n",
            "                                                                 \n",
            " max_pooling2d_4 (MaxPoolin  (None, 5, 5, 256)         0         \n",
            " g2D)                                                            \n",
            "                                                                 \n",
            " flatten (Flatten)           (None, 6400)              0         \n",
            "                                                                 \n",
            " dense (Dense)               (None, 512)               3277312   \n",
            "                                                                 \n",
            " dense_1 (Dense)             (None, 512)               262656    \n",
            "                                                                 \n",
            " dense_2 (Dense)             (None, 6)                 3078      \n",
            "                                                                 \n",
            "=================================================================\n",
            "Total params: 3968390 (15.14 MB)\n",
            "Trainable params: 3968390 (15.14 MB)\n",
            "Non-trainable params: 0 (0.00 Byte)\n",
            "_________________________________________________________________\n",
            "None\n"
          ]
        }
      ],
      "source": [
        "#Model CNN\n",
        "model = Sequential(\n",
        "    [Conv2D(32,(3,3), activation='relu', input_shape=(img_height, img_width,3)),\n",
        "    MaxPooling2D(2,2),\n",
        "\n",
        "    Conv2D(64,(3,3), activation='relu'),\n",
        "    MaxPooling2D(2,2),\n",
        "\n",
        "    Conv2D(64,(3,3), activation='relu'),\n",
        "    MaxPooling2D(2,2),\n",
        "\n",
        "    Conv2D(128,(3,3), activation='relu'),\n",
        "    MaxPooling2D(2,2),\n",
        "\n",
        "    Conv2D(256,(3,3), activation='relu'),\n",
        "    MaxPooling2D(2,2),\n",
        "\n",
        "    Flatten(),\n",
        "\n",
        "    Dense(512, activation='relu'),\n",
        "    Dense(512, activation='relu'),\n",
        "\n",
        "    Dense(NumOfClasses, activation='softmax')]\n",
        ")\n",
        "print(model.summary())"
      ]
    },
    {
      "cell_type": "code",
      "execution_count": null,
      "id": "0beee1b9",
      "metadata": {
        "id": "0beee1b9",
        "outputId": "53607db0-a126-4fdf-a35f-b90f97e2b3d0"
      },
      "outputs": [
        {
          "name": "stdout",
          "output_type": "stream",
          "text": [
            "WARNING:tensorflow:From C:\\Users\\ADMIN\\anaconda3\\lib\\site-packages\\keras\\src\\optimizers\\__init__.py:309: The name tf.train.Optimizer is deprecated. Please use tf.compat.v1.train.Optimizer instead.\n",
            "\n",
            "Epoch 1/100\n",
            "WARNING:tensorflow:From C:\\Users\\ADMIN\\anaconda3\\lib\\site-packages\\keras\\src\\utils\\tf_utils.py:492: The name tf.ragged.RaggedTensorValue is deprecated. Please use tf.compat.v1.ragged.RaggedTensorValue instead.\n",
            "\n",
            "WARNING:tensorflow:From C:\\Users\\ADMIN\\anaconda3\\lib\\site-packages\\keras\\src\\engine\\base_layer_utils.py:384: The name tf.executing_eagerly_outside_functions is deprecated. Please use tf.compat.v1.executing_eagerly_outside_functions instead.\n",
            "\n",
            "23/23 [==============================] - ETA: 0s - loss: 1.7894 - accuracy: 0.2250\n",
            "Epoch 1: val_accuracy improved from -inf to 0.23485, saving model to C:/Users/ADMIN/Downloads/chess_data\\chest_best_model.h5\n"
          ]
        },
        {
          "name": "stderr",
          "output_type": "stream",
          "text": [
            "C:\\Users\\ADMIN\\anaconda3\\lib\\site-packages\\keras\\src\\engine\\training.py:3103: UserWarning: You are saving your model as an HDF5 file via `model.save()`. This file format is considered legacy. We recommend using instead the native Keras format, e.g. `model.save('my_model.keras')`.\n",
            "  saving_api.save_model(\n"
          ]
        },
        {
          "name": "stdout",
          "output_type": "stream",
          "text": [
            "23/23 [==============================] - 28s 1s/step - loss: 1.7894 - accuracy: 0.2250 - val_loss: 1.7654 - val_accuracy: 0.2348\n",
            "Epoch 2/100\n",
            "23/23 [==============================] - ETA: 0s - loss: 1.7635 - accuracy: 0.2361\n",
            "Epoch 2: val_accuracy did not improve from 0.23485\n",
            "23/23 [==============================] - 20s 875ms/step - loss: 1.7635 - accuracy: 0.2361 - val_loss: 1.7555 - val_accuracy: 0.2348\n",
            "Epoch 3/100\n",
            "23/23 [==============================] - ETA: 0s - loss: 1.7532 - accuracy: 0.2361\n",
            "Epoch 3: val_accuracy did not improve from 0.23485\n",
            "23/23 [==============================] - 20s 855ms/step - loss: 1.7532 - accuracy: 0.2361 - val_loss: 1.7544 - val_accuracy: 0.2348\n",
            "Epoch 4/100\n",
            "23/23 [==============================] - ETA: 0s - loss: 1.7483 - accuracy: 0.2361\n",
            "Epoch 4: val_accuracy did not improve from 0.23485\n",
            "23/23 [==============================] - 19s 820ms/step - loss: 1.7483 - accuracy: 0.2361 - val_loss: 1.7573 - val_accuracy: 0.2348\n",
            "Epoch 5/100\n",
            "23/23 [==============================] - ETA: 0s - loss: 1.7457 - accuracy: 0.2361\n",
            "Epoch 5: val_accuracy did not improve from 0.23485\n",
            "23/23 [==============================] - 19s 833ms/step - loss: 1.7457 - accuracy: 0.2361 - val_loss: 1.7547 - val_accuracy: 0.2348\n",
            "Epoch 6/100\n",
            "23/23 [==============================] - ETA: 0s - loss: 1.7381 - accuracy: 0.2403\n",
            "Epoch 6: val_accuracy did not improve from 0.23485\n",
            "23/23 [==============================] - 19s 817ms/step - loss: 1.7381 - accuracy: 0.2403 - val_loss: 1.7423 - val_accuracy: 0.2348\n",
            "Epoch 7/100\n",
            "23/23 [==============================] - ETA: 0s - loss: 1.7288 - accuracy: 0.2806\n",
            "Epoch 7: val_accuracy did not improve from 0.23485\n",
            "23/23 [==============================] - 20s 867ms/step - loss: 1.7288 - accuracy: 0.2806 - val_loss: 1.7421 - val_accuracy: 0.2197\n",
            "Epoch 8/100\n",
            "23/23 [==============================] - ETA: 0s - loss: 1.6932 - accuracy: 0.3069\n",
            "Epoch 8: val_accuracy improved from 0.23485 to 0.25000, saving model to C:/Users/ADMIN/Downloads/chess_data\\chest_best_model.h5\n",
            "23/23 [==============================] - 22s 934ms/step - loss: 1.6932 - accuracy: 0.3069 - val_loss: 1.7021 - val_accuracy: 0.2500\n",
            "Epoch 9/100\n",
            "23/23 [==============================] - ETA: 0s - loss: 1.6814 - accuracy: 0.3278\n",
            "Epoch 9: val_accuracy improved from 0.25000 to 0.28030, saving model to C:/Users/ADMIN/Downloads/chess_data\\chest_best_model.h5\n",
            "23/23 [==============================] - 21s 903ms/step - loss: 1.6814 - accuracy: 0.3278 - val_loss: 1.6907 - val_accuracy: 0.2803\n",
            "Epoch 10/100\n",
            "23/23 [==============================] - ETA: 0s - loss: 1.6681 - accuracy: 0.3153\n",
            "Epoch 10: val_accuracy improved from 0.28030 to 0.31818, saving model to C:/Users/ADMIN/Downloads/chess_data\\chest_best_model.h5\n",
            "23/23 [==============================] - 24s 1s/step - loss: 1.6681 - accuracy: 0.3153 - val_loss: 1.6650 - val_accuracy: 0.3182\n",
            "Epoch 11/100\n",
            "23/23 [==============================] - ETA: 0s - loss: 1.6337 - accuracy: 0.3264\n",
            "Epoch 11: val_accuracy did not improve from 0.31818\n",
            "23/23 [==============================] - 23s 973ms/step - loss: 1.6337 - accuracy: 0.3264 - val_loss: 1.6540 - val_accuracy: 0.3182\n",
            "Epoch 12/100\n",
            "23/23 [==============================] - ETA: 0s - loss: 1.6144 - accuracy: 0.3431\n",
            "Epoch 12: val_accuracy improved from 0.31818 to 0.36364, saving model to C:/Users/ADMIN/Downloads/chess_data\\chest_best_model.h5\n",
            "23/23 [==============================] - 23s 988ms/step - loss: 1.6144 - accuracy: 0.3431 - val_loss: 1.6224 - val_accuracy: 0.3636\n",
            "Epoch 13/100\n",
            "23/23 [==============================] - ETA: 0s - loss: 1.5760 - accuracy: 0.3653\n",
            "Epoch 13: val_accuracy did not improve from 0.36364\n",
            "23/23 [==============================] - 21s 884ms/step - loss: 1.5760 - accuracy: 0.3653 - val_loss: 1.6221 - val_accuracy: 0.3409\n",
            "Epoch 14/100\n",
            "23/23 [==============================] - ETA: 0s - loss: 1.6040 - accuracy: 0.3597\n",
            "Epoch 14: val_accuracy improved from 0.36364 to 0.37879, saving model to C:/Users/ADMIN/Downloads/chess_data\\chest_best_model.h5\n",
            "23/23 [==============================] - 23s 985ms/step - loss: 1.6040 - accuracy: 0.3597 - val_loss: 1.5733 - val_accuracy: 0.3788\n",
            "Epoch 15/100\n",
            "23/23 [==============================] - ETA: 0s - loss: 1.5209 - accuracy: 0.3653\n",
            "Epoch 15: val_accuracy did not improve from 0.37879\n",
            "23/23 [==============================] - 23s 1s/step - loss: 1.5209 - accuracy: 0.3653 - val_loss: 1.5879 - val_accuracy: 0.3561\n",
            "Epoch 16/100\n",
            "23/23 [==============================] - ETA: 0s - loss: 1.5501 - accuracy: 0.3764\n",
            "Epoch 16: val_accuracy did not improve from 0.37879\n",
            "23/23 [==============================] - 21s 918ms/step - loss: 1.5501 - accuracy: 0.3764 - val_loss: 1.5186 - val_accuracy: 0.3712\n",
            "Epoch 17/100\n",
            "23/23 [==============================] - ETA: 0s - loss: 1.4795 - accuracy: 0.4236\n",
            "Epoch 17: val_accuracy improved from 0.37879 to 0.41667, saving model to C:/Users/ADMIN/Downloads/chess_data\\chest_best_model.h5\n",
            "23/23 [==============================] - 21s 925ms/step - loss: 1.4795 - accuracy: 0.4236 - val_loss: 1.4767 - val_accuracy: 0.4167\n",
            "Epoch 18/100\n",
            "23/23 [==============================] - ETA: 0s - loss: 1.4568 - accuracy: 0.4333\n",
            "Epoch 18: val_accuracy improved from 0.41667 to 0.42424, saving model to C:/Users/ADMIN/Downloads/chess_data\\chest_best_model.h5\n",
            "23/23 [==============================] - 22s 945ms/step - loss: 1.4568 - accuracy: 0.4333 - val_loss: 1.4777 - val_accuracy: 0.4242\n",
            "Epoch 19/100\n",
            "23/23 [==============================] - ETA: 0s - loss: 1.4452 - accuracy: 0.4250\n",
            "Epoch 19: val_accuracy did not improve from 0.42424\n",
            "23/23 [==============================] - 21s 877ms/step - loss: 1.4452 - accuracy: 0.4250 - val_loss: 1.5007 - val_accuracy: 0.3712\n",
            "Epoch 20/100\n",
            "23/23 [==============================] - ETA: 0s - loss: 1.4032 - accuracy: 0.4583\n",
            "Epoch 20: val_accuracy improved from 0.42424 to 0.46212, saving model to C:/Users/ADMIN/Downloads/chess_data\\chest_best_model.h5\n",
            "23/23 [==============================] - 20s 859ms/step - loss: 1.4032 - accuracy: 0.4583 - val_loss: 1.3357 - val_accuracy: 0.4621\n",
            "Epoch 21/100\n",
            "23/23 [==============================] - ETA: 0s - loss: 1.3214 - accuracy: 0.4847\n",
            "Epoch 21: val_accuracy did not improve from 0.46212\n",
            "23/23 [==============================] - 22s 950ms/step - loss: 1.3214 - accuracy: 0.4847 - val_loss: 1.3671 - val_accuracy: 0.4621\n",
            "Epoch 22/100\n",
            "23/23 [==============================] - ETA: 0s - loss: 1.3383 - accuracy: 0.4903\n",
            "Epoch 22: val_accuracy improved from 0.46212 to 0.51515, saving model to C:/Users/ADMIN/Downloads/chess_data\\chest_best_model.h5\n",
            "23/23 [==============================] - 28s 1s/step - loss: 1.3383 - accuracy: 0.4903 - val_loss: 1.3769 - val_accuracy: 0.5152\n",
            "Epoch 23/100\n",
            "23/23 [==============================] - ETA: 0s - loss: 1.2981 - accuracy: 0.4972\n",
            "Epoch 23: val_accuracy improved from 0.51515 to 0.52273, saving model to C:/Users/ADMIN/Downloads/chess_data\\chest_best_model.h5\n",
            "23/23 [==============================] - 27s 1s/step - loss: 1.2981 - accuracy: 0.4972 - val_loss: 1.2946 - val_accuracy: 0.5227\n",
            "Epoch 24/100\n",
            "23/23 [==============================] - ETA: 0s - loss: 1.2226 - accuracy: 0.5347\n",
            "Epoch 24: val_accuracy improved from 0.52273 to 0.53030, saving model to C:/Users/ADMIN/Downloads/chess_data\\chest_best_model.h5\n",
            "23/23 [==============================] - 26s 1s/step - loss: 1.2226 - accuracy: 0.5347 - val_loss: 1.2825 - val_accuracy: 0.5303\n",
            "Epoch 25/100\n",
            "23/23 [==============================] - ETA: 0s - loss: 1.2614 - accuracy: 0.5014\n",
            "Epoch 25: val_accuracy did not improve from 0.53030\n",
            "23/23 [==============================] - 24s 1s/step - loss: 1.2614 - accuracy: 0.5014 - val_loss: 1.2742 - val_accuracy: 0.5303\n",
            "Epoch 26/100\n",
            "23/23 [==============================] - ETA: 0s - loss: 1.1318 - accuracy: 0.5569\n",
            "Epoch 26: val_accuracy did not improve from 0.53030\n",
            "23/23 [==============================] - 26s 1s/step - loss: 1.1318 - accuracy: 0.5569 - val_loss: 1.3270 - val_accuracy: 0.5227\n",
            "Epoch 27/100\n",
            "23/23 [==============================] - ETA: 0s - loss: 1.2347 - accuracy: 0.5361\n",
            "Epoch 27: val_accuracy improved from 0.53030 to 0.55303, saving model to C:/Users/ADMIN/Downloads/chess_data\\chest_best_model.h5\n",
            "23/23 [==============================] - 26s 1s/step - loss: 1.2347 - accuracy: 0.5361 - val_loss: 1.3169 - val_accuracy: 0.5530\n",
            "Epoch 28/100\n",
            "23/23 [==============================] - ETA: 0s - loss: 1.1083 - accuracy: 0.5750\n",
            "Epoch 28: val_accuracy did not improve from 0.55303\n",
            "23/23 [==============================] - 24s 1s/step - loss: 1.1083 - accuracy: 0.5750 - val_loss: 1.3810 - val_accuracy: 0.4697\n",
            "Epoch 29/100\n",
            "23/23 [==============================] - ETA: 0s - loss: 1.0662 - accuracy: 0.5972\n",
            "Epoch 29: val_accuracy improved from 0.55303 to 0.59091, saving model to C:/Users/ADMIN/Downloads/chess_data\\chest_best_model.h5\n",
            "23/23 [==============================] - 24s 1s/step - loss: 1.0662 - accuracy: 0.5972 - val_loss: 1.1475 - val_accuracy: 0.5909\n",
            "Epoch 30/100\n",
            "23/23 [==============================] - ETA: 0s - loss: 1.0820 - accuracy: 0.5889\n",
            "Epoch 30: val_accuracy did not improve from 0.59091\n",
            "23/23 [==============================] - 22s 940ms/step - loss: 1.0820 - accuracy: 0.5889 - val_loss: 1.1416 - val_accuracy: 0.5530\n",
            "Epoch 31/100\n",
            "23/23 [==============================] - ETA: 0s - loss: 1.0298 - accuracy: 0.6111\n",
            "Epoch 31: val_accuracy did not improve from 0.59091\n",
            "23/23 [==============================] - 22s 949ms/step - loss: 1.0298 - accuracy: 0.6111 - val_loss: 1.2017 - val_accuracy: 0.5833\n",
            "Epoch 32/100\n",
            "23/23 [==============================] - ETA: 0s - loss: 1.0148 - accuracy: 0.6083\n",
            "Epoch 32: val_accuracy did not improve from 0.59091\n",
            "23/23 [==============================] - 22s 937ms/step - loss: 1.0148 - accuracy: 0.6083 - val_loss: 1.1925 - val_accuracy: 0.5606\n",
            "Epoch 33/100\n",
            "23/23 [==============================] - ETA: 0s - loss: 0.9878 - accuracy: 0.6153\n",
            "Epoch 33: val_accuracy did not improve from 0.59091\n",
            "23/23 [==============================] - 21s 911ms/step - loss: 0.9878 - accuracy: 0.6153 - val_loss: 1.1776 - val_accuracy: 0.5379\n",
            "Epoch 34/100\n",
            "23/23 [==============================] - ETA: 0s - loss: 0.9344 - accuracy: 0.6264\n",
            "Epoch 34: val_accuracy did not improve from 0.59091\n",
            "23/23 [==============================] - 19s 810ms/step - loss: 0.9344 - accuracy: 0.6264 - val_loss: 1.1013 - val_accuracy: 0.5909\n",
            "Epoch 35/100\n",
            "23/23 [==============================] - ETA: 0s - loss: 0.9223 - accuracy: 0.6375\n",
            "Epoch 35: val_accuracy did not improve from 0.59091\n",
            "23/23 [==============================] - 20s 891ms/step - loss: 0.9223 - accuracy: 0.6375 - val_loss: 1.1673 - val_accuracy: 0.5833\n",
            "Epoch 36/100\n",
            "23/23 [==============================] - ETA: 0s - loss: 0.9201 - accuracy: 0.6583\n",
            "Epoch 36: val_accuracy did not improve from 0.59091\n",
            "23/23 [==============================] - 23s 997ms/step - loss: 0.9201 - accuracy: 0.6583 - val_loss: 1.1375 - val_accuracy: 0.5758\n",
            "Epoch 37/100\n",
            "23/23 [==============================] - ETA: 0s - loss: 0.8957 - accuracy: 0.6417\n",
            "Epoch 37: val_accuracy improved from 0.59091 to 0.61364, saving model to C:/Users/ADMIN/Downloads/chess_data\\chest_best_model.h5\n",
            "23/23 [==============================] - 19s 830ms/step - loss: 0.8957 - accuracy: 0.6417 - val_loss: 1.1747 - val_accuracy: 0.6136\n",
            "Epoch 38/100\n",
            "23/23 [==============================] - ETA: 0s - loss: 0.8810 - accuracy: 0.6750\n",
            "Epoch 38: val_accuracy did not improve from 0.61364\n",
            "23/23 [==============================] - 18s 791ms/step - loss: 0.8810 - accuracy: 0.6750 - val_loss: 1.0344 - val_accuracy: 0.6136\n",
            "Epoch 39/100\n",
            "23/23 [==============================] - ETA: 0s - loss: 0.8107 - accuracy: 0.6958\n",
            "Epoch 39: val_accuracy did not improve from 0.61364\n",
            "23/23 [==============================] - 22s 947ms/step - loss: 0.8107 - accuracy: 0.6958 - val_loss: 1.0746 - val_accuracy: 0.5833\n",
            "Epoch 40/100\n",
            "23/23 [==============================] - ETA: 0s - loss: 0.8161 - accuracy: 0.7028\n",
            "Epoch 40: val_accuracy did not improve from 0.61364\n",
            "23/23 [==============================] - 19s 803ms/step - loss: 0.8161 - accuracy: 0.7028 - val_loss: 1.2557 - val_accuracy: 0.5303\n",
            "Epoch 41/100\n",
            "23/23 [==============================] - ETA: 0s - loss: 0.8651 - accuracy: 0.6875\n",
            "Epoch 41: val_accuracy did not improve from 0.61364\n",
            "23/23 [==============================] - 19s 808ms/step - loss: 0.8651 - accuracy: 0.6875 - val_loss: 1.0205 - val_accuracy: 0.6136\n",
            "Epoch 42/100\n",
            "23/23 [==============================] - ETA: 0s - loss: 0.8045 - accuracy: 0.7139\n",
            "Epoch 42: val_accuracy did not improve from 0.61364\n",
            "23/23 [==============================] - 18s 795ms/step - loss: 0.8045 - accuracy: 0.7139 - val_loss: 1.2418 - val_accuracy: 0.5227\n",
            "Epoch 43/100\n",
            "23/23 [==============================] - ETA: 0s - loss: 0.7602 - accuracy: 0.7014\n",
            "Epoch 43: val_accuracy improved from 0.61364 to 0.62879, saving model to C:/Users/ADMIN/Downloads/chess_data\\chest_best_model.h5\n",
            "23/23 [==============================] - 18s 791ms/step - loss: 0.7602 - accuracy: 0.7014 - val_loss: 1.0816 - val_accuracy: 0.6288\n",
            "Epoch 44/100\n",
            "23/23 [==============================] - ETA: 0s - loss: 0.7314 - accuracy: 0.7278\n",
            "Epoch 44: val_accuracy did not improve from 0.62879\n",
            "23/23 [==============================] - 19s 825ms/step - loss: 0.7314 - accuracy: 0.7278 - val_loss: 1.1568 - val_accuracy: 0.5682\n",
            "Epoch 45/100\n",
            "23/23 [==============================] - ETA: 0s - loss: 0.7455 - accuracy: 0.7375\n",
            "Epoch 45: val_accuracy did not improve from 0.62879\n",
            "23/23 [==============================] - 20s 839ms/step - loss: 0.7455 - accuracy: 0.7375 - val_loss: 1.1279 - val_accuracy: 0.6061\n",
            "Epoch 46/100\n",
            "23/23 [==============================] - ETA: 0s - loss: 0.7381 - accuracy: 0.7083\n",
            "Epoch 46: val_accuracy did not improve from 0.62879\n",
            "23/23 [==============================] - 19s 824ms/step - loss: 0.7381 - accuracy: 0.7083 - val_loss: 1.1457 - val_accuracy: 0.5758\n",
            "Epoch 47/100\n",
            "23/23 [==============================] - ETA: 0s - loss: 0.7110 - accuracy: 0.7292\n",
            "Epoch 47: val_accuracy improved from 0.62879 to 0.67424, saving model to C:/Users/ADMIN/Downloads/chess_data\\chest_best_model.h5\n",
            "23/23 [==============================] - 19s 795ms/step - loss: 0.7110 - accuracy: 0.7292 - val_loss: 1.1349 - val_accuracy: 0.6742\n",
            "Epoch 48/100\n",
            "23/23 [==============================] - ETA: 0s - loss: 0.6419 - accuracy: 0.7708\n",
            "Epoch 48: val_accuracy did not improve from 0.67424\n",
            "23/23 [==============================] - 19s 849ms/step - loss: 0.6419 - accuracy: 0.7708 - val_loss: 1.2180 - val_accuracy: 0.5909\n",
            "Epoch 49/100\n",
            "23/23 [==============================] - ETA: 0s - loss: 0.6641 - accuracy: 0.7500\n",
            "Epoch 49: val_accuracy did not improve from 0.67424\n",
            "23/23 [==============================] - 19s 827ms/step - loss: 0.6641 - accuracy: 0.7500 - val_loss: 1.2244 - val_accuracy: 0.6288\n",
            "Epoch 50/100\n",
            "23/23 [==============================] - ETA: 0s - loss: 0.6646 - accuracy: 0.7403\n",
            "Epoch 50: val_accuracy did not improve from 0.67424\n",
            "23/23 [==============================] - 24s 1s/step - loss: 0.6646 - accuracy: 0.7403 - val_loss: 1.1780 - val_accuracy: 0.6061\n",
            "Epoch 51/100\n",
            "23/23 [==============================] - ETA: 0s - loss: 0.6407 - accuracy: 0.7639\n",
            "Epoch 51: val_accuracy did not improve from 0.67424\n",
            "23/23 [==============================] - 24s 1s/step - loss: 0.6407 - accuracy: 0.7639 - val_loss: 1.1037 - val_accuracy: 0.6439\n",
            "Epoch 52/100\n",
            "23/23 [==============================] - ETA: 0s - loss: 0.6009 - accuracy: 0.7819\n",
            "Epoch 52: val_accuracy did not improve from 0.67424\n",
            "23/23 [==============================] - 20s 845ms/step - loss: 0.6009 - accuracy: 0.7819 - val_loss: 1.1272 - val_accuracy: 0.6288\n",
            "Epoch 53/100\n",
            "23/23 [==============================] - ETA: 0s - loss: 0.5458 - accuracy: 0.7931\n",
            "Epoch 53: val_accuracy did not improve from 0.67424\n",
            "23/23 [==============================] - 21s 889ms/step - loss: 0.5458 - accuracy: 0.7931 - val_loss: 1.3674 - val_accuracy: 0.6061\n",
            "Epoch 54/100\n",
            "23/23 [==============================] - ETA: 0s - loss: 0.6958 - accuracy: 0.7375\n",
            "Epoch 54: val_accuracy did not improve from 0.67424\n",
            "23/23 [==============================] - 23s 975ms/step - loss: 0.6958 - accuracy: 0.7375 - val_loss: 1.0512 - val_accuracy: 0.6364\n",
            "Epoch 55/100\n",
            "23/23 [==============================] - ETA: 0s - loss: 0.5940 - accuracy: 0.7681\n",
            "Epoch 55: val_accuracy did not improve from 0.67424\n",
            "23/23 [==============================] - 20s 858ms/step - loss: 0.5940 - accuracy: 0.7681 - val_loss: 1.2346 - val_accuracy: 0.5833\n",
            "Epoch 56/100\n",
            "23/23 [==============================] - ETA: 0s - loss: 0.6109 - accuracy: 0.7653\n",
            "Epoch 56: val_accuracy did not improve from 0.67424\n",
            "23/23 [==============================] - 20s 850ms/step - loss: 0.6109 - accuracy: 0.7653 - val_loss: 1.2212 - val_accuracy: 0.6515\n",
            "Epoch 57/100\n",
            "23/23 [==============================] - ETA: 0s - loss: 0.5777 - accuracy: 0.7736\n",
            "Epoch 57: val_accuracy did not improve from 0.67424\n",
            "23/23 [==============================] - 19s 819ms/step - loss: 0.5777 - accuracy: 0.7736 - val_loss: 1.1756 - val_accuracy: 0.6212\n",
            "Epoch 58/100\n",
            "23/23 [==============================] - ETA: 0s - loss: 0.5700 - accuracy: 0.7806\n",
            "Epoch 58: val_accuracy did not improve from 0.67424\n",
            "23/23 [==============================] - 19s 795ms/step - loss: 0.5700 - accuracy: 0.7806 - val_loss: 1.1493 - val_accuracy: 0.6212\n",
            "Epoch 59/100\n",
            "23/23 [==============================] - ETA: 0s - loss: 0.5058 - accuracy: 0.8069\n",
            "Epoch 59: val_accuracy did not improve from 0.67424\n",
            "23/23 [==============================] - 19s 801ms/step - loss: 0.5058 - accuracy: 0.8069 - val_loss: 1.2649 - val_accuracy: 0.5985\n",
            "Epoch 60/100\n",
            "23/23 [==============================] - ETA: 0s - loss: 0.5042 - accuracy: 0.8111\n",
            "Epoch 60: val_accuracy did not improve from 0.67424\n",
            "23/23 [==============================] - 20s 853ms/step - loss: 0.5042 - accuracy: 0.8111 - val_loss: 1.2242 - val_accuracy: 0.6364\n",
            "Epoch 61/100\n",
            "23/23 [==============================] - ETA: 0s - loss: 0.5534 - accuracy: 0.7944\n",
            "Epoch 61: val_accuracy did not improve from 0.67424\n",
            "23/23 [==============================] - 22s 971ms/step - loss: 0.5534 - accuracy: 0.7944 - val_loss: 1.2105 - val_accuracy: 0.6136\n",
            "Epoch 62/100\n",
            "23/23 [==============================] - ETA: 0s - loss: 0.5149 - accuracy: 0.8097\n",
            "Epoch 62: val_accuracy did not improve from 0.67424\n",
            "23/23 [==============================] - 23s 973ms/step - loss: 0.5149 - accuracy: 0.8097 - val_loss: 1.1974 - val_accuracy: 0.6364\n",
            "Epoch 63/100\n",
            "23/23 [==============================] - ETA: 0s - loss: 0.4570 - accuracy: 0.8319\n",
            "Epoch 63: val_accuracy did not improve from 0.67424\n",
            "23/23 [==============================] - 22s 965ms/step - loss: 0.4570 - accuracy: 0.8319 - val_loss: 1.3213 - val_accuracy: 0.6288\n",
            "Epoch 64/100\n",
            "23/23 [==============================] - ETA: 0s - loss: 0.4601 - accuracy: 0.8306\n",
            "Epoch 64: val_accuracy did not improve from 0.67424\n",
            "23/23 [==============================] - 21s 889ms/step - loss: 0.4601 - accuracy: 0.8306 - val_loss: 1.3538 - val_accuracy: 0.6439\n",
            "Epoch 65/100\n",
            "23/23 [==============================] - ETA: 0s - loss: 0.4589 - accuracy: 0.8111\n",
            "Epoch 65: val_accuracy did not improve from 0.67424\n",
            "23/23 [==============================] - 19s 818ms/step - loss: 0.4589 - accuracy: 0.8111 - val_loss: 1.4118 - val_accuracy: 0.5833\n",
            "Epoch 66/100\n",
            "23/23 [==============================] - ETA: 0s - loss: 0.4833 - accuracy: 0.8208\n",
            "Epoch 66: val_accuracy did not improve from 0.67424\n",
            "23/23 [==============================] - 19s 808ms/step - loss: 0.4833 - accuracy: 0.8208 - val_loss: 1.2461 - val_accuracy: 0.6667\n",
            "Epoch 67/100\n",
            "23/23 [==============================] - ETA: 0s - loss: 0.4831 - accuracy: 0.8236\n",
            "Epoch 67: val_accuracy did not improve from 0.67424\n",
            "23/23 [==============================] - 19s 803ms/step - loss: 0.4831 - accuracy: 0.8236 - val_loss: 1.1756 - val_accuracy: 0.6288\n",
            "Epoch 68/100\n",
            "23/23 [==============================] - ETA: 0s - loss: 0.4879 - accuracy: 0.8389\n",
            "Epoch 68: val_accuracy did not improve from 0.67424\n",
            "23/23 [==============================] - 20s 843ms/step - loss: 0.4879 - accuracy: 0.8389 - val_loss: 1.2667 - val_accuracy: 0.6364\n",
            "Epoch 69/100\n",
            "23/23 [==============================] - ETA: 0s - loss: 0.4146 - accuracy: 0.8403\n",
            "Epoch 69: val_accuracy did not improve from 0.67424\n",
            "23/23 [==============================] - 19s 862ms/step - loss: 0.4146 - accuracy: 0.8403 - val_loss: 1.3345 - val_accuracy: 0.6515\n",
            "Epoch 70/100\n",
            "23/23 [==============================] - ETA: 0s - loss: 0.4408 - accuracy: 0.8292\n",
            "Epoch 70: val_accuracy did not improve from 0.67424\n",
            "23/23 [==============================] - 19s 807ms/step - loss: 0.4408 - accuracy: 0.8292 - val_loss: 1.4537 - val_accuracy: 0.6591\n",
            "Epoch 71/100\n",
            "23/23 [==============================] - ETA: 0s - loss: 0.4872 - accuracy: 0.8389\n",
            "Epoch 71: val_accuracy did not improve from 0.67424\n",
            "23/23 [==============================] - 23s 978ms/step - loss: 0.4872 - accuracy: 0.8389 - val_loss: 1.4481 - val_accuracy: 0.6061\n",
            "Epoch 72/100\n",
            "23/23 [==============================] - ETA: 0s - loss: 0.3775 - accuracy: 0.8597\n",
            "Epoch 72: val_accuracy did not improve from 0.67424\n",
            "23/23 [==============================] - 21s 897ms/step - loss: 0.3775 - accuracy: 0.8597 - val_loss: 1.6785 - val_accuracy: 0.6061\n",
            "Epoch 73/100\n",
            "23/23 [==============================] - ETA: 0s - loss: 0.3876 - accuracy: 0.8694\n",
            "Epoch 73: val_accuracy did not improve from 0.67424\n",
            "23/23 [==============================] - 18s 782ms/step - loss: 0.3876 - accuracy: 0.8694 - val_loss: 1.6080 - val_accuracy: 0.6212\n",
            "Epoch 74/100\n",
            "23/23 [==============================] - ETA: 0s - loss: 0.4189 - accuracy: 0.8264\n",
            "Epoch 74: val_accuracy did not improve from 0.67424\n",
            "23/23 [==============================] - 18s 791ms/step - loss: 0.4189 - accuracy: 0.8264 - val_loss: 1.4506 - val_accuracy: 0.6212\n",
            "Epoch 75/100\n",
            "23/23 [==============================] - ETA: 0s - loss: 0.4766 - accuracy: 0.8222\n",
            "Epoch 75: val_accuracy did not improve from 0.67424\n",
            "23/23 [==============================] - 18s 796ms/step - loss: 0.4766 - accuracy: 0.8222 - val_loss: 1.2959 - val_accuracy: 0.6061\n",
            "Epoch 76/100\n",
            "23/23 [==============================] - ETA: 0s - loss: 0.4490 - accuracy: 0.8236\n",
            "Epoch 76: val_accuracy did not improve from 0.67424\n",
            "23/23 [==============================] - 19s 799ms/step - loss: 0.4490 - accuracy: 0.8236 - val_loss: 1.3163 - val_accuracy: 0.6212\n",
            "Epoch 77/100\n",
            "23/23 [==============================] - ETA: 0s - loss: 0.4101 - accuracy: 0.8417\n",
            "Epoch 77: val_accuracy did not improve from 0.67424\n",
            "23/23 [==============================] - 18s 794ms/step - loss: 0.4101 - accuracy: 0.8417 - val_loss: 1.3970 - val_accuracy: 0.6061\n",
            "Epoch 78/100\n",
            "23/23 [==============================] - ETA: 0s - loss: 0.3797 - accuracy: 0.8569\n",
            "Epoch 78: val_accuracy did not improve from 0.67424\n",
            "23/23 [==============================] - 18s 786ms/step - loss: 0.3797 - accuracy: 0.8569 - val_loss: 1.5806 - val_accuracy: 0.6212\n",
            "Epoch 79/100\n",
            "23/23 [==============================] - ETA: 0s - loss: 0.3906 - accuracy: 0.8514\n",
            "Epoch 79: val_accuracy did not improve from 0.67424\n",
            "23/23 [==============================] - 18s 775ms/step - loss: 0.3906 - accuracy: 0.8514 - val_loss: 1.4797 - val_accuracy: 0.6136\n",
            "Epoch 80/100\n",
            "23/23 [==============================] - ETA: 0s - loss: 0.3676 - accuracy: 0.8611\n",
            "Epoch 80: val_accuracy did not improve from 0.67424\n",
            "23/23 [==============================] - 18s 793ms/step - loss: 0.3676 - accuracy: 0.8611 - val_loss: 1.4667 - val_accuracy: 0.6439\n",
            "Epoch 81/100\n",
            "23/23 [==============================] - ETA: 0s - loss: 0.3783 - accuracy: 0.8667\n",
            "Epoch 81: val_accuracy did not improve from 0.67424\n",
            "23/23 [==============================] - 18s 777ms/step - loss: 0.3783 - accuracy: 0.8667 - val_loss: 1.4341 - val_accuracy: 0.6515\n",
            "Epoch 82/100\n",
            "23/23 [==============================] - ETA: 0s - loss: 0.3678 - accuracy: 0.8653\n",
            "Epoch 82: val_accuracy improved from 0.67424 to 0.68182, saving model to C:/Users/ADMIN/Downloads/chess_data\\chest_best_model.h5\n",
            "23/23 [==============================] - 19s 812ms/step - loss: 0.3678 - accuracy: 0.8653 - val_loss: 1.3418 - val_accuracy: 0.6818\n",
            "Epoch 83/100\n",
            "23/23 [==============================] - ETA: 0s - loss: 0.3714 - accuracy: 0.8583\n",
            "Epoch 83: val_accuracy did not improve from 0.68182\n",
            "23/23 [==============================] - 19s 802ms/step - loss: 0.3714 - accuracy: 0.8583 - val_loss: 1.4151 - val_accuracy: 0.6515\n",
            "Epoch 84/100\n",
            "23/23 [==============================] - ETA: 0s - loss: 0.3212 - accuracy: 0.8778\n",
            "Epoch 84: val_accuracy did not improve from 0.68182\n",
            "23/23 [==============================] - 19s 818ms/step - loss: 0.3212 - accuracy: 0.8778 - val_loss: 1.5391 - val_accuracy: 0.6364\n",
            "Epoch 85/100\n",
            "23/23 [==============================] - ETA: 0s - loss: 0.3343 - accuracy: 0.8889\n",
            "Epoch 85: val_accuracy did not improve from 0.68182\n",
            "23/23 [==============================] - 19s 830ms/step - loss: 0.3343 - accuracy: 0.8889 - val_loss: 1.5606 - val_accuracy: 0.6591\n",
            "Epoch 86/100\n",
            "23/23 [==============================] - ETA: 0s - loss: 0.3045 - accuracy: 0.8861\n",
            "Epoch 86: val_accuracy did not improve from 0.68182\n",
            "23/23 [==============================] - 19s 839ms/step - loss: 0.3045 - accuracy: 0.8861 - val_loss: 1.4628 - val_accuracy: 0.6364\n",
            "Epoch 87/100\n",
            "23/23 [==============================] - ETA: 0s - loss: 0.3754 - accuracy: 0.8667\n",
            "Epoch 87: val_accuracy did not improve from 0.68182\n",
            "23/23 [==============================] - 24s 1s/step - loss: 0.3754 - accuracy: 0.8667 - val_loss: 1.5400 - val_accuracy: 0.6364\n",
            "Epoch 88/100\n",
            "23/23 [==============================] - ETA: 0s - loss: 0.3302 - accuracy: 0.8750\n",
            "Epoch 88: val_accuracy did not improve from 0.68182\n",
            "23/23 [==============================] - 24s 1s/step - loss: 0.3302 - accuracy: 0.8750 - val_loss: 1.4576 - val_accuracy: 0.6591\n",
            "Epoch 89/100\n",
            "23/23 [==============================] - ETA: 0s - loss: 0.3283 - accuracy: 0.8875\n",
            "Epoch 89: val_accuracy did not improve from 0.68182\n",
            "23/23 [==============================] - 19s 808ms/step - loss: 0.3283 - accuracy: 0.8875 - val_loss: 1.6573 - val_accuracy: 0.6667\n",
            "Epoch 90/100\n",
            "23/23 [==============================] - ETA: 0s - loss: 0.2811 - accuracy: 0.8889\n",
            "Epoch 90: val_accuracy did not improve from 0.68182\n",
            "23/23 [==============================] - 21s 888ms/step - loss: 0.2811 - accuracy: 0.8889 - val_loss: 1.5413 - val_accuracy: 0.6591\n",
            "Epoch 91/100\n",
            "23/23 [==============================] - ETA: 0s - loss: 0.3022 - accuracy: 0.8833\n",
            "Epoch 91: val_accuracy did not improve from 0.68182\n",
            "23/23 [==============================] - 21s 898ms/step - loss: 0.3022 - accuracy: 0.8833 - val_loss: 1.5324 - val_accuracy: 0.6591\n",
            "Epoch 92/100\n",
            "23/23 [==============================] - ETA: 0s - loss: 0.3237 - accuracy: 0.8750\n",
            "Epoch 92: val_accuracy did not improve from 0.68182\n",
            "23/23 [==============================] - 24s 1s/step - loss: 0.3237 - accuracy: 0.8750 - val_loss: 1.5060 - val_accuracy: 0.6742\n",
            "Epoch 93/100\n",
            "23/23 [==============================] - ETA: 0s - loss: 0.3348 - accuracy: 0.8861\n",
            "Epoch 93: val_accuracy did not improve from 0.68182\n",
            "23/23 [==============================] - 23s 991ms/step - loss: 0.3348 - accuracy: 0.8861 - val_loss: 1.5606 - val_accuracy: 0.6742\n",
            "Epoch 94/100\n",
            "23/23 [==============================] - ETA: 0s - loss: 0.3324 - accuracy: 0.8750\n",
            "Epoch 94: val_accuracy did not improve from 0.68182\n",
            "23/23 [==============================] - 30s 1s/step - loss: 0.3324 - accuracy: 0.8750 - val_loss: 1.4869 - val_accuracy: 0.6591\n",
            "Epoch 95/100\n",
            "23/23 [==============================] - ETA: 0s - loss: 0.3744 - accuracy: 0.8667\n",
            "Epoch 95: val_accuracy did not improve from 0.68182\n",
            "23/23 [==============================] - 20s 846ms/step - loss: 0.3744 - accuracy: 0.8667 - val_loss: 1.5068 - val_accuracy: 0.6288\n",
            "Epoch 96/100\n",
            "23/23 [==============================] - ETA: 0s - loss: 0.3132 - accuracy: 0.8875\n",
            "Epoch 96: val_accuracy did not improve from 0.68182\n",
            "23/23 [==============================] - 18s 811ms/step - loss: 0.3132 - accuracy: 0.8875 - val_loss: 1.7064 - val_accuracy: 0.6288\n",
            "Epoch 97/100\n",
            "23/23 [==============================] - ETA: 0s - loss: 0.2777 - accuracy: 0.8931\n",
            "Epoch 97: val_accuracy did not improve from 0.68182\n",
            "23/23 [==============================] - 19s 830ms/step - loss: 0.2777 - accuracy: 0.8931 - val_loss: 1.6386 - val_accuracy: 0.6364\n",
            "Epoch 98/100\n",
            "23/23 [==============================] - ETA: 0s - loss: 0.2723 - accuracy: 0.8944\n",
            "Epoch 98: val_accuracy did not improve from 0.68182\n",
            "23/23 [==============================] - 18s 789ms/step - loss: 0.2723 - accuracy: 0.8944 - val_loss: 1.7602 - val_accuracy: 0.6061\n",
            "Epoch 99/100\n",
            "23/23 [==============================] - ETA: 0s - loss: 0.2658 - accuracy: 0.8972\n",
            "Epoch 99: val_accuracy did not improve from 0.68182\n",
            "23/23 [==============================] - 18s 789ms/step - loss: 0.2658 - accuracy: 0.8972 - val_loss: 1.7540 - val_accuracy: 0.6742\n",
            "Epoch 100/100\n",
            "23/23 [==============================] - ETA: 0s - loss: 0.3170 - accuracy: 0.8750\n",
            "Epoch 100: val_accuracy improved from 0.68182 to 0.69697, saving model to C:/Users/ADMIN/Downloads/chess_data\\chest_best_model.h5\n",
            "23/23 [==============================] - 19s 812ms/step - loss: 0.3170 - accuracy: 0.8750 - val_loss: 2.1952 - val_accuracy: 0.6970\n"
          ]
        }
      ],
      "source": [
        "# Compile the model with Adam Optimizer\n",
        "model.compile(optimizer='Adam', loss='categorical_crossentropy', metrics=['accuracy'])\n",
        "history = model.fit(train_generator, epochs=epochs, verbose=1, validation_data=valid_generator, callbacks=bestModel)\n"
      ]
    },
    {
      "cell_type": "code",
      "execution_count": null,
      "id": "ca7106da",
      "metadata": {
        "id": "ca7106da",
        "outputId": "7f1ec6df-7f2f-459e-9c53-88df51e74dae"
      },
      "outputs": [
        {
          "data": {
            "image/png": "[encoded data removed]",
            "text/plain": [
              "<Figure size 1008x504 with 1 Axes>"
            ]
          },
          "metadata": {
            "needs_background": "light"
          },
          "output_type": "display_data"
        },
        {
          "data": {
            "image/png": "[encoded data removed]",
            "text/plain": [
              "<Figure size 1008x504 with 1 Axes>"
            ]
          },
          "metadata": {
            "needs_background": "light"
          },
          "output_type": "display_data"
        }
      ],
      "source": [
        "# Result\n",
        "acc = history.history['accuracy']\n",
        "val_acc = history.history['val_accuracy']\n",
        "loss = history.history['loss']\n",
        "val_loss = history.history['val_loss']\n",
        "\n",
        "epochs = range(len(acc))\n",
        "\n",
        "# visualize accuracy chart\n",
        "fig = plt.figure(figsize=(14,7))\n",
        "plt.plot(epochs, acc, 'r', label='Train Accuracy')\n",
        "plt.plot(epochs, val_acc, 'b', label='Validation Accuracy')\n",
        "plt.xlabel('Epochs')\n",
        "plt.ylabel('Accuracy')\n",
        "plt.title('Accuracy chart')\n",
        "plt.legend(loc='lower right')\n",
        "plt.show()\n",
        "\n",
        "# visualize loss chart\n",
        "fig1 = plt.figure(figsize=(14,7))\n",
        "plt.plot(epochs, loss, 'r', label='Train loss')\n",
        "plt.plot(epochs, val_loss, 'b', label='Validation loss')\n",
        "plt.xlabel('Epochs')\n",
        "plt.ylabel('Loss')\n",
        "plt.title('Loss chart')\n",
        "plt.legend(loc='upper left')\n",
        "plt.show()"
      ]
    },
    {
      "cell_type": "code",
      "execution_count": null,
      "id": "f7372430",
      "metadata": {
        "id": "f7372430"
      },
      "outputs": [],
      "source": [
        "# Predict\n",
        "from keras.preprocessing.image import load_img, img_to_array\n",
        "from keras.models import load_model\n",
        "import pandas as pd\n",
        "import numpy as np\n",
        "image_width = 224\n",
        "image_height = 224\n",
        "classes = ['Queen', 'Rook', 'Pawn', 'Bishop', 'Knight']\n"
      ]
    },
    {
      "cell_type": "code",
      "execution_count": null,
      "id": "07c34e90",
      "metadata": {
        "id": "07c34e90"
      },
      "outputs": [],
      "source": [
        "# load model\n",
        "model = load_model(\"C:/Users/ADMIN/Downloads/chess_data/chest_best_model.h5\")"
      ]
    },
    {
      "cell_type": "code",
      "execution_count": null,
      "id": "849e1940",
      "metadata": {
        "id": "849e1940"
      },
      "outputs": [],
      "source": [
        "# image preprocessing\n",
        "def image_preprocessing(path):\n",
        "    image = load_img(path, target_size=(image_height, image_width))\n",
        "    image_result = img_to_array(image)\n",
        "    image_result = np.expand_dims(image_result, axis = 0)\n",
        "    image_result =image_result/255.0\n",
        "    return image_result\n",
        "test_path = \"C:/Users/ADMIN/Downloads/chess_data/Test/pawn3.jpg\""
      ]
    },
    {
      "cell_type": "code",
      "execution_count": null,
      "id": "2082c1f2",
      "metadata": {
        "id": "2082c1f2"
      },
      "outputs": [],
      "source": [
        "imageforModel = image_preprocessing(test_path)"
      ]
    },
    {
      "cell_type": "code",
      "execution_count": null,
      "id": "4daa5c8a",
      "metadata": {
        "id": "4daa5c8a",
        "outputId": "bfaeed06-d187-4dcc-a4b1-d73c8790c6f4"
      },
      "outputs": [
        {
          "name": "stdout",
          "output_type": "stream",
          "text": [
            "(1, 224, 224, 3)\n"
          ]
        }
      ],
      "source": [
        "print(imageforModel.shape)"
      ]
    },
    {
      "cell_type": "code",
      "execution_count": null,
      "id": "bab58fa7",
      "metadata": {
        "id": "bab58fa7",
        "outputId": "7826643b-cd6f-4ba7-f750-33ac177944d3"
      },
      "outputs": [
        {
          "name": "stdout",
          "output_type": "stream",
          "text": [
            "1/1 [==============================] - 0s 40ms/step\n"
          ]
        }
      ],
      "source": [
        "resultArray = model.predict(imageforModel, batch_size=32, verbose=1)"
      ]
    },
    {
      "cell_type": "code",
      "execution_count": null,
      "id": "05f91b8c",
      "metadata": {
        "id": "05f91b8c",
        "outputId": "d55db5a7-9ad7-46ba-83df-d6b9bb31d9dc"
      },
      "outputs": [
        {
          "name": "stdout",
          "output_type": "stream",
          "text": [
            "[3]\n"
          ]
        }
      ],
      "source": [
        "result = np.argmax(resultArray, axis=1)\n",
        "print(result)"
      ]
    },
    {
      "cell_type": "code",
      "execution_count": null,
      "id": "b223d091",
      "metadata": {
        "id": "b223d091"
      },
      "outputs": [],
      "source": [
        "text=classes[result[0]]"
      ]
    },
    {
      "cell_type": "code",
      "execution_count": null,
      "id": "68395dff",
      "metadata": {
        "id": "68395dff"
      },
      "outputs": [],
      "source": [
        "import cv2\n",
        "img = cv2.imread(test_path)\n",
        "font = cv2.FONT_HERSHEY_PLAIN\n",
        "resized_img = cv2.resize(img, (300, int(img.shape[0] * 300 / img.shape[1])))\n",
        "cv2.putText(resized_img, text,(0,100),font, 2, (255,0,0), 4)\n",
        "\n",
        "cv2.imshow('chess',resized_img)\n",
        "cv2.waitKey(0)\n",
        "cv2.destroyAllWindows()"
      ]
    },
    {
      "cell_type": "code",
      "execution_count": null,
      "id": "8867d31c",
      "metadata": {
        "id": "8867d31c"
      },
      "outputs": [],
      "source": [
        "#MLP\n",
        "model_MLP = Sequential()"
      ]
    },
    {
      "cell_type": "code",
      "execution_count": null,
      "id": "0ca5cc30",
      "metadata": {
        "id": "0ca5cc30"
      },
      "outputs": [],
      "source": [
        "model_MLP.add(Flatten(input_shape=(img_height, img_width,3)))\n",
        "model_MLP.add(Dense(128, activation=\"relu\"))\n",
        "model_MLP.add(Dense(64, activation=\"relu\"))\n",
        "model_MLP.add(Dense(10, activation=\"softmax\"))"
      ]
    },
    {
      "cell_type": "code",
      "execution_count": null,
      "id": "3c065110",
      "metadata": {
        "id": "3c065110",
        "outputId": "791a63d8-b62a-4da2-c5b9-d29abcf8570a"
      },
      "outputs": [
        {
          "name": "stdout",
          "output_type": "stream",
          "text": [
            "WARNING:tensorflow:From C:\\Users\\ADMIN\\anaconda3\\lib\\site-packages\\keras\\src\\optimizers\\__init__.py:309: The name tf.train.Optimizer is deprecated. Please use tf.compat.v1.train.Optimizer instead.\n",
            "\n"
          ]
        }
      ],
      "source": [
        "model_MLP.compile(loss=\"categorical_crossentropy\", optimizer=\"Adam\", metrics=[\"accuracy\"])"
      ]
    },
    {
      "cell_type": "code",
      "execution_count": null,
      "id": "9c7578f4",
      "metadata": {
        "id": "9c7578f4",
        "outputId": "bfb91e68-1ca7-4ce6-a2c6-6ec00669f78f"
      },
      "outputs": [
        {
          "name": "stdout",
          "output_type": "stream",
          "text": [
            "Training network...\n",
            "Epoch 1/10\n"
          ]
        },
        {
          "ename": "InvalidArgumentError",
          "evalue": "Graph execution error:\n\nDetected at node categorical_crossentropy/softmax_cross_entropy_with_logits defined at (most recent call last):\n  File \"C:\\Users\\ADMIN\\anaconda3\\lib\\runpy.py\", line 197, in _run_module_as_main\n\n  File \"C:\\Users\\ADMIN\\anaconda3\\lib\\runpy.py\", line 87, in _run_code\n\n  File \"C:\\Users\\ADMIN\\anaconda3\\lib\\site-packages\\ipykernel_launcher.py\", line 16, in <module>\n\n  File \"C:\\Users\\ADMIN\\anaconda3\\lib\\site-packages\\traitlets\\config\\application.py\", line 846, in launch_instance\n\n  File \"C:\\Users\\ADMIN\\anaconda3\\lib\\site-packages\\ipykernel\\kernelapp.py\", line 677, in start\n\n  File \"C:\\Users\\ADMIN\\anaconda3\\lib\\site-packages\\tornado\\platform\\asyncio.py\", line 199, in start\n\n  File \"C:\\Users\\ADMIN\\anaconda3\\lib\\asyncio\\base_events.py\", line 601, in run_forever\n\n  File \"C:\\Users\\ADMIN\\anaconda3\\lib\\asyncio\\base_events.py\", line 1905, in _run_once\n\n  File \"C:\\Users\\ADMIN\\anaconda3\\lib\\asyncio\\events.py\", line 80, in _run\n\n  File \"C:\\Users\\ADMIN\\anaconda3\\lib\\site-packages\\ipykernel\\kernelbase.py\", line 471, in dispatch_queue\n\n  File \"C:\\Users\\ADMIN\\anaconda3\\lib\\site-packages\\ipykernel\\kernelbase.py\", line 460, in process_one\n\n  File \"C:\\Users\\ADMIN\\anaconda3\\lib\\site-packages\\ipykernel\\kernelbase.py\", line 367, in dispatch_shell\n\n  File \"C:\\Users\\ADMIN\\anaconda3\\lib\\site-packages\\ipykernel\\kernelbase.py\", line 662, in execute_request\n\n  File \"C:\\Users\\ADMIN\\anaconda3\\lib\\site-packages\\ipykernel\\ipkernel.py\", line 360, in do_execute\n\n  File \"C:\\Users\\ADMIN\\anaconda3\\lib\\site-packages\\ipykernel\\zmqshell.py\", line 532, in run_cell\n\n  File \"C:\\Users\\ADMIN\\anaconda3\\lib\\site-packages\\IPython\\core\\interactiveshell.py\", line 2863, in run_cell\n\n  File \"C:\\Users\\ADMIN\\anaconda3\\lib\\site-packages\\IPython\\core\\interactiveshell.py\", line 2909, in _run_cell\n\n  File \"C:\\Users\\ADMIN\\anaconda3\\lib\\site-packages\\IPython\\core\\async_helpers.py\", line 129, in _pseudo_sync_runner\n\n  File \"C:\\Users\\ADMIN\\anaconda3\\lib\\site-packages\\IPython\\core\\interactiveshell.py\", line 3106, in run_cell_async\n\n  File \"C:\\Users\\ADMIN\\anaconda3\\lib\\site-packages\\IPython\\core\\interactiveshell.py\", line 3309, in run_ast_nodes\n\n  File \"C:\\Users\\ADMIN\\anaconda3\\lib\\site-packages\\IPython\\core\\interactiveshell.py\", line 3369, in run_code\n\n  File \"C:\\Users\\ADMIN\\AppData\\Local\\Temp\\ipykernel_3824\\3833050820.py\", line 2, in <cell line: 2>\n\n  File \"C:\\Users\\ADMIN\\anaconda3\\lib\\site-packages\\keras\\src\\utils\\traceback_utils.py\", line 65, in error_handler\n\n  File \"C:\\Users\\ADMIN\\anaconda3\\lib\\site-packages\\keras\\src\\engine\\training.py\", line 1807, in fit\n\n  File \"C:\\Users\\ADMIN\\anaconda3\\lib\\site-packages\\keras\\src\\engine\\training.py\", line 1401, in train_function\n\n  File \"C:\\Users\\ADMIN\\anaconda3\\lib\\site-packages\\keras\\src\\engine\\training.py\", line 1384, in step_function\n\n  File \"C:\\Users\\ADMIN\\anaconda3\\lib\\site-packages\\keras\\src\\engine\\training.py\", line 1373, in run_step\n\n  File \"C:\\Users\\ADMIN\\anaconda3\\lib\\site-packages\\keras\\src\\engine\\training.py\", line 1151, in train_step\n\n  File \"C:\\Users\\ADMIN\\anaconda3\\lib\\site-packages\\keras\\src\\engine\\training.py\", line 1209, in compute_loss\n\n  File \"C:\\Users\\ADMIN\\anaconda3\\lib\\site-packages\\keras\\src\\engine\\compile_utils.py\", line 277, in __call__\n\n  File \"C:\\Users\\ADMIN\\anaconda3\\lib\\site-packages\\keras\\src\\losses.py\", line 143, in __call__\n\n  File \"C:\\Users\\ADMIN\\anaconda3\\lib\\site-packages\\keras\\src\\losses.py\", line 270, in call\n\n  File \"C:\\Users\\ADMIN\\anaconda3\\lib\\site-packages\\keras\\src\\losses.py\", line 2221, in categorical_crossentropy\n\n  File \"C:\\Users\\ADMIN\\anaconda3\\lib\\site-packages\\keras\\src\\backend.py\", line 5579, in categorical_crossentropy\n\nlogits and labels must be broadcastable: logits_size=[32,10] labels_size=[32,6]\n\t [[{{node categorical_crossentropy/softmax_cross_entropy_with_logits}}]] [Op:__inference_train_function_1187]",
          "output_type": "error",
          "traceback": [
            "\u001b[1;31m---------------------------------------------------------------------------\u001b[0m",
            "\u001b[1;31mInvalidArgumentError\u001b[0m                      Traceback (most recent call last)",
            "Input \u001b[1;32mIn [39]\u001b[0m, in \u001b[0;36m<cell line: 2>\u001b[1;34m()\u001b[0m\n\u001b[0;32m      1\u001b[0m \u001b[38;5;28mprint\u001b[39m(\u001b[38;5;124m\"\u001b[39m\u001b[38;5;124mTraining network...\u001b[39m\u001b[38;5;124m\"\u001b[39m)\n\u001b[1;32m----> 2\u001b[0m H \u001b[38;5;241m=\u001b[39m \u001b[43mmodel_MLP\u001b[49m\u001b[38;5;241;43m.\u001b[39;49m\u001b[43mfit\u001b[49m\u001b[43m(\u001b[49m\u001b[43mtrain_generator\u001b[49m\u001b[43m,\u001b[49m\u001b[43m \u001b[49m\u001b[43mvalidation_data\u001b[49m\u001b[38;5;241;43m=\u001b[39;49m\u001b[43mvalid_generator\u001b[49m\u001b[43m,\u001b[49m\u001b[43m \u001b[49m\u001b[43mepochs\u001b[49m\u001b[38;5;241;43m=\u001b[39;49m\u001b[38;5;241;43m10\u001b[39;49m\u001b[43m,\u001b[49m\n\u001b[0;32m      3\u001b[0m \u001b[43mbatch_size\u001b[49m\u001b[38;5;241;43m=\u001b[39;49m\u001b[38;5;241;43m32\u001b[39;49m\u001b[43m)\u001b[49m\n",
            "File \u001b[1;32m~\\anaconda3\\lib\\site-packages\\keras\\src\\utils\\traceback_utils.py:70\u001b[0m, in \u001b[0;36mfilter_traceback.<locals>.error_handler\u001b[1;34m(*args, **kwargs)\u001b[0m\n\u001b[0;32m     67\u001b[0m     filtered_tb \u001b[38;5;241m=\u001b[39m _process_traceback_frames(e\u001b[38;5;241m.\u001b[39m__traceback__)\n\u001b[0;32m     68\u001b[0m     \u001b[38;5;66;03m# To get the full stack trace, call:\u001b[39;00m\n\u001b[0;32m     69\u001b[0m     \u001b[38;5;66;03m# `tf.debugging.disable_traceback_filtering()`\u001b[39;00m\n\u001b[1;32m---> 70\u001b[0m     \u001b[38;5;28;01mraise\u001b[39;00m e\u001b[38;5;241m.\u001b[39mwith_traceback(filtered_tb) \u001b[38;5;28;01mfrom\u001b[39;00m \u001b[38;5;28;01mNone\u001b[39;00m\n\u001b[0;32m     71\u001b[0m \u001b[38;5;28;01mfinally\u001b[39;00m:\n\u001b[0;32m     72\u001b[0m     \u001b[38;5;28;01mdel\u001b[39;00m filtered_tb\n",
            "File \u001b[1;32m~\\anaconda3\\lib\\site-packages\\tensorflow\\python\\eager\\execute.py:53\u001b[0m, in \u001b[0;36mquick_execute\u001b[1;34m(op_name, num_outputs, inputs, attrs, ctx, name)\u001b[0m\n\u001b[0;32m     51\u001b[0m \u001b[38;5;28;01mtry\u001b[39;00m:\n\u001b[0;32m     52\u001b[0m   ctx\u001b[38;5;241m.\u001b[39mensure_initialized()\n\u001b[1;32m---> 53\u001b[0m   tensors \u001b[38;5;241m=\u001b[39m pywrap_tfe\u001b[38;5;241m.\u001b[39mTFE_Py_Execute(ctx\u001b[38;5;241m.\u001b[39m_handle, device_name, op_name,\n\u001b[0;32m     54\u001b[0m                                       inputs, attrs, num_outputs)\n\u001b[0;32m     55\u001b[0m \u001b[38;5;28;01mexcept\u001b[39;00m core\u001b[38;5;241m.\u001b[39m_NotOkStatusException \u001b[38;5;28;01mas\u001b[39;00m e:\n\u001b[0;32m     56\u001b[0m   \u001b[38;5;28;01mif\u001b[39;00m name \u001b[38;5;129;01mis\u001b[39;00m \u001b[38;5;129;01mnot\u001b[39;00m \u001b[38;5;28;01mNone\u001b[39;00m:\n",
            "\u001b[1;31mInvalidArgumentError\u001b[0m: Graph execution error:\n\nDetected at node categorical_crossentropy/softmax_cross_entropy_with_logits defined at (most recent call last):\n  File \"C:\\Users\\ADMIN\\anaconda3\\lib\\runpy.py\", line 197, in _run_module_as_main\n\n  File \"C:\\Users\\ADMIN\\anaconda3\\lib\\runpy.py\", line 87, in _run_code\n\n  File \"C:\\Users\\ADMIN\\anaconda3\\lib\\site-packages\\ipykernel_launcher.py\", line 16, in <module>\n\n  File \"C:\\Users\\ADMIN\\anaconda3\\lib\\site-packages\\traitlets\\config\\application.py\", line 846, in launch_instance\n\n  File \"C:\\Users\\ADMIN\\anaconda3\\lib\\site-packages\\ipykernel\\kernelapp.py\", line 677, in start\n\n  File \"C:\\Users\\ADMIN\\anaconda3\\lib\\site-packages\\tornado\\platform\\asyncio.py\", line 199, in start\n\n  File \"C:\\Users\\ADMIN\\anaconda3\\lib\\asyncio\\base_events.py\", line 601, in run_forever\n\n  File \"C:\\Users\\ADMIN\\anaconda3\\lib\\asyncio\\base_events.py\", line 1905, in _run_once\n\n  File \"C:\\Users\\ADMIN\\anaconda3\\lib\\asyncio\\events.py\", line 80, in _run\n\n  File \"C:\\Users\\ADMIN\\anaconda3\\lib\\site-packages\\ipykernel\\kernelbase.py\", line 471, in dispatch_queue\n\n  File \"C:\\Users\\ADMIN\\anaconda3\\lib\\site-packages\\ipykernel\\kernelbase.py\", line 460, in process_one\n\n  File \"C:\\Users\\ADMIN\\anaconda3\\lib\\site-packages\\ipykernel\\kernelbase.py\", line 367, in dispatch_shell\n\n  File \"C:\\Users\\ADMIN\\anaconda3\\lib\\site-packages\\ipykernel\\kernelbase.py\", line 662, in execute_request\n\n  File \"C:\\Users\\ADMIN\\anaconda3\\lib\\site-packages\\ipykernel\\ipkernel.py\", line 360, in do_execute\n\n  File \"C:\\Users\\ADMIN\\anaconda3\\lib\\site-packages\\ipykernel\\zmqshell.py\", line 532, in run_cell\n\n  File \"C:\\Users\\ADMIN\\anaconda3\\lib\\site-packages\\IPython\\core\\interactiveshell.py\", line 2863, in run_cell\n\n  File \"C:\\Users\\ADMIN\\anaconda3\\lib\\site-packages\\IPython\\core\\interactiveshell.py\", line 2909, in _run_cell\n\n  File \"C:\\Users\\ADMIN\\anaconda3\\lib\\site-packages\\IPython\\core\\async_helpers.py\", line 129, in _pseudo_sync_runner\n\n  File \"C:\\Users\\ADMIN\\anaconda3\\lib\\site-packages\\IPython\\core\\interactiveshell.py\", line 3106, in run_cell_async\n\n  File \"C:\\Users\\ADMIN\\anaconda3\\lib\\site-packages\\IPython\\core\\interactiveshell.py\", line 3309, in run_ast_nodes\n\n  File \"C:\\Users\\ADMIN\\anaconda3\\lib\\site-packages\\IPython\\core\\interactiveshell.py\", line 3369, in run_code\n\n  File \"C:\\Users\\ADMIN\\AppData\\Local\\Temp\\ipykernel_3824\\3833050820.py\", line 2, in <cell line: 2>\n\n  File \"C:\\Users\\ADMIN\\anaconda3\\lib\\site-packages\\keras\\src\\utils\\traceback_utils.py\", line 65, in error_handler\n\n  File \"C:\\Users\\ADMIN\\anaconda3\\lib\\site-packages\\keras\\src\\engine\\training.py\", line 1807, in fit\n\n  File \"C:\\Users\\ADMIN\\anaconda3\\lib\\site-packages\\keras\\src\\engine\\training.py\", line 1401, in train_function\n\n  File \"C:\\Users\\ADMIN\\anaconda3\\lib\\site-packages\\keras\\src\\engine\\training.py\", line 1384, in step_function\n\n  File \"C:\\Users\\ADMIN\\anaconda3\\lib\\site-packages\\keras\\src\\engine\\training.py\", line 1373, in run_step\n\n  File \"C:\\Users\\ADMIN\\anaconda3\\lib\\site-packages\\keras\\src\\engine\\training.py\", line 1151, in train_step\n\n  File \"C:\\Users\\ADMIN\\anaconda3\\lib\\site-packages\\keras\\src\\engine\\training.py\", line 1209, in compute_loss\n\n  File \"C:\\Users\\ADMIN\\anaconda3\\lib\\site-packages\\keras\\src\\engine\\compile_utils.py\", line 277, in __call__\n\n  File \"C:\\Users\\ADMIN\\anaconda3\\lib\\site-packages\\keras\\src\\losses.py\", line 143, in __call__\n\n  File \"C:\\Users\\ADMIN\\anaconda3\\lib\\site-packages\\keras\\src\\losses.py\", line 270, in call\n\n  File \"C:\\Users\\ADMIN\\anaconda3\\lib\\site-packages\\keras\\src\\losses.py\", line 2221, in categorical_crossentropy\n\n  File \"C:\\Users\\ADMIN\\anaconda3\\lib\\site-packages\\keras\\src\\backend.py\", line 5579, in categorical_crossentropy\n\nlogits and labels must be broadcastable: logits_size=[32,10] labels_size=[32,6]\n\t [[{{node categorical_crossentropy/softmax_cross_entropy_with_logits}}]] [Op:__inference_train_function_1187]"
          ]
        }
      ],
      "source": [
        "print(\"Training network...\")\n",
        "H = model_MLP.fit(train_generator, validation_data=valid_generator, epochs=10,\n",
        "batch_size=32)"
      ]
    },
    {
      "cell_type": "code",
      "execution_count": null,
      "id": "25fa3839",
      "metadata": {
        "id": "25fa3839"
      },
      "outputs": [],
      "source": []
    }
  ],
  "metadata": {
    "colab": {
      "collapsed_sections": [
        "-LwwRqrxwMD5"
      ],
      "provenance": []
    },
    "kernelspec": {
      "display_name": "Python 3",
      "name": "python3"
    },
    "language_info": {
      "codemirror_mode": {
        "name": "ipython",
        "version": 3
      },
      "file_extension": ".py",
      "mimetype": "text/x-python",
      "name": "python",
      "nbconvert_exporter": "python",
      "pygments_lexer": "ipython3",
      "version": "3.10.4"
    }
  },
  "nbformat": 4,
  "nbformat_minor": 5
}
